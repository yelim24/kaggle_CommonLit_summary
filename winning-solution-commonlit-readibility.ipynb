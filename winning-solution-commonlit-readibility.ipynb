{
 "cells": [
  {
   "cell_type": "markdown",
   "id": "23b9603a",
   "metadata": {
    "papermill": {
     "duration": 0.017727,
     "end_time": "2023-08-02T17:42:57.023321",
     "exception": false,
     "start_time": "2023-08-02T17:42:57.005594",
     "status": "completed"
    },
    "tags": []
   },
   "source": [
    "# <p style=\"font-family:JetBrains Mono; font-weight:bold; letter-spacing: 2px; color:#FF0000; font-size:140%; text-align:left;padding: 0px; border-bottom: 3px solid #FF0000\">1 | Important Points ✅</p>"
   ]
  },
  {
   "cell_type": "code",
   "execution_count": 1,
   "id": "42a546c2",
   "metadata": {
    "execution": {
     "iopub.execute_input": "2023-08-02T17:42:57.058952Z",
     "iopub.status.busy": "2023-08-02T17:42:57.058584Z",
     "iopub.status.idle": "2023-08-02T17:42:57.070041Z",
     "shell.execute_reply": "2023-08-02T17:42:57.068960Z"
    },
    "papermill": {
     "duration": 0.032142,
     "end_time": "2023-08-02T17:42:57.072630",
     "exception": false,
     "start_time": "2023-08-02T17:42:57.040488",
     "status": "completed"
    },
    "tags": []
   },
   "outputs": [],
   "source": [
    "import warnings\n",
    "warnings.filterwarnings(\"ignore\")"
   ]
  },
  {
   "cell_type": "markdown",
   "id": "cb74e207",
   "metadata": {
    "papermill": {
     "duration": 0.017301,
     "end_time": "2023-08-02T17:42:57.107105",
     "exception": false,
     "start_time": "2023-08-02T17:42:57.089804",
     "status": "completed"
    },
    "tags": []
   },
   "source": [
    "<div style=\"border-radius:10px; border:#FF0000 solid; padding: 15px; background-color: #F3f9ed; font-size:100%; text-align:left\">\n",
    "    \n",
    "<img src = \"https://media.tenor.com/pfcqgFEp2OsAAAAM/welcome.gif\">\n",
    "    \n",
    "Before we move any further there are some `important points` I want to mention to `avoid` any `misunderstanding`\n",
    "* As the title says, this notebook is a `short implimentation` of **1st Prize Solution of [CommonLit Readability Prize](https://www.kaggle.com/c/commonlitreadabilityprize)**, do not get `confused` between the competition names\n",
    "* I have tried to take a `tutorial based approach` for this notebook, which makes this a `little bit larger`. Use the `table of contents` to switch between `different pannels` of the notebook. \n",
    "* The code used here is a small version of the **[mathislucka](https://github.com/mathislucka/kaggle_clrp_1st_place_solution)**"
   ]
  },
  {
   "cell_type": "markdown",
   "id": "a99a58f5",
   "metadata": {
    "papermill": {
     "duration": 0.017489,
     "end_time": "2023-08-02T17:42:57.141812",
     "exception": false,
     "start_time": "2023-08-02T17:42:57.124323",
     "status": "completed"
    },
    "tags": []
   },
   "source": [
    "# <p style=\"font-family:JetBrains Mono; font-weight:bold; letter-spacing: 2px; color:#006600; font-size:140%; text-align:left;padding: 0px; border-bottom: 3px solid #003300\">2 | Basic Terminologies 👋</p>\n",
    "\n",
    "<div style=\"border-radius:10px; border:#DEB887 solid; padding: 15px; background-color: #F3f9ed; font-size:100%; text-align:left\">\n",
    "    \n",
    "<img src = \"https://media.tenor.com/S7X_j7s212kAAAAC/dictionary-simpsons.gif\" width = 300>\n",
    "\n",
    "First lets get through some basic terminologies that are used in the feild\n",
    "* $Tokenization/Embedments$\n",
    "* $Transformers$\n",
    "* $Bidirectional$ $Encoded$ $Representation$ $from$ $Transformers$\n",
    "    \n",
    "## $2.1$ $|$ $Tokenization/Embedments$\n",
    "    \n",
    "Lets assume we have a text like `Gender was the concept introduced by Bathroom companies to sell more Bathrooms`\n",
    "    \n",
    "Lets think that how can we use this `text` as `peice of information` for a digital system. Or in other words. How can we make a `digital system understand this text` \n",
    "    \n",
    "We all know that there $26$, unique alphabets in the `English Language`. Lets assume we are `case-sensetive` and treat `small` and `capital` characters differently, making our known charachters to be $52$, adding special characrers like `. , , , # , {}` and more. Lets assume we reach $70$ characters. \n",
    "    \n",
    "So to crack the problem we had, we map each `distinct character` with a `unique number`. Like for `A` it is $1$, for `B` it is $2$, for `a` to be $27$, and many more. So we kind of mapped our `peice of information` in `numbers`. \n",
    "    \n",
    "In basic terminologies, the \n",
    "\n",
    "|Simple Meaning|Complex Terminology |\n",
    "|---|---|\n",
    "|Universal Set of whole Data|Corpus|\n",
    "|Set of Distinct elements|Vocablury\n",
    "    \n",
    "What we just did was a simple technique called $Bag$ $Of$ $Words$. In this we map each character to a predefined number. One thing to notice here is **Bag of Words do not consider any context**. Bag of words will concider `r` in `racist` and `racer` the same. Just try to remeber this information\n",
    "    \n",
    "Okay so I got an fantastic Idea!!!.\n",
    "\n",
    "Okay so we know that when we `combine characters`, we get `words`. This is called `English Language`. So if we combine the characters `S`/`h`/`r`/`e`/`k`. We will get the word `Shrek`. So the way we know that how many distinct characters are there the `English Language`, what if we somehow get the information of all the distinct `Words` in the `English Language`. Our corpus will increase massively, and so will our size of the `vocublray`. But lets just assume a text (Song **[Choo Lo - The Local Train](https://youtu.be/sFMRqxCexDk)** with English Lyrics)\n",
    "    \n",
    "```\n",
    "I am still standing here today,\n",
    "With hope in my heart.\n",
    "How is this freedom?\n",
    "How is this thirst of the heart?\n",
    "Touch me, whoever you are,\n",
    "I will lose myself day and night.\n",
    "```\n",
    "    \n",
    "Just think a list of numbers representing the `unique characters`/vs, a list of numbers represnting `unique words`. The second list will sure be a smaller one. A smaller list representing the same amount of information will be surely much easier to interpret or apply any mathematical transnformation. The same concept is applied in the **[Sentence Piece by Google](https://github.com/google/sentencepiece)**\n",
    "    \n",
    "But there is a problem with these. The do not retain the contextual meaning of the sentence. Lets assume we have $2$ Sentences like \n",
    "    \n",
    "```\n",
    "Sentence_1 = \"Osama Bin Laden had arms\"\n",
    "Sentence_2 = \"I cut Osama Bin Laden arms\"\n",
    "```\n",
    "Both the sentence contains the word `arms`, but have a very different meaning in both of the Sentence. At first it is in the context of `Weapons` and in other it is in the context of `Hand`. This type of problem is not solved here. \n",
    "    \n",
    "Thats why we use `Neural Networks` to solve this issue. We use different technique like \n",
    "* $Sementic$ $Prediction$\n",
    "* $Next$ $Sentence$ $Prediction$\n",
    "* $Question$ $Answering$\n",
    "\n",
    "to make an Vector Represnetation of Words.\n",
    "    \n",
    "**Wait Wait Wait$!!!$** At `First` we were converting `Words to Numbers`. So now why we are using the `complex word` `Vectors`$...?$ \n",
    "\n",
    "The reason is at `First` we were only `converting words` to **a single number**, but now we are `converting one word` to a `list of numbers`. These numbers try to represent `every possible context` of the word in a corpus. The technique that first used a `Neural Network` is called `Word 2 Vec`. which became very popular. \n",
    "    \n",
    "One thing to notice is that.\n",
    "    \n",
    "* When we are seperating different distinct characters according to the vocablury, we call that `Tokenization`\n",
    "* When we are converting these tokens into numbers, we call that `Embedments`. \n",
    "    \n",
    "Just some wierd word to make us think that $NLP$ is `difficult`.\n",
    "    \n",
    "## $2.2$ $|$ $Transformers$\n",
    "    \n",
    "So `Word 2 Vec` was introduced by `Google` in $2013$ and till then, we have applied different concepts to overcome various difficulties, which include\n",
    "    \n",
    "* $Small$ $Batch$ $Size$\n",
    "* $Small$ $Window$ $Size$\n",
    "* $Small$ $Context$ $Size$\n",
    "* $Large$ $Training$ $Time$\n",
    "* $Less$ $Accuracy$\n",
    "    \n",
    "We introduced different techniques to handle this like $LSTMs$/$GRUs$ and much more, which had their own `cons and pros`. But in $2017$, the whole $NLP$ community was shook, when **[Google](https://i.redd.it/sojit7ho93b31.jpg)** released the paper **[Attention is All You Need](https://arxiv.org/pdf/1706.03762.pdf)**, which introduced a `Neural Network Arcthitecture` called `Trasnformers` to get the embeddings for a corpus. The concept was simple \n",
    "    \n",
    "<img src = \"https://machinelearningmastery.com/wp-content/uploads/2021/08/attention_research_1.png\" width = 400>\n",
    "    \n",
    "\n",
    "Pass the Embeddings to $3$ different `Neural Networks`. Lets for fun call them `Heads` named as `Key`/`Query`/`Value`. These $3$ heads will be reseponsible for different types of information. And then we connect these with a group of different Layers to extract more information. Additionaly to extract information from , we will use a formula $$softmax(\\frac{KQ_T}{\\sqrt{d_k}})$$.\n",
    "\n",
    "Lets seperate this diagram into $2$ parts. \n",
    "* $Encoder$ - `Responsible` for `processing` the `input sequence` and `producing` a `Continuous Representation` of the input. This `representation` is then used by the `decoder` to `generate the output` sequence.\n",
    "\n",
    "The encoder consists of a stack of encoder layers, where each layer is composed of two sublayers:\n",
    "\n",
    "* * $Self-Attention$ $Sublayer$ - This sublayer allows the encoder to `attend to different parts` of the `input sequence` and learn the `relationships between them`.\n",
    "* * $Feed-Forward$ $Sublayer$ - This sublayer applies a `linear transformation` to the `output` of the `self-attention sublayer`, which helps to further refine the representation of the input sequence.\n",
    "\n",
    "* $Decoder$ - The `Decoder` part of a transformer is a `Neural Network Architecture` that is responsible for generating the `output sequence` for `Natural Language Processing tasks`. It takes the `hidden states` generated by the `encoder` and the `previously generated output tokens` as input and uses them to `predict the next output token`.\n",
    "\n",
    "I know this information is kind of wierd at first, but that was the shortest and most to the point I could have gone. The notebook had went really long, if it was from sratch\n",
    "    \n",
    "## $2.3$ $|$ $Bidirectional$ $Encoded$ $Representation$ $from$ $Transformer$ $(BERT)$\n",
    "    \n",
    "$Bidirectional$ $Encoded$ $Representation$ $from$ $Transformer$ $(BERT)$ is like taking the Encoder part of the transformer and stking multiple upon each other. \n",
    "    \n",
    "There is more information on BERT but i think this much information is enough for this notebook"
   ]
  },
  {
   "cell_type": "markdown",
   "id": "347d453d",
   "metadata": {
    "papermill": {
     "duration": 0.016737,
     "end_time": "2023-08-02T17:42:57.175808",
     "exception": false,
     "start_time": "2023-08-02T17:42:57.159071",
     "status": "completed"
    },
    "tags": []
   },
   "source": [
    "# <p style=\"font-family:JetBrains Mono; font-weight:bold; letter-spacing: 2px; color:#00FFFF; font-size:140%; text-align:left;padding: 0px; border-bottom: 3px solid #00FFFF\">3 | Data 📊</p>"
   ]
  },
  {
   "cell_type": "code",
   "execution_count": 2,
   "id": "6aba4392",
   "metadata": {
    "execution": {
     "iopub.execute_input": "2023-08-02T17:42:57.212358Z",
     "iopub.status.busy": "2023-08-02T17:42:57.211972Z",
     "iopub.status.idle": "2023-08-02T17:42:57.216586Z",
     "shell.execute_reply": "2023-08-02T17:42:57.215510Z"
    },
    "papermill": {
     "duration": 0.025845,
     "end_time": "2023-08-02T17:42:57.218756",
     "exception": false,
     "start_time": "2023-08-02T17:42:57.192911",
     "status": "completed"
    },
    "tags": []
   },
   "outputs": [],
   "source": [
    "import pandas as pd "
   ]
  },
  {
   "cell_type": "markdown",
   "id": "8aabf648",
   "metadata": {
    "papermill": {
     "duration": 0.01762,
     "end_time": "2023-08-02T17:42:57.253539",
     "exception": false,
     "start_time": "2023-08-02T17:42:57.235919",
     "status": "completed"
    },
    "tags": []
   },
   "source": [
    "<div style=\"border-radius:10px; border:#00FFFF solid; padding: 15px; background-color: #F3f9ed; font-size:100%; text-align:left\">\n",
    "\n",
    "<img src = \"https://media.tenor.com/Kt00_NI0XegAAAAM/gee-data-entry.gif\" width = 200>\n",
    "\n",
    "Now lets dive into the data\n",
    "\n",
    "We will just focus on `Train`\n",
    "## $3.1$ $|$ $Train$\n",
    " \n",
    "We have our training data in two different directories prompts_train/summaries_train"
   ]
  },
  {
   "cell_type": "code",
   "execution_count": 3,
   "id": "d14120f3",
   "metadata": {
    "execution": {
     "iopub.execute_input": "2023-08-02T17:42:57.289884Z",
     "iopub.status.busy": "2023-08-02T17:42:57.289517Z",
     "iopub.status.idle": "2023-08-02T17:42:57.324582Z",
     "shell.execute_reply": "2023-08-02T17:42:57.323467Z"
    },
    "papermill": {
     "duration": 0.057035,
     "end_time": "2023-08-02T17:42:57.327799",
     "exception": false,
     "start_time": "2023-08-02T17:42:57.270764",
     "status": "completed"
    },
    "tags": []
   },
   "outputs": [
    {
     "data": {
      "text/html": [
       "<div>\n",
       "<style scoped>\n",
       "    .dataframe tbody tr th:only-of-type {\n",
       "        vertical-align: middle;\n",
       "    }\n",
       "\n",
       "    .dataframe tbody tr th {\n",
       "        vertical-align: top;\n",
       "    }\n",
       "\n",
       "    .dataframe thead th {\n",
       "        text-align: right;\n",
       "    }\n",
       "</style>\n",
       "<table border=\"1\" class=\"dataframe\">\n",
       "  <thead>\n",
       "    <tr style=\"text-align: right;\">\n",
       "      <th></th>\n",
       "      <th>prompt_id</th>\n",
       "      <th>prompt_question</th>\n",
       "      <th>prompt_title</th>\n",
       "      <th>prompt_text</th>\n",
       "    </tr>\n",
       "  </thead>\n",
       "  <tbody>\n",
       "    <tr>\n",
       "      <th>0</th>\n",
       "      <td>39c16e</td>\n",
       "      <td>Summarize at least 3 elements of an ideal trag...</td>\n",
       "      <td>On Tragedy</td>\n",
       "      <td>Chapter 13 \\r\\nAs the sequel to what has alrea...</td>\n",
       "    </tr>\n",
       "    <tr>\n",
       "      <th>1</th>\n",
       "      <td>3b9047</td>\n",
       "      <td>In complete sentences, summarize the structure...</td>\n",
       "      <td>Egyptian Social Structure</td>\n",
       "      <td>Egyptian society was structured like a pyramid...</td>\n",
       "    </tr>\n",
       "    <tr>\n",
       "      <th>2</th>\n",
       "      <td>814d6b</td>\n",
       "      <td>Summarize how the Third Wave developed over su...</td>\n",
       "      <td>The Third Wave</td>\n",
       "      <td>Background \\r\\nThe Third Wave experiment took ...</td>\n",
       "    </tr>\n",
       "    <tr>\n",
       "      <th>3</th>\n",
       "      <td>ebad26</td>\n",
       "      <td>Summarize the various ways the factory would u...</td>\n",
       "      <td>Excerpt from The Jungle</td>\n",
       "      <td>With one member trimming beef in a cannery, an...</td>\n",
       "    </tr>\n",
       "  </tbody>\n",
       "</table>\n",
       "</div>"
      ],
      "text/plain": [
       "  prompt_id                                    prompt_question  \\\n",
       "0    39c16e  Summarize at least 3 elements of an ideal trag...   \n",
       "1    3b9047  In complete sentences, summarize the structure...   \n",
       "2    814d6b  Summarize how the Third Wave developed over su...   \n",
       "3    ebad26  Summarize the various ways the factory would u...   \n",
       "\n",
       "                prompt_title  \\\n",
       "0                 On Tragedy   \n",
       "1  Egyptian Social Structure   \n",
       "2             The Third Wave   \n",
       "3    Excerpt from The Jungle   \n",
       "\n",
       "                                         prompt_text  \n",
       "0  Chapter 13 \\r\\nAs the sequel to what has alrea...  \n",
       "1  Egyptian society was structured like a pyramid...  \n",
       "2  Background \\r\\nThe Third Wave experiment took ...  \n",
       "3  With one member trimming beef in a cannery, an...  "
      ]
     },
     "execution_count": 3,
     "metadata": {},
     "output_type": "execute_result"
    }
   ],
   "source": [
    "train_pro = pd.read_csv(\"/kaggle/input/commonlit-evaluate-student-summaries/prompts_train.csv\")\n",
    "train_pro"
   ]
  },
  {
   "cell_type": "markdown",
   "id": "bcc55ab9",
   "metadata": {
    "papermill": {
     "duration": 0.017308,
     "end_time": "2023-08-02T17:42:57.362642",
     "exception": false,
     "start_time": "2023-08-02T17:42:57.345334",
     "status": "completed"
    },
    "tags": []
   },
   "source": [
    "<div style=\"border-radius:10px; border:#00FFFF solid; padding: 15px; background-color: #F3f9ed; font-size:100%; text-align:left\">\n",
    "\n",
    "This file contains the actual text values given by the children as the answers to the prompt"
   ]
  },
  {
   "cell_type": "code",
   "execution_count": 4,
   "id": "4dc369e3",
   "metadata": {
    "execution": {
     "iopub.execute_input": "2023-08-02T17:42:57.399321Z",
     "iopub.status.busy": "2023-08-02T17:42:57.398929Z",
     "iopub.status.idle": "2023-08-02T17:42:57.507044Z",
     "shell.execute_reply": "2023-08-02T17:42:57.506219Z"
    },
    "papermill": {
     "duration": 0.129148,
     "end_time": "2023-08-02T17:42:57.509296",
     "exception": false,
     "start_time": "2023-08-02T17:42:57.380148",
     "status": "completed"
    },
    "tags": []
   },
   "outputs": [
    {
     "data": {
      "text/html": [
       "<div>\n",
       "<style scoped>\n",
       "    .dataframe tbody tr th:only-of-type {\n",
       "        vertical-align: middle;\n",
       "    }\n",
       "\n",
       "    .dataframe tbody tr th {\n",
       "        vertical-align: top;\n",
       "    }\n",
       "\n",
       "    .dataframe thead th {\n",
       "        text-align: right;\n",
       "    }\n",
       "</style>\n",
       "<table border=\"1\" class=\"dataframe\">\n",
       "  <thead>\n",
       "    <tr style=\"text-align: right;\">\n",
       "      <th></th>\n",
       "      <th>student_id</th>\n",
       "      <th>prompt_id</th>\n",
       "      <th>text</th>\n",
       "      <th>content</th>\n",
       "      <th>wording</th>\n",
       "    </tr>\n",
       "  </thead>\n",
       "  <tbody>\n",
       "    <tr>\n",
       "      <th>0</th>\n",
       "      <td>000e8c3c7ddb</td>\n",
       "      <td>814d6b</td>\n",
       "      <td>The third wave was an experimentto see how peo...</td>\n",
       "      <td>0.205683</td>\n",
       "      <td>0.380538</td>\n",
       "    </tr>\n",
       "    <tr>\n",
       "      <th>1</th>\n",
       "      <td>0020ae56ffbf</td>\n",
       "      <td>ebad26</td>\n",
       "      <td>They would rub it up with soda to make the sme...</td>\n",
       "      <td>-0.548304</td>\n",
       "      <td>0.506755</td>\n",
       "    </tr>\n",
       "    <tr>\n",
       "      <th>2</th>\n",
       "      <td>004e978e639e</td>\n",
       "      <td>3b9047</td>\n",
       "      <td>In Egypt, there were many occupations and soci...</td>\n",
       "      <td>3.128928</td>\n",
       "      <td>4.231226</td>\n",
       "    </tr>\n",
       "    <tr>\n",
       "      <th>3</th>\n",
       "      <td>005ab0199905</td>\n",
       "      <td>3b9047</td>\n",
       "      <td>The highest class was Pharaohs these people we...</td>\n",
       "      <td>-0.210614</td>\n",
       "      <td>-0.471415</td>\n",
       "    </tr>\n",
       "    <tr>\n",
       "      <th>4</th>\n",
       "      <td>0070c9e7af47</td>\n",
       "      <td>814d6b</td>\n",
       "      <td>The Third Wave developed  rapidly because the ...</td>\n",
       "      <td>3.272894</td>\n",
       "      <td>3.219757</td>\n",
       "    </tr>\n",
       "  </tbody>\n",
       "</table>\n",
       "</div>"
      ],
      "text/plain": [
       "     student_id prompt_id                                               text  \\\n",
       "0  000e8c3c7ddb    814d6b  The third wave was an experimentto see how peo...   \n",
       "1  0020ae56ffbf    ebad26  They would rub it up with soda to make the sme...   \n",
       "2  004e978e639e    3b9047  In Egypt, there were many occupations and soci...   \n",
       "3  005ab0199905    3b9047  The highest class was Pharaohs these people we...   \n",
       "4  0070c9e7af47    814d6b  The Third Wave developed  rapidly because the ...   \n",
       "\n",
       "    content   wording  \n",
       "0  0.205683  0.380538  \n",
       "1 -0.548304  0.506755  \n",
       "2  3.128928  4.231226  \n",
       "3 -0.210614 -0.471415  \n",
       "4  3.272894  3.219757  "
      ]
     },
     "execution_count": 4,
     "metadata": {},
     "output_type": "execute_result"
    }
   ],
   "source": [
    "train_sum = pd.read_csv(\"/kaggle/input/commonlit-evaluate-student-summaries/summaries_train.csv\")\n",
    "train_sum.head()"
   ]
  },
  {
   "cell_type": "markdown",
   "id": "4334c94a",
   "metadata": {
    "papermill": {
     "duration": 0.017476,
     "end_time": "2023-08-02T17:42:57.544567",
     "exception": false,
     "start_time": "2023-08-02T17:42:57.527091",
     "status": "completed"
    },
    "tags": []
   },
   "source": [
    "# <p style=\"font-family:JetBrains Mono; font-weight:bold; letter-spacing: 2px; color:#800080; font-size:140%; text-align:left;padding: 0px; border-bottom: 3px solid #800080\">4 | Data Preperations 📄️</p>"
   ]
  },
  {
   "cell_type": "code",
   "execution_count": 5,
   "id": "528f9239",
   "metadata": {
    "execution": {
     "iopub.execute_input": "2023-08-02T17:42:57.581697Z",
     "iopub.status.busy": "2023-08-02T17:42:57.581281Z",
     "iopub.status.idle": "2023-08-02T17:42:58.742228Z",
     "shell.execute_reply": "2023-08-02T17:42:58.741137Z"
    },
    "papermill": {
     "duration": 1.183334,
     "end_time": "2023-08-02T17:42:58.745502",
     "exception": false,
     "start_time": "2023-08-02T17:42:57.562168",
     "status": "completed"
    },
    "tags": []
   },
   "outputs": [],
   "source": [
    "import os\n",
    "import tqdm\n",
    "from sklearn.model_selection import StratifiedKFold"
   ]
  },
  {
   "cell_type": "markdown",
   "id": "8da3ac47",
   "metadata": {
    "papermill": {
     "duration": 0.018042,
     "end_time": "2023-08-02T17:42:58.781945",
     "exception": false,
     "start_time": "2023-08-02T17:42:58.763903",
     "status": "completed"
    },
    "tags": []
   },
   "source": [
    "<div style=\"border-radius:10px; border:#800080 solid; padding: 15px; background-color: #F3f9ed; font-size:100%; text-align:left\">\n",
    "    \n",
    "<img src = \"https://media.tenor.com/WzdSD7u8TWcAAAAM/beprepared-lionking.gif\" width = 300>\n",
    "\n",
    "We will first combine the $2$ dataframes to get the actual `Training Set`"
   ]
  },
  {
   "cell_type": "code",
   "execution_count": 6,
   "id": "a0f1a219",
   "metadata": {
    "execution": {
     "iopub.execute_input": "2023-08-02T17:42:58.820938Z",
     "iopub.status.busy": "2023-08-02T17:42:58.820081Z",
     "iopub.status.idle": "2023-08-02T17:42:58.855510Z",
     "shell.execute_reply": "2023-08-02T17:42:58.854432Z"
    },
    "papermill": {
     "duration": 0.057774,
     "end_time": "2023-08-02T17:42:58.857884",
     "exception": false,
     "start_time": "2023-08-02T17:42:58.800110",
     "status": "completed"
    },
    "tags": []
   },
   "outputs": [
    {
     "data": {
      "text/html": [
       "<div>\n",
       "<style scoped>\n",
       "    .dataframe tbody tr th:only-of-type {\n",
       "        vertical-align: middle;\n",
       "    }\n",
       "\n",
       "    .dataframe tbody tr th {\n",
       "        vertical-align: top;\n",
       "    }\n",
       "\n",
       "    .dataframe thead th {\n",
       "        text-align: right;\n",
       "    }\n",
       "</style>\n",
       "<table border=\"1\" class=\"dataframe\">\n",
       "  <thead>\n",
       "    <tr style=\"text-align: right;\">\n",
       "      <th></th>\n",
       "      <th>prompt_id</th>\n",
       "      <th>prompt_question</th>\n",
       "      <th>prompt_title</th>\n",
       "      <th>prompt_text</th>\n",
       "      <th>student_id</th>\n",
       "      <th>text</th>\n",
       "      <th>content</th>\n",
       "      <th>wording</th>\n",
       "    </tr>\n",
       "  </thead>\n",
       "  <tbody>\n",
       "    <tr>\n",
       "      <th>0</th>\n",
       "      <td>39c16e</td>\n",
       "      <td>Summarize at least 3 elements of an ideal trag...</td>\n",
       "      <td>On Tragedy</td>\n",
       "      <td>Chapter 13 \\r\\nAs the sequel to what has alrea...</td>\n",
       "      <td>00791789cc1f</td>\n",
       "      <td>1 element of an ideal tragedy is that it shoul...</td>\n",
       "      <td>-0.210614</td>\n",
       "      <td>-0.471415</td>\n",
       "    </tr>\n",
       "    <tr>\n",
       "      <th>1</th>\n",
       "      <td>39c16e</td>\n",
       "      <td>Summarize at least 3 elements of an ideal trag...</td>\n",
       "      <td>On Tragedy</td>\n",
       "      <td>Chapter 13 \\r\\nAs the sequel to what has alrea...</td>\n",
       "      <td>0086ef22de8f</td>\n",
       "      <td>The three elements of an ideal tragedy are:  H...</td>\n",
       "      <td>-0.970237</td>\n",
       "      <td>-0.417058</td>\n",
       "    </tr>\n",
       "    <tr>\n",
       "      <th>2</th>\n",
       "      <td>39c16e</td>\n",
       "      <td>Summarize at least 3 elements of an ideal trag...</td>\n",
       "      <td>On Tragedy</td>\n",
       "      <td>Chapter 13 \\r\\nAs the sequel to what has alrea...</td>\n",
       "      <td>0094589c7a22</td>\n",
       "      <td>Aristotle states that an ideal tragedy should ...</td>\n",
       "      <td>-0.387791</td>\n",
       "      <td>-0.584181</td>\n",
       "    </tr>\n",
       "    <tr>\n",
       "      <th>3</th>\n",
       "      <td>39c16e</td>\n",
       "      <td>Summarize at least 3 elements of an ideal trag...</td>\n",
       "      <td>On Tragedy</td>\n",
       "      <td>Chapter 13 \\r\\nAs the sequel to what has alrea...</td>\n",
       "      <td>00cd5736026a</td>\n",
       "      <td>One element of an Ideal tragedy is having a co...</td>\n",
       "      <td>0.088882</td>\n",
       "      <td>-0.594710</td>\n",
       "    </tr>\n",
       "    <tr>\n",
       "      <th>4</th>\n",
       "      <td>39c16e</td>\n",
       "      <td>Summarize at least 3 elements of an ideal trag...</td>\n",
       "      <td>On Tragedy</td>\n",
       "      <td>Chapter 13 \\r\\nAs the sequel to what has alrea...</td>\n",
       "      <td>00d98b8ff756</td>\n",
       "      <td>The 3 ideal of tragedy is how complex you need...</td>\n",
       "      <td>-0.687288</td>\n",
       "      <td>-0.460886</td>\n",
       "    </tr>\n",
       "  </tbody>\n",
       "</table>\n",
       "</div>"
      ],
      "text/plain": [
       "  prompt_id                                    prompt_question prompt_title  \\\n",
       "0    39c16e  Summarize at least 3 elements of an ideal trag...   On Tragedy   \n",
       "1    39c16e  Summarize at least 3 elements of an ideal trag...   On Tragedy   \n",
       "2    39c16e  Summarize at least 3 elements of an ideal trag...   On Tragedy   \n",
       "3    39c16e  Summarize at least 3 elements of an ideal trag...   On Tragedy   \n",
       "4    39c16e  Summarize at least 3 elements of an ideal trag...   On Tragedy   \n",
       "\n",
       "                                         prompt_text    student_id  \\\n",
       "0  Chapter 13 \\r\\nAs the sequel to what has alrea...  00791789cc1f   \n",
       "1  Chapter 13 \\r\\nAs the sequel to what has alrea...  0086ef22de8f   \n",
       "2  Chapter 13 \\r\\nAs the sequel to what has alrea...  0094589c7a22   \n",
       "3  Chapter 13 \\r\\nAs the sequel to what has alrea...  00cd5736026a   \n",
       "4  Chapter 13 \\r\\nAs the sequel to what has alrea...  00d98b8ff756   \n",
       "\n",
       "                                                text   content   wording  \n",
       "0  1 element of an ideal tragedy is that it shoul... -0.210614 -0.471415  \n",
       "1  The three elements of an ideal tragedy are:  H... -0.970237 -0.417058  \n",
       "2  Aristotle states that an ideal tragedy should ... -0.387791 -0.584181  \n",
       "3  One element of an Ideal tragedy is having a co...  0.088882 -0.594710  \n",
       "4  The 3 ideal of tragedy is how complex you need... -0.687288 -0.460886  "
      ]
     },
     "execution_count": 6,
     "metadata": {},
     "output_type": "execute_result"
    }
   ],
   "source": [
    "train = train_pro.merge(train_sum , on = \"prompt_id\")\n",
    "train.head()"
   ]
  },
  {
   "cell_type": "markdown",
   "id": "1d35b1f8",
   "metadata": {
    "papermill": {
     "duration": 0.018785,
     "end_time": "2023-08-02T17:42:58.894856",
     "exception": false,
     "start_time": "2023-08-02T17:42:58.876071",
     "status": "completed"
    },
    "tags": []
   },
   "source": [
    "<div style=\"border-radius:10px; border:#800080 solid; padding: 15px; background-color: #F3f9ed; font-size:100%; text-align:left\">\n",
    "\n",
    "## Overview\n",
    "```\n",
    "Perform stratified k-fold cross-validation\n",
    "Split into 5 folds\n",
    "Create directories to store the training and validation sets for each fold.\n",
    "```\n",
    "## Steps\n",
    "### Create bins and folds\n",
    "```\n",
    "train[\"bins\"] = pd.cut(train[\"content\"] , n_bags , labels = [i for i in range(n_bags)])\n",
    "train[\"fold\"] = 0\n",
    "```\n",
    "### Stratified K Fold Cross Validation\n",
    "```\n",
    "skf = StratifiedKFold(n_splits = 5 , shuffle = True)\n",
    "gen_skf = skf.split(train[\"student_id\"] , y = train[\"bins\"])\n",
    "```\n",
    "### Update with each iteration\n",
    "```\n",
    "for index , (train_idx , val_idx) in tqdm.tqdm(enumerate(gen_skf) , total = 5):\n",
    "\n",
    "    train[\"fold\"][val_idx] = index\n",
    "```\n",
    "### Frame creation and saving\n",
    "```\n",
    "os.makedirs(\"/kaggle/working/Pseudo Dir/K Folds/Folds/Train\")\n",
    "os.makedirs(\"/kaggle/working/Pseudo Dir/K Folds/Val\")\n",
    "\n",
    "for fold in tqdm.tqdm(range(n_bags) , total = n_bags):\n",
    "\n",
    "    sample_train = train[train[\"fold\"] != fold]\n",
    "    sample_val = train[train[\"fold\"] == fold]\n",
    "\n",
    "    sample_train.to_csv(\"/kaggle/working/Pseudo Dir/K Folds/Folds/Train/Train_\" + str(fold) + \".csv\")\n",
    "    sample_train.to_csv(\"/kaggle/working/Pseudo Dir/K Folds/Val/Val_\" + str(fold) + \".csv\")\n",
    "```"
   ]
  },
  {
   "cell_type": "code",
   "execution_count": 7,
   "id": "8531cff7",
   "metadata": {
    "execution": {
     "iopub.execute_input": "2023-08-02T17:42:58.934043Z",
     "iopub.status.busy": "2023-08-02T17:42:58.933293Z",
     "iopub.status.idle": "2023-08-02T17:42:58.941863Z",
     "shell.execute_reply": "2023-08-02T17:42:58.940575Z"
    },
    "papermill": {
     "duration": 0.031054,
     "end_time": "2023-08-02T17:42:58.944766",
     "exception": false,
     "start_time": "2023-08-02T17:42:58.913712",
     "status": "completed"
    },
    "tags": []
   },
   "outputs": [],
   "source": [
    "def bootstrap(n_bags):\n",
    "    \n",
    "    train[\"bins\"] = pd.cut(train[\"content\"] , n_bags , labels = [i for i in range(n_bags)])\n",
    "    train[\"fold\"] = 0\n",
    "\n",
    "    skf = StratifiedKFold(n_splits = 5 , shuffle = True)\n",
    "    gen_skf = skf.split(train[\"student_id\"] , y = train[\"bins\"])\n",
    "\n",
    "    for index , (train_idx , val_idx) in enumerate(gen_skf):\n",
    "\n",
    "        train[\"fold\"][val_idx] = index\n",
    "        \n",
    "    os.makedirs(\"/kaggle/working/Pseudo Dir/K Folds/Folds/Train\")\n",
    "\n",
    "    for fold in tqdm.tqdm(range(n_bags) , total = n_bags):\n",
    "\n",
    "        sample_train = train[train[\"fold\"] != fold]\n",
    "\n",
    "        sample_train.to_csv(\"/kaggle/working/Pseudo Dir/K Folds/Folds/Train/Train_\" + str(fold) + \".csv\")\n"
   ]
  },
  {
   "cell_type": "code",
   "execution_count": 8,
   "id": "43baaae4",
   "metadata": {
    "_kg_hide-output": true,
    "execution": {
     "iopub.execute_input": "2023-08-02T17:42:58.983868Z",
     "iopub.status.busy": "2023-08-02T17:42:58.983453Z",
     "iopub.status.idle": "2023-08-02T17:43:07.521740Z",
     "shell.execute_reply": "2023-08-02T17:43:07.520691Z"
    },
    "papermill": {
     "duration": 8.560818,
     "end_time": "2023-08-02T17:43:07.524230",
     "exception": false,
     "start_time": "2023-08-02T17:42:58.963412",
     "status": "completed"
    },
    "tags": []
   },
   "outputs": [
    {
     "name": "stderr",
     "output_type": "stream",
     "text": [
      "100%|██████████| 6/6 [00:08<00:00,  1.42s/it]\n"
     ]
    }
   ],
   "source": [
    "bootstrap(n_bags = 6)"
   ]
  },
  {
   "cell_type": "markdown",
   "id": "417f64e3",
   "metadata": {
    "papermill": {
     "duration": 0.01866,
     "end_time": "2023-08-02T17:43:07.562752",
     "exception": false,
     "start_time": "2023-08-02T17:43:07.544092",
     "status": "completed"
    },
    "tags": []
   },
   "source": [
    "# <p style=\"font-family:JetBrains Mono; font-weight:bold; letter-spacing: 2px; color:#FFC0CB; font-size:140%; text-align:left;padding: 0px; border-bottom: 3px solid #FFC0CB\">5 | Tokenization 🔱</p>"
   ]
  },
  {
   "cell_type": "code",
   "execution_count": 9,
   "id": "f1f2d62c",
   "metadata": {
    "execution": {
     "iopub.execute_input": "2023-08-02T17:43:07.601932Z",
     "iopub.status.busy": "2023-08-02T17:43:07.601524Z",
     "iopub.status.idle": "2023-08-02T17:43:09.811458Z",
     "shell.execute_reply": "2023-08-02T17:43:09.810063Z"
    },
    "papermill": {
     "duration": 2.232791,
     "end_time": "2023-08-02T17:43:09.814397",
     "exception": false,
     "start_time": "2023-08-02T17:43:07.581606",
     "status": "completed"
    },
    "tags": []
   },
   "outputs": [],
   "source": [
    "from transformers import AutoTokenizer\n",
    "import numpy as np"
   ]
  },
  {
   "cell_type": "markdown",
   "id": "f6ed6d7f",
   "metadata": {
    "papermill": {
     "duration": 0.019124,
     "end_time": "2023-08-02T17:43:09.852675",
     "exception": false,
     "start_time": "2023-08-02T17:43:09.833551",
     "status": "completed"
    },
    "tags": []
   },
   "source": [
    "<div style=\"border-radius:10px; border:#FFC0CB solid; padding: 15px; background-color: #F3f9ed; font-size:100%; text-align:left\">\n",
    "    \n",
    "<img src = \"https://kratikal.com/blog/wp-content/uploads/2022/01/tokens-image.png\" width = 400>\n",
    "\n",
    "## $RoBERTa$  \n",
    "\n",
    "$RoBERTa$ $Robustly$ $Optimized$ $BERT$ $Pretraining$ $Approach$ is a $Natural$ $Language$ $Processing$ $Model$ that was introduced in the paper **[RoBERTa: A Robustly Optimized BERT Pretraining Approach](https://arxiv.org/pdf/1907.11692.pdf)** by `Yinhan Liu` et al. in $2019$. It is based on the $BERT$ $Model$, but it makes a number of modifications to the pretraining procedure that improve its performance.\n",
    "\n",
    "One of the key differences between $RoBERTa$ and $BERT$ is that $RoBERTa$ uses a `larger batch size` and a `higher learning rate` during pretraining. This allows $RoBERTa$ to learn `more effectively` from the training data. Additionally, $RoBERTa$ removes the `next sentence prediction task` from the pretraining procedure. This task was originally used in BERT to help the model learn the relationship between sentences, but $RoBERTa$ found that it was `not necessary` for `good performance`.\n",
    "\n",
    "$RoBERTa$ has been shown to outperform $BERT$ on a number of $Natural$ $Language$ $Processing$ $Tasks$, including \n",
    "* $Question$ $Answering$\n",
    "* $Natural$ $Language$ $Inference$\n",
    "* $Text$ $Summarization$\n",
    "\n",
    "<img src = \"https://www.researchgate.net/publication/352642553/figure/fig2/AS:1037416861282304@1624350862022/The-RoBERTa-model-architecture.ppm\" width = 400>"
   ]
  },
  {
   "cell_type": "code",
   "execution_count": 10,
   "id": "ae027b51",
   "metadata": {
    "execution": {
     "iopub.execute_input": "2023-08-02T17:43:09.892410Z",
     "iopub.status.busy": "2023-08-02T17:43:09.891792Z",
     "iopub.status.idle": "2023-08-02T17:43:15.242876Z",
     "shell.execute_reply": "2023-08-02T17:43:15.241588Z"
    },
    "papermill": {
     "duration": 5.374471,
     "end_time": "2023-08-02T17:43:15.245904",
     "exception": false,
     "start_time": "2023-08-02T17:43:09.871433",
     "status": "completed"
    },
    "tags": []
   },
   "outputs": [
    {
     "data": {
      "application/vnd.jupyter.widget-view+json": {
       "model_id": "16a5af7652d44b86a68e72ac9821ac50",
       "version_major": 2,
       "version_minor": 0
      },
      "text/plain": [
       "Downloading (…)lve/main/config.json:   0%|          | 0.00/481 [00:00<?, ?B/s]"
      ]
     },
     "metadata": {},
     "output_type": "display_data"
    },
    {
     "data": {
      "application/vnd.jupyter.widget-view+json": {
       "model_id": "fa5e63ee1c534b57aec2499cb23c764a",
       "version_major": 2,
       "version_minor": 0
      },
      "text/plain": [
       "Downloading (…)olve/main/vocab.json:   0%|          | 0.00/899k [00:00<?, ?B/s]"
      ]
     },
     "metadata": {},
     "output_type": "display_data"
    },
    {
     "data": {
      "application/vnd.jupyter.widget-view+json": {
       "model_id": "b0ab5419d34a4ecfbbf4a4924f27cb13",
       "version_major": 2,
       "version_minor": 0
      },
      "text/plain": [
       "Downloading (…)olve/main/merges.txt:   0%|          | 0.00/456k [00:00<?, ?B/s]"
      ]
     },
     "metadata": {},
     "output_type": "display_data"
    },
    {
     "data": {
      "application/vnd.jupyter.widget-view+json": {
       "model_id": "01662797d8194476bb3d0280a5d9921e",
       "version_major": 2,
       "version_minor": 0
      },
      "text/plain": [
       "Downloading (…)/main/tokenizer.json:   0%|          | 0.00/1.36M [00:00<?, ?B/s]"
      ]
     },
     "metadata": {},
     "output_type": "display_data"
    },
    {
     "data": {
      "text/plain": [
       "RobertaTokenizerFast(name_or_path='roberta-base', vocab_size=50265, model_max_length=512, is_fast=True, padding_side='right', truncation_side='right', special_tokens={'bos_token': '<s>', 'eos_token': '</s>', 'unk_token': '<unk>', 'sep_token': '</s>', 'pad_token': '<pad>', 'cls_token': '<s>', 'mask_token': AddedToken(\"<mask>\", rstrip=False, lstrip=True, single_word=False, normalized=False)}, clean_up_tokenization_spaces=True)"
      ]
     },
     "execution_count": 10,
     "metadata": {},
     "output_type": "execute_result"
    }
   ],
   "source": [
    "tokenizer = AutoTokenizer.from_pretrained(\"roberta-base\")\n",
    "tokenizer"
   ]
  },
  {
   "cell_type": "markdown",
   "id": "0ca32bde",
   "metadata": {
    "papermill": {
     "duration": 0.01978,
     "end_time": "2023-08-02T17:43:15.285765",
     "exception": false,
     "start_time": "2023-08-02T17:43:15.265985",
     "status": "completed"
    },
    "tags": []
   },
   "source": [
    "<div style=\"border-radius:10px; border:#FFC0CB solid; padding: 15px; background-color: #F3f9ed; font-size:100%; text-align:left\">\n",
    "\n",
    "If we send a sample text like \n",
    "```\n",
    "Your dreams are shining in the darkness. There is a intoxication in your eyes, You are in my dreams, in the answers, in the questions, Every day, I steal you in my thoughts\n",
    "```"
   ]
  },
  {
   "cell_type": "code",
   "execution_count": 11,
   "id": "7a70b5f1",
   "metadata": {
    "execution": {
     "iopub.execute_input": "2023-08-02T17:43:15.329420Z",
     "iopub.status.busy": "2023-08-02T17:43:15.328791Z",
     "iopub.status.idle": "2023-08-02T17:43:15.348627Z",
     "shell.execute_reply": "2023-08-02T17:43:15.347791Z"
    },
    "papermill": {
     "duration": 0.043436,
     "end_time": "2023-08-02T17:43:15.350715",
     "exception": false,
     "start_time": "2023-08-02T17:43:15.307279",
     "status": "completed"
    },
    "tags": []
   },
   "outputs": [
    {
     "data": {
      "text/plain": [
       "array([[    0, 12861,  7416,    32, 21003,    11,     5, 15073,     4,\n",
       "          345,    16,    10, 34205,    11,   110,  2473,     6,   370,\n",
       "           32,    11,   127,  7416,     6,    11,     5,  5274,     6,\n",
       "           11,     5,  1142,     6,  4337,   183,     6,    38,  8052,\n",
       "           47,    11,   127,  4312,     2]])"
      ]
     },
     "execution_count": 11,
     "metadata": {},
     "output_type": "execute_result"
    }
   ],
   "source": [
    "tokenizer(\"Your dreams are shining in the darkness. There is a intoxication in your eyes, You are in my dreams, in the answers, in the questions, Every day, I steal you in my thoughts\" , return_tensors = \"np\")[\"input_ids\"]"
   ]
  },
  {
   "cell_type": "markdown",
   "id": "e081e94c",
   "metadata": {
    "papermill": {
     "duration": 0.019429,
     "end_time": "2023-08-02T17:43:15.389922",
     "exception": false,
     "start_time": "2023-08-02T17:43:15.370493",
     "status": "completed"
    },
    "tags": []
   },
   "source": [
    "<div style=\"border-radius:10px; border:#FFC0CB solid; padding: 15px; background-color: #F3f9ed; font-size:100%; text-align:left\">\n",
    "\n",
    "Lets for now just focus on the train Folder"
   ]
  },
  {
   "cell_type": "code",
   "execution_count": 12,
   "id": "ad808e18",
   "metadata": {
    "execution": {
     "iopub.execute_input": "2023-08-02T17:43:15.434020Z",
     "iopub.status.busy": "2023-08-02T17:43:15.432821Z",
     "iopub.status.idle": "2023-08-02T17:43:15.439616Z",
     "shell.execute_reply": "2023-08-02T17:43:15.437967Z"
    },
    "papermill": {
     "duration": 0.032661,
     "end_time": "2023-08-02T17:43:15.442471",
     "exception": false,
     "start_time": "2023-08-02T17:43:15.409810",
     "status": "completed"
    },
    "tags": []
   },
   "outputs": [],
   "source": [
    "os.makedirs(\"/kaggle/working/Pseudo Dir/Embeds\")"
   ]
  },
  {
   "cell_type": "code",
   "execution_count": 13,
   "id": "71e47618",
   "metadata": {
    "execution": {
     "iopub.execute_input": "2023-08-02T17:43:15.484348Z",
     "iopub.status.busy": "2023-08-02T17:43:15.483693Z",
     "iopub.status.idle": "2023-08-02T17:45:43.352390Z",
     "shell.execute_reply": "2023-08-02T17:45:43.351194Z"
    },
    "papermill": {
     "duration": 147.893034,
     "end_time": "2023-08-02T17:45:43.355275",
     "exception": false,
     "start_time": "2023-08-02T17:43:15.462241",
     "status": "completed"
    },
    "tags": []
   },
   "outputs": [
    {
     "name": "stderr",
     "output_type": "stream",
     "text": [
      "  0%|          | 0/5732 [00:00<?, ?it/s]Token indices sequence length is longer than the specified maximum sequence length for this model (841 > 512). Running this sequence through the model will result in indexing errors\n",
      "100%|██████████| 5732/5732 [00:22<00:00, 257.54it/s]\n",
      "100%|██████████| 5732/5732 [00:23<00:00, 243.70it/s]\n",
      "100%|██████████| 5732/5732 [00:23<00:00, 248.66it/s]\n",
      "100%|██████████| 5732/5732 [00:23<00:00, 244.69it/s]\n",
      "100%|██████████| 5732/5732 [00:23<00:00, 244.36it/s]\n",
      "100%|██████████| 7165/7165 [00:29<00:00, 244.85it/s]\n"
     ]
    }
   ],
   "source": [
    "for bag in range(6):\n",
    "    \n",
    "    train = pd.read_csv(\"/kaggle/working/Pseudo Dir/K Folds/Folds/Train/Train_\" + str(bag) + \".csv\")\n",
    "    tokens = np.empty(shape = train.shape[0] , dtype = np.ndarray)\n",
    "    \n",
    "    for index in tqdm.tqdm(range(train.shape[0]) , total = train.shape[0]):\n",
    "        \n",
    "        stri = \"\"\n",
    "        \n",
    "        for column in [\"prompt_question\" , \"prompt_title\" , \"prompt_text\" , \"text\"]:\n",
    "            \n",
    "            stri += str(train[column][index])\n",
    "            \n",
    "        token = tokenizer(stri , return_tensors = \"np\")[\"input_ids\"]\n",
    "        \n",
    "        tokens[index] = token\n",
    "        \n",
    "    np.save(\"/kaggle/working/Pseudo Dir/Embeds/Embeds_\" + str(bag) , tokens)"
   ]
  },
  {
   "cell_type": "markdown",
   "id": "ee4d3254",
   "metadata": {
    "papermill": {
     "duration": 0.141246,
     "end_time": "2023-08-02T17:45:43.640374",
     "exception": false,
     "start_time": "2023-08-02T17:45:43.499128",
     "status": "completed"
    },
    "tags": []
   },
   "source": [
    "# <p style=\"font-family:JetBrains Mono; font-weight:bold; letter-spacing: 2px; color:#00FFFF; font-size:140%; text-align:left;padding: 0px; border-bottom: 3px solid #00FFFF\">6 | DataLoader 📂</p>"
   ]
  },
  {
   "cell_type": "code",
   "execution_count": 14,
   "id": "e638b8fc",
   "metadata": {
    "execution": {
     "iopub.execute_input": "2023-08-02T17:45:43.927185Z",
     "iopub.status.busy": "2023-08-02T17:45:43.926800Z",
     "iopub.status.idle": "2023-08-02T17:45:47.286280Z",
     "shell.execute_reply": "2023-08-02T17:45:47.285321Z"
    },
    "papermill": {
     "duration": 3.506941,
     "end_time": "2023-08-02T17:45:47.289310",
     "exception": false,
     "start_time": "2023-08-02T17:45:43.782369",
     "status": "completed"
    },
    "tags": []
   },
   "outputs": [],
   "source": [
    "import numpy as np\n",
    "import torch\n",
    "from torch.utils.data import Dataset"
   ]
  },
  {
   "cell_type": "markdown",
   "id": "8452d5d2",
   "metadata": {
    "papermill": {
     "duration": 0.145995,
     "end_time": "2023-08-02T17:45:47.581573",
     "exception": false,
     "start_time": "2023-08-02T17:45:47.435578",
     "status": "completed"
    },
    "tags": []
   },
   "source": [
    "<div style=\"border-radius:10px; border:#00FFFF solid; padding: 15px; background-color: #F3f9ed; font-size:100%; text-align:left\">\n",
    "\n",
    "<img src = \"https://jacobwgillespie.com/from-rest-to-graphql-3.jpg\" width = 400>\n",
    "    \n",
    "Now we will make a Data Loader class that will load datasets in particular batch sizes for the training of the model"
   ]
  },
  {
   "cell_type": "markdown",
   "id": "9bd41e3e",
   "metadata": {
    "papermill": {
     "duration": 0.144141,
     "end_time": "2023-08-02T17:45:47.869296",
     "exception": false,
     "start_time": "2023-08-02T17:45:47.725155",
     "status": "completed"
    },
    "tags": []
   },
   "source": [
    "<div style=\"border-radius:10px; border:#00FFFF solid; padding: 15px; background-color: #F3f9ed; font-size:100%; text-align:left\">\n",
    "\n",
    "Lets first make a simple class"
   ]
  },
  {
   "cell_type": "code",
   "execution_count": 15,
   "id": "d93c743b",
   "metadata": {
    "execution": {
     "iopub.execute_input": "2023-08-02T17:45:48.158573Z",
     "iopub.status.busy": "2023-08-02T17:45:48.157355Z",
     "iopub.status.idle": "2023-08-02T17:45:48.162797Z",
     "shell.execute_reply": "2023-08-02T17:45:48.161979Z"
    },
    "papermill": {
     "duration": 0.153094,
     "end_time": "2023-08-02T17:45:48.165214",
     "exception": false,
     "start_time": "2023-08-02T17:45:48.012120",
     "status": "completed"
    },
    "tags": []
   },
   "outputs": [],
   "source": [
    "class load_train(Dataset):pass"
   ]
  },
  {
   "cell_type": "markdown",
   "id": "4b7b0631",
   "metadata": {
    "papermill": {
     "duration": 0.143513,
     "end_time": "2023-08-02T17:45:48.453829",
     "exception": false,
     "start_time": "2023-08-02T17:45:48.310316",
     "status": "completed"
    },
    "tags": []
   },
   "source": [
    "<div style=\"border-radius:10px; border:#00FFFF solid; padding: 15px; background-color: #F3f9ed; font-size:100%; text-align:left\">\n",
    "\n",
    "Now lets make the `constructor`, our constructor will take $2$ `Directories` to load `specific folds` of `training`/`val` data"
   ]
  },
  {
   "cell_type": "code",
   "execution_count": 16,
   "id": "86c7dec8",
   "metadata": {
    "execution": {
     "iopub.execute_input": "2023-08-02T17:45:48.743305Z",
     "iopub.status.busy": "2023-08-02T17:45:48.742199Z",
     "iopub.status.idle": "2023-08-02T17:45:48.749419Z",
     "shell.execute_reply": "2023-08-02T17:45:48.748578Z"
    },
    "papermill": {
     "duration": 0.154851,
     "end_time": "2023-08-02T17:45:48.751857",
     "exception": false,
     "start_time": "2023-08-02T17:45:48.597006",
     "status": "completed"
    },
    "tags": []
   },
   "outputs": [],
   "source": [
    "class load_train(Dataset):\n",
    "    \n",
    "    def __init__(self , x_train_dir , y_train_dir , target_type = \"content\"):\n",
    "        \n",
    "        y = pd.read_csv(y_train_dir)\n",
    "        \n",
    "        self.x_train = np.load(x_train_dir , allow_pickle = True)\n",
    "        \n",
    "        if target_type == \"content\":self.y_train = y[\"content\"]\n",
    "        if target_type == \"wording\":self.y_train = y[\"wording\"]       "
   ]
  },
  {
   "cell_type": "markdown",
   "id": "3a718865",
   "metadata": {
    "papermill": {
     "duration": 0.143136,
     "end_time": "2023-08-02T17:45:49.037911",
     "exception": false,
     "start_time": "2023-08-02T17:45:48.894775",
     "status": "completed"
    },
    "tags": []
   },
   "source": [
    "<div style=\"border-radius:10px; border:#00FFFF solid; padding: 15px; background-color: #F3f9ed; font-size:100%; text-align:left\">\n",
    "\n",
    "Now we will just add some getters to the class"
   ]
  },
  {
   "cell_type": "code",
   "execution_count": 17,
   "id": "caf6dce5",
   "metadata": {
    "execution": {
     "iopub.execute_input": "2023-08-02T17:45:49.330673Z",
     "iopub.status.busy": "2023-08-02T17:45:49.329858Z",
     "iopub.status.idle": "2023-08-02T17:45:49.338599Z",
     "shell.execute_reply": "2023-08-02T17:45:49.337778Z"
    },
    "papermill": {
     "duration": 0.159457,
     "end_time": "2023-08-02T17:45:49.341000",
     "exception": false,
     "start_time": "2023-08-02T17:45:49.181543",
     "status": "completed"
    },
    "tags": []
   },
   "outputs": [],
   "source": [
    "class load_train(Dataset):\n",
    "    \n",
    "    def __init__(self , x_train_dir , y_train_dir , target_type = \"content\"):\n",
    "        \n",
    "        y = pd.read_csv(y_train_dir)\n",
    "        \n",
    "        self.x_train = np.load(x_train_dir , allow_pickle = True)\n",
    "        \n",
    "        if target_type == \"content\":self.y_train = y[\"content\"]\n",
    "        if target_type == \"wording\":self.y_train = y[\"wording\"]  \n",
    "            \n",
    "    def __len__(self) : return self.x_train.shape[0]\n",
    "    \n",
    "    def __getitem__(self , index):\n",
    "        \n",
    "        r_embed = torch.tensor(self.x_train[index] , dtype = torch.long)\n",
    "        r_target = torch.tensor(self.y_train[index] , dtype = torch.long)\n",
    "        \n",
    "        return r_embed , r_target"
   ]
  },
  {
   "cell_type": "code",
   "execution_count": 18,
   "id": "729e0c33",
   "metadata": {
    "execution": {
     "iopub.execute_input": "2023-08-02T17:45:49.631432Z",
     "iopub.status.busy": "2023-08-02T17:45:49.631028Z",
     "iopub.status.idle": "2023-08-02T17:45:49.635351Z",
     "shell.execute_reply": "2023-08-02T17:45:49.634242Z"
    },
    "papermill": {
     "duration": 0.151555,
     "end_time": "2023-08-02T17:45:49.637656",
     "exception": false,
     "start_time": "2023-08-02T17:45:49.486101",
     "status": "completed"
    },
    "tags": []
   },
   "outputs": [],
   "source": [
    "# train = load_train(x_train_dir = \"/kaggle/working/Pseudo Dir/Embeds/Embeds_0.npy\" , \n",
    "#                   y_train_dir = \"/kaggle/working/Pseudo Dir/K Folds/Folds/Train/Train_5.csv\")\n",
    "\n",
    "# train_dataset = torch.utils.data.DataLoader(train , shuffle = True , batch_size = 1)"
   ]
  },
  {
   "cell_type": "markdown",
   "id": "408675b6",
   "metadata": {
    "papermill": {
     "duration": 0.14277,
     "end_time": "2023-08-02T17:45:49.993463",
     "exception": false,
     "start_time": "2023-08-02T17:45:49.850693",
     "status": "completed"
    },
    "tags": []
   },
   "source": [
    "# <p style=\"font-family:JetBrains Mono; font-weight:bold; letter-spacing: 2px; color:#8B8000; font-size:140%; text-align:left;padding: 0px; border-bottom: 3px solid #8B8000\">7 | Model Setup 🔨</p>\n",
    "\n",
    "<div style=\"border-radius:10px; border:#FFFF00 solid; padding: 15px; background-color: #F3f9ed; font-size:100%; text-align:left\">\n",
    "    \n",
    "<img src = \"https://media.tenor.com/LSGLIqVIbPQAAAAC/deep-learning.gif\" width = 400>\n",
    "    \n",
    "This time we will be training multiple models\n",
    "\n",
    "* $AlBERT$ $XX$ $Large$ $V2$\n",
    "* $DeBERTa$ $Large$ "
   ]
  },
  {
   "cell_type": "code",
   "execution_count": 19,
   "id": "66989674",
   "metadata": {
    "execution": {
     "iopub.execute_input": "2023-08-02T17:45:50.283082Z",
     "iopub.status.busy": "2023-08-02T17:45:50.282306Z",
     "iopub.status.idle": "2023-08-02T17:45:50.304559Z",
     "shell.execute_reply": "2023-08-02T17:45:50.303483Z"
    },
    "papermill": {
     "duration": 0.170617,
     "end_time": "2023-08-02T17:45:50.307369",
     "exception": false,
     "start_time": "2023-08-02T17:45:50.136752",
     "status": "completed"
    },
    "tags": []
   },
   "outputs": [],
   "source": [
    "from transformers import AutoConfig , AutoModelForSequenceClassification\n",
    "import torch "
   ]
  },
  {
   "cell_type": "markdown",
   "id": "25fa048c",
   "metadata": {
    "papermill": {
     "duration": 0.144457,
     "end_time": "2023-08-02T17:45:50.596497",
     "exception": false,
     "start_time": "2023-08-02T17:45:50.452040",
     "status": "completed"
    },
    "tags": []
   },
   "source": [
    "<div style=\"border-radius:10px; border:#FFFF00 solid; padding: 15px; background-color: #F3f9ed; font-size:100%; text-align:left\"> \n",
    "    \n",
    "## $7.1$ $|$ $AlBERT$ $XX$ $Large$ $V2$\n",
    "    \n",
    "$Albert$ $XX$ $Large$ $v2$ is a $Large$ $Language$ $Model$ $(LLM)$ that has been `pretrained` on a `massive corpus` of `English Data`. It was introduced in the paper **[ALBERT: A Lite BERT for Self-supervised Learning of Language Representations](https://arxiv.org/pdf/1909.11942.pdf)** by `Lan` et al. $2019$.\n",
    "\n",
    "$Albert$ $XX$ $Large$ $v2$ is a $Masked$ $Language$ $Modeling$ $(MLM)$ model, which means that it was `trained` to `predict masked words` in a sentence. This type of `training` helps the model to `learn the relationships` between `words` in a sentence, which makes it better at understanding and generating text. $Albert$ $XX$ $Large$ $v2$ has a $137B$ `parameter size`, which makes it one of the $largest$ $LLMs$ available. It is also uncased, which means that it does not make a difference between the words \"english\" and \"English\". $Albert$ $XX$ $Large$ $v2$ can be used for a variety of $Natural$ $Language$ $Processing$ $(NLP)$ tasks, including:\n",
    "* $Question$ $Answering$\n",
    "* $Machine$ $Translation$\n",
    "* $Text$ $Summarization$\n",
    "* $Text$ $Classification$\n",
    "* $Natural$ $Language$ $Inference$"
   ]
  },
  {
   "cell_type": "code",
   "execution_count": 20,
   "id": "49e09062",
   "metadata": {
    "_kg_hide-output": true,
    "execution": {
     "iopub.execute_input": "2023-08-02T17:45:50.885673Z",
     "iopub.status.busy": "2023-08-02T17:45:50.884999Z",
     "iopub.status.idle": "2023-08-02T17:46:00.763018Z",
     "shell.execute_reply": "2023-08-02T17:46:00.761797Z"
    },
    "papermill": {
     "duration": 10.024949,
     "end_time": "2023-08-02T17:46:00.765817",
     "exception": false,
     "start_time": "2023-08-02T17:45:50.740868",
     "status": "completed"
    },
    "tags": []
   },
   "outputs": [
    {
     "data": {
      "application/vnd.jupyter.widget-view+json": {
       "model_id": "31d65f0ae29148d5ab288b932ed4bb98",
       "version_major": 2,
       "version_minor": 0
      },
      "text/plain": [
       "Downloading (…)lve/main/config.json:   0%|          | 0.00/684 [00:00<?, ?B/s]"
      ]
     },
     "metadata": {},
     "output_type": "display_data"
    },
    {
     "data": {
      "application/vnd.jupyter.widget-view+json": {
       "model_id": "3e370565a60c4925ae597fd608b1e65c",
       "version_major": 2,
       "version_minor": 0
      },
      "text/plain": [
       "Downloading model.safetensors:   0%|          | 0.00/47.4M [00:00<?, ?B/s]"
      ]
     },
     "metadata": {},
     "output_type": "display_data"
    },
    {
     "name": "stderr",
     "output_type": "stream",
     "text": [
      "Some weights of the model checkpoint at albert-base-v2 were not used when initializing AlbertForSequenceClassification: ['predictions.LayerNorm.weight', 'predictions.dense.weight', 'predictions.bias', 'predictions.dense.bias', 'predictions.decoder.bias', 'predictions.LayerNorm.bias']\n",
      "- This IS expected if you are initializing AlbertForSequenceClassification from the checkpoint of a model trained on another task or with another architecture (e.g. initializing a BertForSequenceClassification model from a BertForPreTraining model).\n",
      "- This IS NOT expected if you are initializing AlbertForSequenceClassification from the checkpoint of a model that you expect to be exactly identical (initializing a BertForSequenceClassification model from a BertForSequenceClassification model).\n",
      "Some weights of AlbertForSequenceClassification were not initialized from the model checkpoint at albert-base-v2 and are newly initialized: ['classifier.weight', 'classifier.bias']\n",
      "You should probably TRAIN this model on a down-stream task to be able to use it for predictions and inference.\n"
     ]
    }
   ],
   "source": [
    "model = AutoModelForSequenceClassification.from_pretrained(\"albert-base-v2\", num_labels = 1)"
   ]
  },
  {
   "cell_type": "markdown",
   "id": "2c5405c6",
   "metadata": {
    "papermill": {
     "duration": 0.143516,
     "end_time": "2023-08-02T17:46:01.057240",
     "exception": false,
     "start_time": "2023-08-02T17:46:00.913724",
     "status": "completed"
    },
    "tags": []
   },
   "source": [
    "<div style=\"border-radius:10px; border:#FFFF00 solid; padding: 15px; background-color: #F3f9ed; font-size:100%; text-align:left\"> \n",
    "\n",
    "## $7.2$ $|$ $DebERTa$ $Large$\n",
    "    \n",
    "$DeBERTa$ $Large$ is a $Large$ $Language$ $Model$ $(LLM)$ that was proposed in the paper **[DeBERTa: Decoding-enhanced BERT with Disentangled Attention](https://arxiv.org/pdf/2006.03654.pdf)** by `Pengcheng He`/`Xiaodong Liu`/`Jianfeng Gao`/`Weizhu Chen`. It is based on the $BERT$ $Model$, but it introduces two `key improvements`:\n",
    "* $Disentangled$ $Attention$ - This technique `separates` the `attention mechanism` into two components\n",
    "* * One that attends to the `content of words`, \n",
    "* * One that attends to their `relative positions`. \n",
    "\n",
    "This allows the model to learn more about the meaning of words and their relationships to each other.\n",
    "* $Enhanced$ $Mask$ $Decoder$ - This technique replaces the `output` `softmax layer` in $BERT$ with a `decoder` that `predicts the masked tokens`. This allows the model to `learn better representations` of `masked tokens`, which can `improve` its `performance` on downstream tasks."
   ]
  },
  {
   "cell_type": "code",
   "execution_count": 21,
   "id": "0b7e9ce6",
   "metadata": {
    "_kg_hide-output": true,
    "execution": {
     "iopub.execute_input": "2023-08-02T17:46:01.349746Z",
     "iopub.status.busy": "2023-08-02T17:46:01.348987Z",
     "iopub.status.idle": "2023-08-02T17:46:27.605675Z",
     "shell.execute_reply": "2023-08-02T17:46:27.604723Z"
    },
    "papermill": {
     "duration": 26.406266,
     "end_time": "2023-08-02T17:46:27.608361",
     "exception": false,
     "start_time": "2023-08-02T17:46:01.202095",
     "status": "completed"
    },
    "tags": []
   },
   "outputs": [
    {
     "data": {
      "application/vnd.jupyter.widget-view+json": {
       "model_id": "1d0b39042270441b9388532407b0df83",
       "version_major": 2,
       "version_minor": 0
      },
      "text/plain": [
       "Downloading (…)lve/main/config.json:   0%|          | 0.00/475 [00:00<?, ?B/s]"
      ]
     },
     "metadata": {},
     "output_type": "display_data"
    },
    {
     "data": {
      "application/vnd.jupyter.widget-view+json": {
       "model_id": "0029f09bed434e538997b331cd50f628",
       "version_major": 2,
       "version_minor": 0
      },
      "text/plain": [
       "Downloading pytorch_model.bin:   0%|          | 0.00/1.63G [00:00<?, ?B/s]"
      ]
     },
     "metadata": {},
     "output_type": "display_data"
    },
    {
     "name": "stderr",
     "output_type": "stream",
     "text": [
      "Some weights of the model checkpoint at microsoft/deberta-large were not used when initializing DebertaForSequenceClassification: ['lm_predictions.lm_head.LayerNorm.bias', 'lm_predictions.lm_head.LayerNorm.weight', 'lm_predictions.lm_head.bias', 'lm_predictions.lm_head.dense.bias', 'lm_predictions.lm_head.dense.weight']\n",
      "- This IS expected if you are initializing DebertaForSequenceClassification from the checkpoint of a model trained on another task or with another architecture (e.g. initializing a BertForSequenceClassification model from a BertForPreTraining model).\n",
      "- This IS NOT expected if you are initializing DebertaForSequenceClassification from the checkpoint of a model that you expect to be exactly identical (initializing a BertForSequenceClassification model from a BertForSequenceClassification model).\n",
      "Some weights of DebertaForSequenceClassification were not initialized from the model checkpoint at microsoft/deberta-large and are newly initialized: ['classifier.bias', 'pooler.dense.weight', 'classifier.weight', 'pooler.dense.bias']\n",
      "You should probably TRAIN this model on a down-stream task to be able to use it for predictions and inference.\n"
     ]
    }
   ],
   "source": [
    "model = AutoModelForSequenceClassification.from_pretrained(\"microsoft/deberta-large\", num_labels = 1)"
   ]
  },
  {
   "cell_type": "markdown",
   "id": "6957a572",
   "metadata": {
    "papermill": {
     "duration": 0.15876,
     "end_time": "2023-08-02T17:46:27.916119",
     "exception": false,
     "start_time": "2023-08-02T17:46:27.757359",
     "status": "completed"
    },
    "tags": []
   },
   "source": [
    "<div style=\"border-radius:10px; border:#FFFF00 solid; padding: 15px; background-color: #F3f9ed; font-size:100%; text-align:left\"> \n",
    "\n",
    "## $7.3$ $|$ $RoBERTa$ $Large$\n",
    "\n",
    "$RoBERTa$ $Large$ is a $Large$ $Language$ $Model$ $(LLM)$ that was `introduced` in the paper **[RoBERTa: A Robustly Optimized BERT Pretraining Approach](https://arxiv.org/pdf/1907.11692.pdf)**. It is a `re-implementation` of the $BERT$ $Model$ that makes a `number of changes` to improve its performance.\n",
    "\n",
    "One of the main changes that $RoBERTa$ makes is to use a `different masking strategy`. In $BERT$, $15$% of the `words` in a sentence are `randomly masked`, and the `model` is then `trained to predict` the `masked words`. $RoBERTa$, on the `other hand`, uses a more `sophisticated` `masking strategy` that takes into account the context of the `masked words`. This helps the `model` to learn better `representations` of `words and their relationships`.\n",
    "\n",
    "Another change that $RoBERTa$ makes is to use a `different training objective`. In $BERT$, the model is `trained to predict` the `masked words` and the `next sentence` in a sequence. $RoBERTa$, on the other hand, is only `trained to predict the masked` words. This helps the model to focus on `learning the representations` of words and their relationships, and it also makes the model more robust to noise in the data."
   ]
  },
  {
   "cell_type": "code",
   "execution_count": 22,
   "id": "0405dad1",
   "metadata": {
    "execution": {
     "iopub.execute_input": "2023-08-02T17:46:28.239056Z",
     "iopub.status.busy": "2023-08-02T17:46:28.238459Z",
     "iopub.status.idle": "2023-08-02T17:46:49.275278Z",
     "shell.execute_reply": "2023-08-02T17:46:49.274316Z"
    },
    "papermill": {
     "duration": 21.192264,
     "end_time": "2023-08-02T17:46:49.277818",
     "exception": false,
     "start_time": "2023-08-02T17:46:28.085554",
     "status": "completed"
    },
    "tags": []
   },
   "outputs": [
    {
     "data": {
      "application/vnd.jupyter.widget-view+json": {
       "model_id": "c82eef54ceba40dba885e751722c96fc",
       "version_major": 2,
       "version_minor": 0
      },
      "text/plain": [
       "Downloading (…)lve/main/config.json:   0%|          | 0.00/482 [00:00<?, ?B/s]"
      ]
     },
     "metadata": {},
     "output_type": "display_data"
    },
    {
     "data": {
      "application/vnd.jupyter.widget-view+json": {
       "model_id": "43577dd76cb84234832227bda782dbc6",
       "version_major": 2,
       "version_minor": 0
      },
      "text/plain": [
       "Downloading model.safetensors:   0%|          | 0.00/1.42G [00:00<?, ?B/s]"
      ]
     },
     "metadata": {},
     "output_type": "display_data"
    },
    {
     "name": "stderr",
     "output_type": "stream",
     "text": [
      "Some weights of the model checkpoint at roberta-large were not used when initializing RobertaForSequenceClassification: ['lm_head.dense.bias', 'lm_head.dense.weight', 'lm_head.layer_norm.weight', 'lm_head.layer_norm.bias', 'lm_head.bias']\n",
      "- This IS expected if you are initializing RobertaForSequenceClassification from the checkpoint of a model trained on another task or with another architecture (e.g. initializing a BertForSequenceClassification model from a BertForPreTraining model).\n",
      "- This IS NOT expected if you are initializing RobertaForSequenceClassification from the checkpoint of a model that you expect to be exactly identical (initializing a BertForSequenceClassification model from a BertForSequenceClassification model).\n",
      "Some weights of RobertaForSequenceClassification were not initialized from the model checkpoint at roberta-large and are newly initialized: ['classifier.out_proj.bias', 'classifier.dense.bias', 'classifier.out_proj.weight', 'classifier.dense.weight']\n",
      "You should probably TRAIN this model on a down-stream task to be able to use it for predictions and inference.\n"
     ]
    }
   ],
   "source": [
    "model = AutoModelForSequenceClassification.from_pretrained(\"roberta-large\", num_labels = 1)"
   ]
  },
  {
   "cell_type": "markdown",
   "id": "2781cb21",
   "metadata": {
    "papermill": {
     "duration": 0.155917,
     "end_time": "2023-08-02T17:46:49.591667",
     "exception": false,
     "start_time": "2023-08-02T17:46:49.435750",
     "status": "completed"
    },
    "tags": []
   },
   "source": [
    "<div style=\"border-radius:10px; border:#FFFF00 solid; padding: 15px; background-color: #F3f9ed; font-size:100%; text-align:left\">\n",
    "    \n",
    "## $7.4$ $|$ $ELECTRA$\n",
    "\n",
    "`Famous tradition architechtures` like $BERT$/$GPT$/$T5$/$XLNET$, use the method of `Masked Language Modelling` $(MLM)$, which `corrupts` the `input randomly` $(10-20)$% putting a `mask` on the `words` and ask the `model` to `predict` the `masked words`. This type of `training objective` is `expensive` as the `network only learns` around $15$% from `each token`\n",
    "\n",
    "$Efficiently$ $Learning$ $Encoder$ $Classifies$ $Token$ $Replecements$ $Accurately$ $(ELECTRA)$ uses the `same concept`, but with a `little tweek`. Instead of masking the words, the `words` are `replaced` by `another corrupt word`, and asked to `predict wether a given word` was `replaced`/`not`\n",
    "\n",
    "This technique not only `decreases` the `parameter count` but also `increase` the `accuracy`.\n",
    "\n",
    "This type of architechture can be compared to a $Generative$ $Adverserial$ $Networks$ $(GANs)$ where a $Generator$\n",
    " is a `seperate` $Neural$ $Network$ that tries to `make false samples` and $Discriminator$, another $NN$ is trained to `predict` if those are `real`/`fake`.\n",
    "\n",
    " A key difference between $GANs$ and $ELECTRA$ is the size of $Discriminator$/$Generator$. Whereas in $GANs$ both the models are of `same size`, in $ELECTRA$ the $Generator$ is basically a smaller version of $Discriminator$. This was made on purpose as, if not done, would take $2$ as much time as $BERT$.\n",
    "\n",
    " $Generater$/$Discriminitor$ also share $Embedding$ $Wegihts$, which further `decreases` the number of `Trainable Parameters`"
   ]
  },
  {
   "cell_type": "markdown",
   "id": "7782f7ef",
   "metadata": {
    "papermill": {
     "duration": 0.152211,
     "end_time": "2023-08-02T17:46:49.893777",
     "exception": false,
     "start_time": "2023-08-02T17:46:49.741566",
     "status": "completed"
    },
    "tags": []
   },
   "source": [
    "# <p style=\"font-family:JetBrains Mono; font-weight:bold; letter-spacing: 2px; color:#FFA500; font-size:140%; text-align:left;padding: 0px; border-bottom: 3px solid #FFA500\">8 | Training Arguments 💾</p>"
   ]
  },
  {
   "cell_type": "code",
   "execution_count": 23,
   "id": "535bb87b",
   "metadata": {
    "execution": {
     "iopub.execute_input": "2023-08-02T17:46:50.194505Z",
     "iopub.status.busy": "2023-08-02T17:46:50.193793Z",
     "iopub.status.idle": "2023-08-02T17:46:50.199304Z",
     "shell.execute_reply": "2023-08-02T17:46:50.198488Z"
    },
    "papermill": {
     "duration": 0.154909,
     "end_time": "2023-08-02T17:46:50.201802",
     "exception": false,
     "start_time": "2023-08-02T17:46:50.046893",
     "status": "completed"
    },
    "tags": []
   },
   "outputs": [],
   "source": [
    "import torch.nn as nn"
   ]
  },
  {
   "cell_type": "markdown",
   "id": "447a5d86",
   "metadata": {
    "papermill": {
     "duration": 0.147129,
     "end_time": "2023-08-02T17:46:50.497269",
     "exception": false,
     "start_time": "2023-08-02T17:46:50.350140",
     "status": "completed"
    },
    "tags": []
   },
   "source": [
    "<div style=\"border-radius:10px; border:#FFA500 solid; padding: 15px; background-color: #F3f9ed; font-size:100%; text-align:left\">\n",
    "    \n",
    "<img src = \"https://media.tenor.com/EmowQvINECIAAAAM/taylor-armstrong-smudge-cat.gif\" width = 300>\n",
    "\n",
    "## $8.1$ $|$ $Loss$ $Function$\n",
    "    \n",
    "As we have a Regression Task, it is best to use $Mean$ $Squared$ $Loss$ $(MSE Loss)$"
   ]
  },
  {
   "cell_type": "code",
   "execution_count": 24,
   "id": "6bbd970f",
   "metadata": {
    "execution": {
     "iopub.execute_input": "2023-08-02T17:46:50.791125Z",
     "iopub.status.busy": "2023-08-02T17:46:50.790462Z",
     "iopub.status.idle": "2023-08-02T17:46:50.796046Z",
     "shell.execute_reply": "2023-08-02T17:46:50.794452Z"
    },
    "papermill": {
     "duration": 0.155247,
     "end_time": "2023-08-02T17:46:50.798346",
     "exception": false,
     "start_time": "2023-08-02T17:46:50.643099",
     "status": "completed"
    },
    "tags": []
   },
   "outputs": [],
   "source": [
    "loss_func = nn.MSELoss()"
   ]
  },
  {
   "cell_type": "markdown",
   "id": "2cc40bd0",
   "metadata": {
    "papermill": {
     "duration": 0.144243,
     "end_time": "2023-08-02T17:46:51.152306",
     "exception": false,
     "start_time": "2023-08-02T17:46:51.008063",
     "status": "completed"
    },
    "tags": []
   },
   "source": [
    "<div style=\"border-radius:10px; border:#FFA500 solid; padding: 15px; background-color: #F3f9ed; font-size:100%; text-align:left\">\n",
    "\n",
    "## $8.2$ $|$ $Optimizer$\n",
    "\n",
    "As we are training multiple models. It is normal to choose different hyperparams as well. \n",
    "* $AlBERT$ $XX$ $Large$ $V2$\n",
    "* $DeBERTa$ $Large$\n",
    "* $RoBERTa$ $Large$"
   ]
  },
  {
   "cell_type": "code",
   "execution_count": 25,
   "id": "eb2e3de7",
   "metadata": {
    "execution": {
     "iopub.execute_input": "2023-08-02T17:46:51.444107Z",
     "iopub.status.busy": "2023-08-02T17:46:51.443169Z",
     "iopub.status.idle": "2023-08-02T17:46:51.450671Z",
     "shell.execute_reply": "2023-08-02T17:46:51.449859Z"
    },
    "papermill": {
     "duration": 0.155567,
     "end_time": "2023-08-02T17:46:51.452753",
     "exception": false,
     "start_time": "2023-08-02T17:46:51.297186",
     "status": "completed"
    },
    "tags": []
   },
   "outputs": [],
   "source": [
    "optimizer = torch.optim.AdamW(model.parameters() , lr  = 9e-6)"
   ]
  },
  {
   "cell_type": "markdown",
   "id": "864d6cbd",
   "metadata": {
    "papermill": {
     "duration": 0.145925,
     "end_time": "2023-08-02T17:46:51.746921",
     "exception": false,
     "start_time": "2023-08-02T17:46:51.600996",
     "status": "completed"
    },
    "tags": []
   },
   "source": [
    "# <p style=\"font-family:JetBrains Mono; font-weight:bold; letter-spacing: 2px; color:#00FFFF; font-size:140%; text-align:left;padding: 0px; border-bottom: 3px solid #00FFFF\">9 | Training Loop 💽</p>\n",
    "\n",
    "<div style=\"border-radius:10px; border:#00FFFF solid; padding: 15px; background-color: #F3f9ed; font-size:100%; text-align:left\">\n",
    "    \n",
    "<img src = \"https://programmerhumor.io/wp-content/uploads/2022/10/programmerhumor-io-programming-memes-8dfe737e6fb797b-758x757.jpg\" width = 400>\n",
    "\n",
    "Now lets intialize the training loop\n",
    "    \n",
    "I cannot use `Kaggle GPU` due to some reason, thats why I am importing the results from `Wandb`. Below is the code I used \n",
    "    \n",
    "## $9.1$ $|$ $AlBERT$ $XX$ $Large$ $V2$\n",
    "    \n",
    "Takes around $30-36$ $Minutes$ , $5-6$ $Minutes$ for each fold\n",
    "    \n",
    "## $9.2$ $|$ $DeBERTa$ $Large$\n",
    "\n",
    "Takes around $2$ $Hours$, $20$ $Minutes$ for each fold\n",
    "   \n",
    "## $9.3$ $|$ $RoBERTa$ $Large$\n",
    "    \n",
    "Takes around $1.2$ $Hours$, $14$ $Minutes$ for each fold\n",
    "    \n",
    "## $9.4$ $|$ $ELECTRA$\n",
    "    \n",
    "Takse around $12$ $Minutes$, $2$ $Minutes$ for each fold\n",
    "```\n",
    "wandb.watch(model , loss_func)\n",
    "\n",
    "for fold in range(6):\n",
    "\n",
    "    torch.cuda.empty_cache()\n",
    "\n",
    "    x_train_dir = \"/kaggle/working/Pseudo Dir/Embeds/Embeds_\" + str(fold) + \".npy\"\n",
    "    y_train_dir = \"/kaggle/working/Pseudo_Dir/K Folds/Folds/Train/Train_\" + str(fold) + \".csv\"\n",
    "\n",
    "    train = load_train(x_train_dir = x_train_dir , \n",
    "                       y_train_dir = y_train_dir)\n",
    "\n",
    "    train_d = torch.utils.data.DataLoader(train , shuffle = True , batch_size = 1)\n",
    "\n",
    "    torch.cuda.empty_cache()\n",
    "\n",
    "    for x , y in tqdm.tqdm(train_d , total = len(train_d)):\n",
    "\n",
    "        torch.cuda.empty_cache()\n",
    "\n",
    "        x = x[0][: , :512]\n",
    "        x = torch.clip(x , min = 0 , max = 29999).to(\"cuda\")\n",
    "        y = y.to(\"cuda\")\n",
    "\n",
    "        pred = model(x).logits\n",
    "\n",
    "        loss = loss_func(pred , y)\n",
    "\n",
    "        wandb.log({\"loss\": loss})\n",
    "\n",
    "        # loss.backwar()\n",
    "\n",
    "        optimizer.step()\n",
    "\n",
    "        torch.cuda.empty_cache()\n",
    "```"
   ]
  },
  {
   "cell_type": "markdown",
   "id": "c0065cfd",
   "metadata": {
    "papermill": {
     "duration": 0.14547,
     "end_time": "2023-08-02T17:46:52.037272",
     "exception": false,
     "start_time": "2023-08-02T17:46:51.891802",
     "status": "completed"
    },
    "tags": []
   },
   "source": [
    "# <p style=\"font-family:JetBrains Mono; font-weight:bold; letter-spacing: 2px; color:#00FFFF; font-size:140%; text-align:left;padding: 0px; border-bottom: 3px solid #00FFFF\">10 | Results 🏆</p>\n",
    "\n",
    "<div style=\"border-radius:10px; border:#00FFFF solid; padding: 15px; background-color: #F3f9ed; font-size:100%; text-align:left\">\n",
    "\n",
    "<img src = \"https://media.tenor.com/xoVXud0uxOgAAAAC/miracle-miracle-miracle.gif\">"
   ]
  },
  {
   "cell_type": "code",
   "execution_count": 26,
   "id": "2dbfeff4",
   "metadata": {
    "execution": {
     "iopub.execute_input": "2023-08-02T17:46:52.329201Z",
     "iopub.status.busy": "2023-08-02T17:46:52.328343Z",
     "iopub.status.idle": "2023-08-02T17:46:52.332847Z",
     "shell.execute_reply": "2023-08-02T17:46:52.332021Z"
    },
    "papermill": {
     "duration": 0.153462,
     "end_time": "2023-08-02T17:46:52.334919",
     "exception": false,
     "start_time": "2023-08-02T17:46:52.181457",
     "status": "completed"
    },
    "tags": []
   },
   "outputs": [],
   "source": [
    "from IPython.display import IFrame"
   ]
  },
  {
   "cell_type": "markdown",
   "id": "def65c85",
   "metadata": {
    "papermill": {
     "duration": 0.152207,
     "end_time": "2023-08-02T17:46:52.632417",
     "exception": false,
     "start_time": "2023-08-02T17:46:52.480210",
     "status": "completed"
    },
    "tags": []
   },
   "source": [
    "<div style=\"border-radius:10px; border:#00FFFF solid; padding: 15px; background-color: #F3f9ed; font-size:100%; text-align:left\">\n",
    "    \n",
    "Lets see how our model performed over the data \n",
    "\n",
    "## $10.1$ $|$ $AlBERT$ $XX$ $Large$ $V2$\n",
    "    \n",
    "loss\t▁▂▂▁▁▁▁▁▁▁▁▅▂▁▁▂█▁▁▁▆▁▁▆▁▁▁▁▁▂▁▅▃▁▁▁▁▆▁▆\n",
    "\n",
    "loss\t0.10674"
   ]
  },
  {
   "cell_type": "code",
   "execution_count": 27,
   "id": "cb4d3e5e",
   "metadata": {
    "_kg_hide-input": true,
    "_kg_hide-output": false,
    "execution": {
     "iopub.execute_input": "2023-08-02T17:46:52.926035Z",
     "iopub.status.busy": "2023-08-02T17:46:52.925216Z",
     "iopub.status.idle": "2023-08-02T17:46:52.932409Z",
     "shell.execute_reply": "2023-08-02T17:46:52.931269Z"
    },
    "papermill": {
     "duration": 0.156071,
     "end_time": "2023-08-02T17:46:52.934531",
     "exception": false,
     "start_time": "2023-08-02T17:46:52.778460",
     "status": "completed"
    },
    "tags": []
   },
   "outputs": [
    {
     "data": {
      "text/html": [
       "\n",
       "        <iframe\n",
       "            width=\"1000\"\n",
       "            height=\"400\"\n",
       "            src=\"https://wandb.ai//ayushsinghal659/Winning%20Solution%20%7C%20CommonLit/reports/AlBERT-XX-Large-V2-CommonLit--Vmlldzo0OTIxMzUx\"\n",
       "            frameborder=\"0\"\n",
       "            allowfullscreen\n",
       "            \n",
       "        ></iframe>\n",
       "        "
      ],
      "text/plain": [
       "<IPython.lib.display.IFrame at 0x7daecdddccd0>"
      ]
     },
     "execution_count": 27,
     "metadata": {},
     "output_type": "execute_result"
    }
   ],
   "source": [
    "IFrame(\"https://wandb.ai//ayushsinghal659/Winning%20Solution%20%7C%20CommonLit/reports/AlBERT-XX-Large-V2-CommonLit--Vmlldzo0OTIxMzUx\" , 1000 , 400)"
   ]
  },
  {
   "cell_type": "markdown",
   "id": "850bce1d",
   "metadata": {
    "papermill": {
     "duration": 0.146405,
     "end_time": "2023-08-02T17:46:53.227395",
     "exception": false,
     "start_time": "2023-08-02T17:46:53.080990",
     "status": "completed"
    },
    "tags": []
   },
   "source": [
    "<div style=\"border-radius:10px; border:#00FFFF solid; padding: 15px; background-color: #F3f9ed; font-size:100%; text-align:left\">\n",
    "\n",
    "## $10.2$ $|$ $DeBERTa$ $Large$\n",
    "\n",
    "loss\t▆▁▁▁▁█▁▁▁▁▁▃▁▃▃▁▁▁▁▁▁▇▇▇▁▁▃▁▁▁▁▁▂▁▁▁▃▁▁▂\n",
    "\n",
    "loss\t0.09022"
   ]
  },
  {
   "cell_type": "code",
   "execution_count": 28,
   "id": "d933a48e",
   "metadata": {
    "_kg_hide-input": true,
    "execution": {
     "iopub.execute_input": "2023-08-02T17:46:53.520367Z",
     "iopub.status.busy": "2023-08-02T17:46:53.519713Z",
     "iopub.status.idle": "2023-08-02T17:46:53.527154Z",
     "shell.execute_reply": "2023-08-02T17:46:53.526065Z"
    },
    "papermill": {
     "duration": 0.157008,
     "end_time": "2023-08-02T17:46:53.529487",
     "exception": false,
     "start_time": "2023-08-02T17:46:53.372479",
     "status": "completed"
    },
    "tags": []
   },
   "outputs": [
    {
     "data": {
      "text/html": [
       "\n",
       "        <iframe\n",
       "            width=\"1000\"\n",
       "            height=\"400\"\n",
       "            src=\"https://wandb.ai/ayushsinghal659/Winning%20Solution%7CDeBDERTa%20Large%20%7C%20CommonLit/reports/DeBERTa-Large-Common-Lit--Vmlldzo0OTM2ODE2\"\n",
       "            frameborder=\"0\"\n",
       "            allowfullscreen\n",
       "            \n",
       "        ></iframe>\n",
       "        "
      ],
      "text/plain": [
       "<IPython.lib.display.IFrame at 0x7daecdddc790>"
      ]
     },
     "execution_count": 28,
     "metadata": {},
     "output_type": "execute_result"
    }
   ],
   "source": [
    "IFrame(\"https://wandb.ai/ayushsinghal659/Winning%20Solution%7CDeBDERTa%20Large%20%7C%20CommonLit/reports/DeBERTa-Large-Common-Lit--Vmlldzo0OTM2ODE2\" , 1000 , 400)"
   ]
  },
  {
   "cell_type": "markdown",
   "id": "352b51aa",
   "metadata": {
    "papermill": {
     "duration": 0.14642,
     "end_time": "2023-08-02T17:46:53.824083",
     "exception": false,
     "start_time": "2023-08-02T17:46:53.677663",
     "status": "completed"
    },
    "tags": []
   },
   "source": [
    "<div style=\"border-radius:10px; border:#00FFFF solid; padding: 15px; background-color: #F3f9ed; font-size:100%; text-align:left\">\n",
    "\n",
    "## $10.3$ $|$ $RoBERTa$ $Large$\n",
    "\n",
    "loss\t▁▂▁▁▂▁▁▁▁▁▂▁▁▂▁▃█▁▁█▁▁▁▁▂█▁▁▁▁▁▂▂▁▁▁▂▁▁▁\n",
    "\n",
    "loss\t1.63849"
   ]
  },
  {
   "cell_type": "code",
   "execution_count": 29,
   "id": "b227671d",
   "metadata": {
    "_kg_hide-output": true,
    "execution": {
     "iopub.execute_input": "2023-08-02T17:46:54.118042Z",
     "iopub.status.busy": "2023-08-02T17:46:54.117283Z",
     "iopub.status.idle": "2023-08-02T17:46:54.124660Z",
     "shell.execute_reply": "2023-08-02T17:46:54.123598Z"
    },
    "papermill": {
     "duration": 0.157811,
     "end_time": "2023-08-02T17:46:54.126962",
     "exception": false,
     "start_time": "2023-08-02T17:46:53.969151",
     "status": "completed"
    },
    "tags": []
   },
   "outputs": [
    {
     "data": {
      "text/html": [
       "\n",
       "        <iframe\n",
       "            width=\"1000\"\n",
       "            height=\"400\"\n",
       "            src=\"https://wandb.ai/ayushsinghal659/Winning%20Solution%7CRoBERTa%20Large%20%7C%20CommonLit/reports/RoBERTa-Large-Winning-Solution-CommonLit--Vmlldzo0OTQwNDU1\"\n",
       "            frameborder=\"0\"\n",
       "            allowfullscreen\n",
       "            \n",
       "        ></iframe>\n",
       "        "
      ],
      "text/plain": [
       "<IPython.lib.display.IFrame at 0x7daecdddc6a0>"
      ]
     },
     "execution_count": 29,
     "metadata": {},
     "output_type": "execute_result"
    }
   ],
   "source": [
    "IFrame(\"https://wandb.ai/ayushsinghal659/Winning%20Solution%7CRoBERTa%20Large%20%7C%20CommonLit/reports/RoBERTa-Large-Winning-Solution-CommonLit--Vmlldzo0OTQwNDU1\" , 1000 , 400)"
   ]
  },
  {
   "cell_type": "markdown",
   "id": "55c6a677",
   "metadata": {
    "papermill": {
     "duration": 0.145962,
     "end_time": "2023-08-02T17:46:54.418711",
     "exception": false,
     "start_time": "2023-08-02T17:46:54.272749",
     "status": "completed"
    },
    "tags": []
   },
   "source": [
    "<div style=\"border-radius:10px; border:#00FFFF solid; padding: 15px; background-color: #F3f9ed; font-size:100%; text-align:left\">\n",
    "\n",
    "## $10.4$ $|$ $ELECTRA$\n",
    "\n",
    "loss\t▆▇▆▆▆█▆▇▆▆▆▆▆▅▁▆▅▅▅▆▇▇▅▆▅▆▅▃▆▆▆▅▆▇▅▇▅▆▅▆\n",
    "\n",
    "loss\t1.59402"
   ]
  },
  {
   "cell_type": "code",
   "execution_count": 30,
   "id": "79a789e5",
   "metadata": {
    "_kg_hide-output": true,
    "execution": {
     "iopub.execute_input": "2023-08-02T17:46:54.715754Z",
     "iopub.status.busy": "2023-08-02T17:46:54.714981Z",
     "iopub.status.idle": "2023-08-02T17:46:54.722483Z",
     "shell.execute_reply": "2023-08-02T17:46:54.721217Z"
    },
    "papermill": {
     "duration": 0.160342,
     "end_time": "2023-08-02T17:46:54.725259",
     "exception": false,
     "start_time": "2023-08-02T17:46:54.564917",
     "status": "completed"
    },
    "tags": []
   },
   "outputs": [
    {
     "data": {
      "text/html": [
       "\n",
       "        <iframe\n",
       "            width=\"1000\"\n",
       "            height=\"400\"\n",
       "            src=\"https://wandb.ai/ayushsinghal659/Winning%20Solution%7CRoBERTa%20Large%20%7C%20CommonLit/reports/ELECTRA-COMMON-LIT--Vmlldzo0OTU1NzU5\"\n",
       "            frameborder=\"0\"\n",
       "            allowfullscreen\n",
       "            \n",
       "        ></iframe>\n",
       "        "
      ],
      "text/plain": [
       "<IPython.lib.display.IFrame at 0x7daecdddcaf0>"
      ]
     },
     "execution_count": 30,
     "metadata": {},
     "output_type": "execute_result"
    }
   ],
   "source": [
    "IFrame(\"https://wandb.ai/ayushsinghal659/Winning%20Solution%7CRoBERTa%20Large%20%7C%20CommonLit/reports/ELECTRA-COMMON-LIT--Vmlldzo0OTU1NzU5\" , 1000 , 400)"
   ]
  },
  {
   "cell_type": "markdown",
   "id": "a657eeec",
   "metadata": {
    "papermill": {
     "duration": 0.147432,
     "end_time": "2023-08-02T17:46:55.020234",
     "exception": false,
     "start_time": "2023-08-02T17:46:54.872802",
     "status": "completed"
    },
    "tags": []
   },
   "source": [
    "# <p style=\"font-family:JetBrains Mono; font-weight:bold; letter-spacing: 2px; color:#FFC0CB; font-size:140%; text-align:left;padding: 0px; border-bottom: 3px solid #FFC0CB\">11 | TO DO LIST 📝</p>\n",
    "\n",
    "<div style=\"border-radius:10px; border:#FFC0CB solid; padding: 15px; background-color: #F3f9ed; font-size:100%; text-align:left\">\n",
    "    \n",
    "<img src = \"https://i.imgflip.com/43iacv.jpg\" width = 400>\n",
    "\n",
    "* $TO$ $DO$ $1$ $:$ $ADD$ $MORE$ $MODELS$\n",
    "* $TO$ $DO$ $2$ $:$ $ADD$ $SCRAPED$ $DATA$\n",
    "* $TO$ $DO$ $3$ $:$ $ADD$ $EVALUATION$ $CALLBACKS$\n",
    "* $TO$ $DO$ $4$ $:$ $ADD$ $WANDB$ $SUPPORT$\n",
    "* $TO$ $DO$ $5$ $:$ $ADD$ $MORE$ $FUNCTIONALITIES$\n",
    "* $TO$ $DO$ $6$ $:$ $DANCE$"
   ]
  },
  {
   "cell_type": "markdown",
   "id": "03502ee0",
   "metadata": {
    "papermill": {
     "duration": 0.147439,
     "end_time": "2023-08-02T17:46:55.316146",
     "exception": false,
     "start_time": "2023-08-02T17:46:55.168707",
     "status": "completed"
    },
    "tags": []
   },
   "source": [
    "# <p style=\"font-family:JetBrains Mono; font-weight:bold; letter-spacing: 2px; color:#FFA500; font-size:140%; text-align:left;padding: 0px; border-bottom: 3px solid #FFA500\">12 | Ending 🏁</p>\n",
    "\n",
    "<div style=\"border-radius:10px; border:#FFA500 solid; padding: 15px; background-color: #F3f9ed; font-size:100%; text-align:left\">\n",
    "\n",
    "**THIS IS NOT THE FULL IMPLEMENTATION, IT STILL LACKS MANY FUNCTIONALITIES AND IS VULENRABLE TO MANY EDGE CASES, WE WILL IMPROVE THIS IN THE UPCOMING VERSIONS**\n",
    "\n",
    "**PLEASE COMMENT DOWN IF I DID ANY MISTAKES, OR IF CAN MAKE THIS MORE CONNECTED TO THE GROUND, OR SUGGESTIONS. YOUR ASSISTS ARE HIGHLY APPRECIABLE**\n",
    "\n",
    "**THATS IT FOR TODAY GUYS**\n",
    "\n",
    "**HOPE YOU UNDERSTOOD AND LIKED MY WORK**\n",
    "\n",
    "**DONT FORGET TO MAKE AN UPVOTE $:)$**\n",
    "    \n",
    "<img src = \"https://i.imgflip.com/19aadg.jpg\">\n",
    "   \n",
    "**PEACE OUT**"
   ]
  }
 ],
 "metadata": {
  "kernelspec": {
   "display_name": "Python 3",
   "language": "python",
   "name": "python3"
  },
  "language_info": {
   "codemirror_mode": {
    "name": "ipython",
    "version": 3
   },
   "file_extension": ".py",
   "mimetype": "text/x-python",
   "name": "python",
   "nbconvert_exporter": "python",
   "pygments_lexer": "ipython3",
   "version": "3.10.12"
  },
  "papermill": {
   "default_parameters": {},
   "duration": 252.9642,
   "end_time": "2023-08-02T17:46:58.527931",
   "environment_variables": {},
   "exception": null,
   "input_path": "__notebook__.ipynb",
   "output_path": "__notebook__.ipynb",
   "parameters": {},
   "start_time": "2023-08-02T17:42:45.563731",
   "version": "2.4.0"
  },
  "widgets": {
   "application/vnd.jupyter.widget-state+json": {
    "state": {
     "0029f09bed434e538997b331cd50f628": {
      "model_module": "@jupyter-widgets/controls",
      "model_module_version": "1.5.0",
      "model_name": "HBoxModel",
      "state": {
       "_dom_classes": [],
       "_model_module": "@jupyter-widgets/controls",
       "_model_module_version": "1.5.0",
       "_model_name": "HBoxModel",
       "_view_count": null,
       "_view_module": "@jupyter-widgets/controls",
       "_view_module_version": "1.5.0",
       "_view_name": "HBoxView",
       "box_style": "",
       "children": [
        "IPY_MODEL_af67f98e86734c46a421184d89e7f2c7",
        "IPY_MODEL_0399434f26544ca7955190dedd252c26",
        "IPY_MODEL_6c9b04d8cecc4575b8bd29387941f75d"
       ],
       "layout": "IPY_MODEL_8079edac17594020bcb1b9a41202aaab"
      }
     },
     "01662797d8194476bb3d0280a5d9921e": {
      "model_module": "@jupyter-widgets/controls",
      "model_module_version": "1.5.0",
      "model_name": "HBoxModel",
      "state": {
       "_dom_classes": [],
       "_model_module": "@jupyter-widgets/controls",
       "_model_module_version": "1.5.0",
       "_model_name": "HBoxModel",
       "_view_count": null,
       "_view_module": "@jupyter-widgets/controls",
       "_view_module_version": "1.5.0",
       "_view_name": "HBoxView",
       "box_style": "",
       "children": [
        "IPY_MODEL_6c714c37420649068e6d1abf36940d66",
        "IPY_MODEL_33826d62da2e47edbb5724209f4e3b3e",
        "IPY_MODEL_6f744869b6c34071b1cd3ba4cdd0de97"
       ],
       "layout": "IPY_MODEL_3cb25b36d0fd4f8080152f2690d7d074"
      }
     },
     "0399434f26544ca7955190dedd252c26": {
      "model_module": "@jupyter-widgets/controls",
      "model_module_version": "1.5.0",
      "model_name": "FloatProgressModel",
      "state": {
       "_dom_classes": [],
       "_model_module": "@jupyter-widgets/controls",
       "_model_module_version": "1.5.0",
       "_model_name": "FloatProgressModel",
       "_view_count": null,
       "_view_module": "@jupyter-widgets/controls",
       "_view_module_version": "1.5.0",
       "_view_name": "ProgressView",
       "bar_style": "success",
       "description": "",
       "description_tooltip": null,
       "layout": "IPY_MODEL_3a1227b201fd4ba8a4fcebe479e135ce",
       "max": 1627284589.0,
       "min": 0.0,
       "orientation": "horizontal",
       "style": "IPY_MODEL_88c28a11bfe44bc78e3474988bbd5d55",
       "value": 1627284589.0
      }
     },
     "0caa70b5ad844b73934435dfd85aecd2": {
      "model_module": "@jupyter-widgets/base",
      "model_module_version": "1.2.0",
      "model_name": "LayoutModel",
      "state": {
       "_model_module": "@jupyter-widgets/base",
       "_model_module_version": "1.2.0",
       "_model_name": "LayoutModel",
       "_view_count": null,
       "_view_module": "@jupyter-widgets/base",
       "_view_module_version": "1.2.0",
       "_view_name": "LayoutView",
       "align_content": null,
       "align_items": null,
       "align_self": null,
       "border": null,
       "bottom": null,
       "display": null,
       "flex": null,
       "flex_flow": null,
       "grid_area": null,
       "grid_auto_columns": null,
       "grid_auto_flow": null,
       "grid_auto_rows": null,
       "grid_column": null,
       "grid_gap": null,
       "grid_row": null,
       "grid_template_areas": null,
       "grid_template_columns": null,
       "grid_template_rows": null,
       "height": null,
       "justify_content": null,
       "justify_items": null,
       "left": null,
       "margin": null,
       "max_height": null,
       "max_width": null,
       "min_height": null,
       "min_width": null,
       "object_fit": null,
       "object_position": null,
       "order": null,
       "overflow": null,
       "overflow_x": null,
       "overflow_y": null,
       "padding": null,
       "right": null,
       "top": null,
       "visibility": null,
       "width": null
      }
     },
     "0f02473d4aa8430e8042b898f947b30e": {
      "model_module": "@jupyter-widgets/controls",
      "model_module_version": "1.5.0",
      "model_name": "HTMLModel",
      "state": {
       "_dom_classes": [],
       "_model_module": "@jupyter-widgets/controls",
       "_model_module_version": "1.5.0",
       "_model_name": "HTMLModel",
       "_view_count": null,
       "_view_module": "@jupyter-widgets/controls",
       "_view_module_version": "1.5.0",
       "_view_name": "HTMLView",
       "description": "",
       "description_tooltip": null,
       "layout": "IPY_MODEL_b9f38945c0a54e5c97834c4c5bec34c7",
       "placeholder": "​",
       "style": "IPY_MODEL_638efcebcca141f5820e1556e530de3d",
       "value": "Downloading model.safetensors: 100%"
      }
     },
     "107a99b14ad04c769b85d47c95a69f97": {
      "model_module": "@jupyter-widgets/base",
      "model_module_version": "1.2.0",
      "model_name": "LayoutModel",
      "state": {
       "_model_module": "@jupyter-widgets/base",
       "_model_module_version": "1.2.0",
       "_model_name": "LayoutModel",
       "_view_count": null,
       "_view_module": "@jupyter-widgets/base",
       "_view_module_version": "1.2.0",
       "_view_name": "LayoutView",
       "align_content": null,
       "align_items": null,
       "align_self": null,
       "border": null,
       "bottom": null,
       "display": null,
       "flex": null,
       "flex_flow": null,
       "grid_area": null,
       "grid_auto_columns": null,
       "grid_auto_flow": null,
       "grid_auto_rows": null,
       "grid_column": null,
       "grid_gap": null,
       "grid_row": null,
       "grid_template_areas": null,
       "grid_template_columns": null,
       "grid_template_rows": null,
       "height": null,
       "justify_content": null,
       "justify_items": null,
       "left": null,
       "margin": null,
       "max_height": null,
       "max_width": null,
       "min_height": null,
       "min_width": null,
       "object_fit": null,
       "object_position": null,
       "order": null,
       "overflow": null,
       "overflow_x": null,
       "overflow_y": null,
       "padding": null,
       "right": null,
       "top": null,
       "visibility": null,
       "width": null
      }
     },
     "16a5af7652d44b86a68e72ac9821ac50": {
      "model_module": "@jupyter-widgets/controls",
      "model_module_version": "1.5.0",
      "model_name": "HBoxModel",
      "state": {
       "_dom_classes": [],
       "_model_module": "@jupyter-widgets/controls",
       "_model_module_version": "1.5.0",
       "_model_name": "HBoxModel",
       "_view_count": null,
       "_view_module": "@jupyter-widgets/controls",
       "_view_module_version": "1.5.0",
       "_view_name": "HBoxView",
       "box_style": "",
       "children": [
        "IPY_MODEL_826af48a1fdb4dd1bd849d8e37aa03a2",
        "IPY_MODEL_a9eac6358142446eb222e7b811c820ee",
        "IPY_MODEL_98dd169f6c54415eb7dea40d6e18ee32"
       ],
       "layout": "IPY_MODEL_c211c2b35c78406daab0c0376d31a7d3"
      }
     },
     "1d0b39042270441b9388532407b0df83": {
      "model_module": "@jupyter-widgets/controls",
      "model_module_version": "1.5.0",
      "model_name": "HBoxModel",
      "state": {
       "_dom_classes": [],
       "_model_module": "@jupyter-widgets/controls",
       "_model_module_version": "1.5.0",
       "_model_name": "HBoxModel",
       "_view_count": null,
       "_view_module": "@jupyter-widgets/controls",
       "_view_module_version": "1.5.0",
       "_view_name": "HBoxView",
       "box_style": "",
       "children": [
        "IPY_MODEL_612cae4c8eda49e3ab432f23fa76949b",
        "IPY_MODEL_ad761d71c0524f27a7d3e853bc6d864d",
        "IPY_MODEL_35202622c6774db0a49c1d5cc3df69b2"
       ],
       "layout": "IPY_MODEL_29d4256f6a4244dc86db36149b37a537"
      }
     },
     "231061a91bc7426ba380566106957d87": {
      "model_module": "@jupyter-widgets/base",
      "model_module_version": "1.2.0",
      "model_name": "LayoutModel",
      "state": {
       "_model_module": "@jupyter-widgets/base",
       "_model_module_version": "1.2.0",
       "_model_name": "LayoutModel",
       "_view_count": null,
       "_view_module": "@jupyter-widgets/base",
       "_view_module_version": "1.2.0",
       "_view_name": "LayoutView",
       "align_content": null,
       "align_items": null,
       "align_self": null,
       "border": null,
       "bottom": null,
       "display": null,
       "flex": null,
       "flex_flow": null,
       "grid_area": null,
       "grid_auto_columns": null,
       "grid_auto_flow": null,
       "grid_auto_rows": null,
       "grid_column": null,
       "grid_gap": null,
       "grid_row": null,
       "grid_template_areas": null,
       "grid_template_columns": null,
       "grid_template_rows": null,
       "height": null,
       "justify_content": null,
       "justify_items": null,
       "left": null,
       "margin": null,
       "max_height": null,
       "max_width": null,
       "min_height": null,
       "min_width": null,
       "object_fit": null,
       "object_position": null,
       "order": null,
       "overflow": null,
       "overflow_x": null,
       "overflow_y": null,
       "padding": null,
       "right": null,
       "top": null,
       "visibility": null,
       "width": null
      }
     },
     "24f147670b7b48399a31a4b78d7d4a93": {
      "model_module": "@jupyter-widgets/controls",
      "model_module_version": "1.5.0",
      "model_name": "ProgressStyleModel",
      "state": {
       "_model_module": "@jupyter-widgets/controls",
       "_model_module_version": "1.5.0",
       "_model_name": "ProgressStyleModel",
       "_view_count": null,
       "_view_module": "@jupyter-widgets/base",
       "_view_module_version": "1.2.0",
       "_view_name": "StyleView",
       "bar_color": null,
       "description_width": ""
      }
     },
     "2933da19afbf42c0ba066b75f22a2601": {
      "model_module": "@jupyter-widgets/base",
      "model_module_version": "1.2.0",
      "model_name": "LayoutModel",
      "state": {
       "_model_module": "@jupyter-widgets/base",
       "_model_module_version": "1.2.0",
       "_model_name": "LayoutModel",
       "_view_count": null,
       "_view_module": "@jupyter-widgets/base",
       "_view_module_version": "1.2.0",
       "_view_name": "LayoutView",
       "align_content": null,
       "align_items": null,
       "align_self": null,
       "border": null,
       "bottom": null,
       "display": null,
       "flex": null,
       "flex_flow": null,
       "grid_area": null,
       "grid_auto_columns": null,
       "grid_auto_flow": null,
       "grid_auto_rows": null,
       "grid_column": null,
       "grid_gap": null,
       "grid_row": null,
       "grid_template_areas": null,
       "grid_template_columns": null,
       "grid_template_rows": null,
       "height": null,
       "justify_content": null,
       "justify_items": null,
       "left": null,
       "margin": null,
       "max_height": null,
       "max_width": null,
       "min_height": null,
       "min_width": null,
       "object_fit": null,
       "object_position": null,
       "order": null,
       "overflow": null,
       "overflow_x": null,
       "overflow_y": null,
       "padding": null,
       "right": null,
       "top": null,
       "visibility": null,
       "width": null
      }
     },
     "29d4256f6a4244dc86db36149b37a537": {
      "model_module": "@jupyter-widgets/base",
      "model_module_version": "1.2.0",
      "model_name": "LayoutModel",
      "state": {
       "_model_module": "@jupyter-widgets/base",
       "_model_module_version": "1.2.0",
       "_model_name": "LayoutModel",
       "_view_count": null,
       "_view_module": "@jupyter-widgets/base",
       "_view_module_version": "1.2.0",
       "_view_name": "LayoutView",
       "align_content": null,
       "align_items": null,
       "align_self": null,
       "border": null,
       "bottom": null,
       "display": null,
       "flex": null,
       "flex_flow": null,
       "grid_area": null,
       "grid_auto_columns": null,
       "grid_auto_flow": null,
       "grid_auto_rows": null,
       "grid_column": null,
       "grid_gap": null,
       "grid_row": null,
       "grid_template_areas": null,
       "grid_template_columns": null,
       "grid_template_rows": null,
       "height": null,
       "justify_content": null,
       "justify_items": null,
       "left": null,
       "margin": null,
       "max_height": null,
       "max_width": null,
       "min_height": null,
       "min_width": null,
       "object_fit": null,
       "object_position": null,
       "order": null,
       "overflow": null,
       "overflow_x": null,
       "overflow_y": null,
       "padding": null,
       "right": null,
       "top": null,
       "visibility": null,
       "width": null
      }
     },
     "2a30225394be4b6fb66c0a3b21f72f2a": {
      "model_module": "@jupyter-widgets/controls",
      "model_module_version": "1.5.0",
      "model_name": "HTMLModel",
      "state": {
       "_dom_classes": [],
       "_model_module": "@jupyter-widgets/controls",
       "_model_module_version": "1.5.0",
       "_model_name": "HTMLModel",
       "_view_count": null,
       "_view_module": "@jupyter-widgets/controls",
       "_view_module_version": "1.5.0",
       "_view_name": "HTMLView",
       "description": "",
       "description_tooltip": null,
       "layout": "IPY_MODEL_2933da19afbf42c0ba066b75f22a2601",
       "placeholder": "​",
       "style": "IPY_MODEL_9b74fc65879d46199f24e9ab52975964",
       "value": " 684/684 [00:00&lt;00:00, 48.8kB/s]"
      }
     },
     "2ca84e9dd0e54227bb4e26e8a93cf654": {
      "model_module": "@jupyter-widgets/base",
      "model_module_version": "1.2.0",
      "model_name": "LayoutModel",
      "state": {
       "_model_module": "@jupyter-widgets/base",
       "_model_module_version": "1.2.0",
       "_model_name": "LayoutModel",
       "_view_count": null,
       "_view_module": "@jupyter-widgets/base",
       "_view_module_version": "1.2.0",
       "_view_name": "LayoutView",
       "align_content": null,
       "align_items": null,
       "align_self": null,
       "border": null,
       "bottom": null,
       "display": null,
       "flex": null,
       "flex_flow": null,
       "grid_area": null,
       "grid_auto_columns": null,
       "grid_auto_flow": null,
       "grid_auto_rows": null,
       "grid_column": null,
       "grid_gap": null,
       "grid_row": null,
       "grid_template_areas": null,
       "grid_template_columns": null,
       "grid_template_rows": null,
       "height": null,
       "justify_content": null,
       "justify_items": null,
       "left": null,
       "margin": null,
       "max_height": null,
       "max_width": null,
       "min_height": null,
       "min_width": null,
       "object_fit": null,
       "object_position": null,
       "order": null,
       "overflow": null,
       "overflow_x": null,
       "overflow_y": null,
       "padding": null,
       "right": null,
       "top": null,
       "visibility": null,
       "width": null
      }
     },
     "2d72a2f6b5da4858902b0c9fae4c2470": {
      "model_module": "@jupyter-widgets/controls",
      "model_module_version": "1.5.0",
      "model_name": "DescriptionStyleModel",
      "state": {
       "_model_module": "@jupyter-widgets/controls",
       "_model_module_version": "1.5.0",
       "_model_name": "DescriptionStyleModel",
       "_view_count": null,
       "_view_module": "@jupyter-widgets/base",
       "_view_module_version": "1.2.0",
       "_view_name": "StyleView",
       "description_width": ""
      }
     },
     "31d65f0ae29148d5ab288b932ed4bb98": {
      "model_module": "@jupyter-widgets/controls",
      "model_module_version": "1.5.0",
      "model_name": "HBoxModel",
      "state": {
       "_dom_classes": [],
       "_model_module": "@jupyter-widgets/controls",
       "_model_module_version": "1.5.0",
       "_model_name": "HBoxModel",
       "_view_count": null,
       "_view_module": "@jupyter-widgets/controls",
       "_view_module_version": "1.5.0",
       "_view_name": "HBoxView",
       "box_style": "",
       "children": [
        "IPY_MODEL_45a3bd2c5fb5452d9a04c53bcaf1e9ce",
        "IPY_MODEL_a7e58818aced40a5b08d4004c921f1da",
        "IPY_MODEL_2a30225394be4b6fb66c0a3b21f72f2a"
       ],
       "layout": "IPY_MODEL_ab4de6d43930479fbe7f33917d5b57d5"
      }
     },
     "33826d62da2e47edbb5724209f4e3b3e": {
      "model_module": "@jupyter-widgets/controls",
      "model_module_version": "1.5.0",
      "model_name": "FloatProgressModel",
      "state": {
       "_dom_classes": [],
       "_model_module": "@jupyter-widgets/controls",
       "_model_module_version": "1.5.0",
       "_model_name": "FloatProgressModel",
       "_view_count": null,
       "_view_module": "@jupyter-widgets/controls",
       "_view_module_version": "1.5.0",
       "_view_name": "ProgressView",
       "bar_style": "success",
       "description": "",
       "description_tooltip": null,
       "layout": "IPY_MODEL_609f2d2c29a04510b725fbc4554d4667",
       "max": 1355863.0,
       "min": 0.0,
       "orientation": "horizontal",
       "style": "IPY_MODEL_bc542ccff63b4deb97bcaf80d4fc94af",
       "value": 1355863.0
      }
     },
     "34b30bdd4c3f444583575e373cb98c4e": {
      "model_module": "@jupyter-widgets/base",
      "model_module_version": "1.2.0",
      "model_name": "LayoutModel",
      "state": {
       "_model_module": "@jupyter-widgets/base",
       "_model_module_version": "1.2.0",
       "_model_name": "LayoutModel",
       "_view_count": null,
       "_view_module": "@jupyter-widgets/base",
       "_view_module_version": "1.2.0",
       "_view_name": "LayoutView",
       "align_content": null,
       "align_items": null,
       "align_self": null,
       "border": null,
       "bottom": null,
       "display": null,
       "flex": null,
       "flex_flow": null,
       "grid_area": null,
       "grid_auto_columns": null,
       "grid_auto_flow": null,
       "grid_auto_rows": null,
       "grid_column": null,
       "grid_gap": null,
       "grid_row": null,
       "grid_template_areas": null,
       "grid_template_columns": null,
       "grid_template_rows": null,
       "height": null,
       "justify_content": null,
       "justify_items": null,
       "left": null,
       "margin": null,
       "max_height": null,
       "max_width": null,
       "min_height": null,
       "min_width": null,
       "object_fit": null,
       "object_position": null,
       "order": null,
       "overflow": null,
       "overflow_x": null,
       "overflow_y": null,
       "padding": null,
       "right": null,
       "top": null,
       "visibility": null,
       "width": null
      }
     },
     "35202622c6774db0a49c1d5cc3df69b2": {
      "model_module": "@jupyter-widgets/controls",
      "model_module_version": "1.5.0",
      "model_name": "HTMLModel",
      "state": {
       "_dom_classes": [],
       "_model_module": "@jupyter-widgets/controls",
       "_model_module_version": "1.5.0",
       "_model_name": "HTMLModel",
       "_view_count": null,
       "_view_module": "@jupyter-widgets/controls",
       "_view_module_version": "1.5.0",
       "_view_name": "HTMLView",
       "description": "",
       "description_tooltip": null,
       "layout": "IPY_MODEL_da91c99dfc414b03a42c8df1318cf4ed",
       "placeholder": "​",
       "style": "IPY_MODEL_534e8bb7558a46529def3a2928bc62cd",
       "value": " 475/475 [00:00&lt;00:00, 25.0kB/s]"
      }
     },
     "362bd2a6a05540a78efd29392c141792": {
      "model_module": "@jupyter-widgets/base",
      "model_module_version": "1.2.0",
      "model_name": "LayoutModel",
      "state": {
       "_model_module": "@jupyter-widgets/base",
       "_model_module_version": "1.2.0",
       "_model_name": "LayoutModel",
       "_view_count": null,
       "_view_module": "@jupyter-widgets/base",
       "_view_module_version": "1.2.0",
       "_view_name": "LayoutView",
       "align_content": null,
       "align_items": null,
       "align_self": null,
       "border": null,
       "bottom": null,
       "display": null,
       "flex": null,
       "flex_flow": null,
       "grid_area": null,
       "grid_auto_columns": null,
       "grid_auto_flow": null,
       "grid_auto_rows": null,
       "grid_column": null,
       "grid_gap": null,
       "grid_row": null,
       "grid_template_areas": null,
       "grid_template_columns": null,
       "grid_template_rows": null,
       "height": null,
       "justify_content": null,
       "justify_items": null,
       "left": null,
       "margin": null,
       "max_height": null,
       "max_width": null,
       "min_height": null,
       "min_width": null,
       "object_fit": null,
       "object_position": null,
       "order": null,
       "overflow": null,
       "overflow_x": null,
       "overflow_y": null,
       "padding": null,
       "right": null,
       "top": null,
       "visibility": null,
       "width": null
      }
     },
     "3741550fedc54276ab25903d220fe0b0": {
      "model_module": "@jupyter-widgets/controls",
      "model_module_version": "1.5.0",
      "model_name": "ProgressStyleModel",
      "state": {
       "_model_module": "@jupyter-widgets/controls",
       "_model_module_version": "1.5.0",
       "_model_name": "ProgressStyleModel",
       "_view_count": null,
       "_view_module": "@jupyter-widgets/base",
       "_view_module_version": "1.2.0",
       "_view_name": "StyleView",
       "bar_color": null,
       "description_width": ""
      }
     },
     "375fef5d898d4f038c3868a0cf63c9a8": {
      "model_module": "@jupyter-widgets/base",
      "model_module_version": "1.2.0",
      "model_name": "LayoutModel",
      "state": {
       "_model_module": "@jupyter-widgets/base",
       "_model_module_version": "1.2.0",
       "_model_name": "LayoutModel",
       "_view_count": null,
       "_view_module": "@jupyter-widgets/base",
       "_view_module_version": "1.2.0",
       "_view_name": "LayoutView",
       "align_content": null,
       "align_items": null,
       "align_self": null,
       "border": null,
       "bottom": null,
       "display": null,
       "flex": null,
       "flex_flow": null,
       "grid_area": null,
       "grid_auto_columns": null,
       "grid_auto_flow": null,
       "grid_auto_rows": null,
       "grid_column": null,
       "grid_gap": null,
       "grid_row": null,
       "grid_template_areas": null,
       "grid_template_columns": null,
       "grid_template_rows": null,
       "height": null,
       "justify_content": null,
       "justify_items": null,
       "left": null,
       "margin": null,
       "max_height": null,
       "max_width": null,
       "min_height": null,
       "min_width": null,
       "object_fit": null,
       "object_position": null,
       "order": null,
       "overflow": null,
       "overflow_x": null,
       "overflow_y": null,
       "padding": null,
       "right": null,
       "top": null,
       "visibility": null,
       "width": null
      }
     },
     "3a1227b201fd4ba8a4fcebe479e135ce": {
      "model_module": "@jupyter-widgets/base",
      "model_module_version": "1.2.0",
      "model_name": "LayoutModel",
      "state": {
       "_model_module": "@jupyter-widgets/base",
       "_model_module_version": "1.2.0",
       "_model_name": "LayoutModel",
       "_view_count": null,
       "_view_module": "@jupyter-widgets/base",
       "_view_module_version": "1.2.0",
       "_view_name": "LayoutView",
       "align_content": null,
       "align_items": null,
       "align_self": null,
       "border": null,
       "bottom": null,
       "display": null,
       "flex": null,
       "flex_flow": null,
       "grid_area": null,
       "grid_auto_columns": null,
       "grid_auto_flow": null,
       "grid_auto_rows": null,
       "grid_column": null,
       "grid_gap": null,
       "grid_row": null,
       "grid_template_areas": null,
       "grid_template_columns": null,
       "grid_template_rows": null,
       "height": null,
       "justify_content": null,
       "justify_items": null,
       "left": null,
       "margin": null,
       "max_height": null,
       "max_width": null,
       "min_height": null,
       "min_width": null,
       "object_fit": null,
       "object_position": null,
       "order": null,
       "overflow": null,
       "overflow_x": null,
       "overflow_y": null,
       "padding": null,
       "right": null,
       "top": null,
       "visibility": null,
       "width": null
      }
     },
     "3ba819db18544e608442261131a0a1f8": {
      "model_module": "@jupyter-widgets/controls",
      "model_module_version": "1.5.0",
      "model_name": "ProgressStyleModel",
      "state": {
       "_model_module": "@jupyter-widgets/controls",
       "_model_module_version": "1.5.0",
       "_model_name": "ProgressStyleModel",
       "_view_count": null,
       "_view_module": "@jupyter-widgets/base",
       "_view_module_version": "1.2.0",
       "_view_name": "StyleView",
       "bar_color": null,
       "description_width": ""
      }
     },
     "3c26f56f13da4d8bac494a21234e7a97": {
      "model_module": "@jupyter-widgets/controls",
      "model_module_version": "1.5.0",
      "model_name": "FloatProgressModel",
      "state": {
       "_dom_classes": [],
       "_model_module": "@jupyter-widgets/controls",
       "_model_module_version": "1.5.0",
       "_model_name": "FloatProgressModel",
       "_view_count": null,
       "_view_module": "@jupyter-widgets/controls",
       "_view_module_version": "1.5.0",
       "_view_name": "ProgressView",
       "bar_style": "success",
       "description": "",
       "description_tooltip": null,
       "layout": "IPY_MODEL_c1dc2623aaf14a9e9c7f7658dd20abb5",
       "max": 1421700479.0,
       "min": 0.0,
       "orientation": "horizontal",
       "style": "IPY_MODEL_41f72343012e47db97c59fa96286f324",
       "value": 1421700479.0
      }
     },
     "3cb25b36d0fd4f8080152f2690d7d074": {
      "model_module": "@jupyter-widgets/base",
      "model_module_version": "1.2.0",
      "model_name": "LayoutModel",
      "state": {
       "_model_module": "@jupyter-widgets/base",
       "_model_module_version": "1.2.0",
       "_model_name": "LayoutModel",
       "_view_count": null,
       "_view_module": "@jupyter-widgets/base",
       "_view_module_version": "1.2.0",
       "_view_name": "LayoutView",
       "align_content": null,
       "align_items": null,
       "align_self": null,
       "border": null,
       "bottom": null,
       "display": null,
       "flex": null,
       "flex_flow": null,
       "grid_area": null,
       "grid_auto_columns": null,
       "grid_auto_flow": null,
       "grid_auto_rows": null,
       "grid_column": null,
       "grid_gap": null,
       "grid_row": null,
       "grid_template_areas": null,
       "grid_template_columns": null,
       "grid_template_rows": null,
       "height": null,
       "justify_content": null,
       "justify_items": null,
       "left": null,
       "margin": null,
       "max_height": null,
       "max_width": null,
       "min_height": null,
       "min_width": null,
       "object_fit": null,
       "object_position": null,
       "order": null,
       "overflow": null,
       "overflow_x": null,
       "overflow_y": null,
       "padding": null,
       "right": null,
       "top": null,
       "visibility": null,
       "width": null
      }
     },
     "3cca8b02a3a94bb999be5b9d82c89769": {
      "model_module": "@jupyter-widgets/controls",
      "model_module_version": "1.5.0",
      "model_name": "DescriptionStyleModel",
      "state": {
       "_model_module": "@jupyter-widgets/controls",
       "_model_module_version": "1.5.0",
       "_model_name": "DescriptionStyleModel",
       "_view_count": null,
       "_view_module": "@jupyter-widgets/base",
       "_view_module_version": "1.2.0",
       "_view_name": "StyleView",
       "description_width": ""
      }
     },
     "3d782064136c475f83786ddf0ecfe73d": {
      "model_module": "@jupyter-widgets/controls",
      "model_module_version": "1.5.0",
      "model_name": "DescriptionStyleModel",
      "state": {
       "_model_module": "@jupyter-widgets/controls",
       "_model_module_version": "1.5.0",
       "_model_name": "DescriptionStyleModel",
       "_view_count": null,
       "_view_module": "@jupyter-widgets/base",
       "_view_module_version": "1.2.0",
       "_view_name": "StyleView",
       "description_width": ""
      }
     },
     "3e370565a60c4925ae597fd608b1e65c": {
      "model_module": "@jupyter-widgets/controls",
      "model_module_version": "1.5.0",
      "model_name": "HBoxModel",
      "state": {
       "_dom_classes": [],
       "_model_module": "@jupyter-widgets/controls",
       "_model_module_version": "1.5.0",
       "_model_name": "HBoxModel",
       "_view_count": null,
       "_view_module": "@jupyter-widgets/controls",
       "_view_module_version": "1.5.0",
       "_view_name": "HBoxView",
       "box_style": "",
       "children": [
        "IPY_MODEL_0f02473d4aa8430e8042b898f947b30e",
        "IPY_MODEL_a2d46993874d4f1a810d07b9181d809d",
        "IPY_MODEL_4d6e05b0146f4c1e9f07f1a105b1ab09"
       ],
       "layout": "IPY_MODEL_87d9b46ff0ad456e99d04f862921638d"
      }
     },
     "41f72343012e47db97c59fa96286f324": {
      "model_module": "@jupyter-widgets/controls",
      "model_module_version": "1.5.0",
      "model_name": "ProgressStyleModel",
      "state": {
       "_model_module": "@jupyter-widgets/controls",
       "_model_module_version": "1.5.0",
       "_model_name": "ProgressStyleModel",
       "_view_count": null,
       "_view_module": "@jupyter-widgets/base",
       "_view_module_version": "1.2.0",
       "_view_name": "StyleView",
       "bar_color": null,
       "description_width": ""
      }
     },
     "4250c74a451f4315aede7e0573912850": {
      "model_module": "@jupyter-widgets/base",
      "model_module_version": "1.2.0",
      "model_name": "LayoutModel",
      "state": {
       "_model_module": "@jupyter-widgets/base",
       "_model_module_version": "1.2.0",
       "_model_name": "LayoutModel",
       "_view_count": null,
       "_view_module": "@jupyter-widgets/base",
       "_view_module_version": "1.2.0",
       "_view_name": "LayoutView",
       "align_content": null,
       "align_items": null,
       "align_self": null,
       "border": null,
       "bottom": null,
       "display": null,
       "flex": null,
       "flex_flow": null,
       "grid_area": null,
       "grid_auto_columns": null,
       "grid_auto_flow": null,
       "grid_auto_rows": null,
       "grid_column": null,
       "grid_gap": null,
       "grid_row": null,
       "grid_template_areas": null,
       "grid_template_columns": null,
       "grid_template_rows": null,
       "height": null,
       "justify_content": null,
       "justify_items": null,
       "left": null,
       "margin": null,
       "max_height": null,
       "max_width": null,
       "min_height": null,
       "min_width": null,
       "object_fit": null,
       "object_position": null,
       "order": null,
       "overflow": null,
       "overflow_x": null,
       "overflow_y": null,
       "padding": null,
       "right": null,
       "top": null,
       "visibility": null,
       "width": null
      }
     },
     "43577dd76cb84234832227bda782dbc6": {
      "model_module": "@jupyter-widgets/controls",
      "model_module_version": "1.5.0",
      "model_name": "HBoxModel",
      "state": {
       "_dom_classes": [],
       "_model_module": "@jupyter-widgets/controls",
       "_model_module_version": "1.5.0",
       "_model_name": "HBoxModel",
       "_view_count": null,
       "_view_module": "@jupyter-widgets/controls",
       "_view_module_version": "1.5.0",
       "_view_name": "HBoxView",
       "box_style": "",
       "children": [
        "IPY_MODEL_4918b4418880482eb5630334fa7ffa15",
        "IPY_MODEL_3c26f56f13da4d8bac494a21234e7a97",
        "IPY_MODEL_5ef6786881b445668e8b888d71962a77"
       ],
       "layout": "IPY_MODEL_7c621f4fa18f4c1c8780c63339dbb906"
      }
     },
     "447e456d3b8a4d43a5505398a2dba4a0": {
      "model_module": "@jupyter-widgets/base",
      "model_module_version": "1.2.0",
      "model_name": "LayoutModel",
      "state": {
       "_model_module": "@jupyter-widgets/base",
       "_model_module_version": "1.2.0",
       "_model_name": "LayoutModel",
       "_view_count": null,
       "_view_module": "@jupyter-widgets/base",
       "_view_module_version": "1.2.0",
       "_view_name": "LayoutView",
       "align_content": null,
       "align_items": null,
       "align_self": null,
       "border": null,
       "bottom": null,
       "display": null,
       "flex": null,
       "flex_flow": null,
       "grid_area": null,
       "grid_auto_columns": null,
       "grid_auto_flow": null,
       "grid_auto_rows": null,
       "grid_column": null,
       "grid_gap": null,
       "grid_row": null,
       "grid_template_areas": null,
       "grid_template_columns": null,
       "grid_template_rows": null,
       "height": null,
       "justify_content": null,
       "justify_items": null,
       "left": null,
       "margin": null,
       "max_height": null,
       "max_width": null,
       "min_height": null,
       "min_width": null,
       "object_fit": null,
       "object_position": null,
       "order": null,
       "overflow": null,
       "overflow_x": null,
       "overflow_y": null,
       "padding": null,
       "right": null,
       "top": null,
       "visibility": null,
       "width": null
      }
     },
     "45a3bd2c5fb5452d9a04c53bcaf1e9ce": {
      "model_module": "@jupyter-widgets/controls",
      "model_module_version": "1.5.0",
      "model_name": "HTMLModel",
      "state": {
       "_dom_classes": [],
       "_model_module": "@jupyter-widgets/controls",
       "_model_module_version": "1.5.0",
       "_model_name": "HTMLModel",
       "_view_count": null,
       "_view_module": "@jupyter-widgets/controls",
       "_view_module_version": "1.5.0",
       "_view_name": "HTMLView",
       "description": "",
       "description_tooltip": null,
       "layout": "IPY_MODEL_7e0f6be4b9e2439fa070279da1e1d127",
       "placeholder": "​",
       "style": "IPY_MODEL_793bd68ea6e54446a9a9ef73a57275d2",
       "value": "Downloading (…)lve/main/config.json: 100%"
      }
     },
     "47bdbe088ef048c280cc1d42baff93fe": {
      "model_module": "@jupyter-widgets/base",
      "model_module_version": "1.2.0",
      "model_name": "LayoutModel",
      "state": {
       "_model_module": "@jupyter-widgets/base",
       "_model_module_version": "1.2.0",
       "_model_name": "LayoutModel",
       "_view_count": null,
       "_view_module": "@jupyter-widgets/base",
       "_view_module_version": "1.2.0",
       "_view_name": "LayoutView",
       "align_content": null,
       "align_items": null,
       "align_self": null,
       "border": null,
       "bottom": null,
       "display": null,
       "flex": null,
       "flex_flow": null,
       "grid_area": null,
       "grid_auto_columns": null,
       "grid_auto_flow": null,
       "grid_auto_rows": null,
       "grid_column": null,
       "grid_gap": null,
       "grid_row": null,
       "grid_template_areas": null,
       "grid_template_columns": null,
       "grid_template_rows": null,
       "height": null,
       "justify_content": null,
       "justify_items": null,
       "left": null,
       "margin": null,
       "max_height": null,
       "max_width": null,
       "min_height": null,
       "min_width": null,
       "object_fit": null,
       "object_position": null,
       "order": null,
       "overflow": null,
       "overflow_x": null,
       "overflow_y": null,
       "padding": null,
       "right": null,
       "top": null,
       "visibility": null,
       "width": null
      }
     },
     "4918b4418880482eb5630334fa7ffa15": {
      "model_module": "@jupyter-widgets/controls",
      "model_module_version": "1.5.0",
      "model_name": "HTMLModel",
      "state": {
       "_dom_classes": [],
       "_model_module": "@jupyter-widgets/controls",
       "_model_module_version": "1.5.0",
       "_model_name": "HTMLModel",
       "_view_count": null,
       "_view_module": "@jupyter-widgets/controls",
       "_view_module_version": "1.5.0",
       "_view_name": "HTMLView",
       "description": "",
       "description_tooltip": null,
       "layout": "IPY_MODEL_231061a91bc7426ba380566106957d87",
       "placeholder": "​",
       "style": "IPY_MODEL_c8dcbd9640f44c9ab4216bfe56d91cf1",
       "value": "Downloading model.safetensors: 100%"
      }
     },
     "4d6e05b0146f4c1e9f07f1a105b1ab09": {
      "model_module": "@jupyter-widgets/controls",
      "model_module_version": "1.5.0",
      "model_name": "HTMLModel",
      "state": {
       "_dom_classes": [],
       "_model_module": "@jupyter-widgets/controls",
       "_model_module_version": "1.5.0",
       "_model_name": "HTMLModel",
       "_view_count": null,
       "_view_module": "@jupyter-widgets/controls",
       "_view_module_version": "1.5.0",
       "_view_name": "HTMLView",
       "description": "",
       "description_tooltip": null,
       "layout": "IPY_MODEL_4250c74a451f4315aede7e0573912850",
       "placeholder": "​",
       "style": "IPY_MODEL_a2f45a6a064b4c97a0c33c8f0a8b4f0e",
       "value": " 47.4M/47.4M [00:00&lt;00:00, 83.5MB/s]"
      }
     },
     "4dbdc96a2312401ba23997a164596895": {
      "model_module": "@jupyter-widgets/controls",
      "model_module_version": "1.5.0",
      "model_name": "ProgressStyleModel",
      "state": {
       "_model_module": "@jupyter-widgets/controls",
       "_model_module_version": "1.5.0",
       "_model_name": "ProgressStyleModel",
       "_view_count": null,
       "_view_module": "@jupyter-widgets/base",
       "_view_module_version": "1.2.0",
       "_view_name": "StyleView",
       "bar_color": null,
       "description_width": ""
      }
     },
     "4e2a10b2f8054ba8a41a4a4927b72313": {
      "model_module": "@jupyter-widgets/controls",
      "model_module_version": "1.5.0",
      "model_name": "FloatProgressModel",
      "state": {
       "_dom_classes": [],
       "_model_module": "@jupyter-widgets/controls",
       "_model_module_version": "1.5.0",
       "_model_name": "FloatProgressModel",
       "_view_count": null,
       "_view_module": "@jupyter-widgets/controls",
       "_view_module_version": "1.5.0",
       "_view_name": "ProgressView",
       "bar_style": "success",
       "description": "",
       "description_tooltip": null,
       "layout": "IPY_MODEL_a238b30e75e946a891e50e7a6a484be7",
       "max": 898823.0,
       "min": 0.0,
       "orientation": "horizontal",
       "style": "IPY_MODEL_3741550fedc54276ab25903d220fe0b0",
       "value": 898823.0
      }
     },
     "534e8bb7558a46529def3a2928bc62cd": {
      "model_module": "@jupyter-widgets/controls",
      "model_module_version": "1.5.0",
      "model_name": "DescriptionStyleModel",
      "state": {
       "_model_module": "@jupyter-widgets/controls",
       "_model_module_version": "1.5.0",
       "_model_name": "DescriptionStyleModel",
       "_view_count": null,
       "_view_module": "@jupyter-widgets/base",
       "_view_module_version": "1.2.0",
       "_view_name": "StyleView",
       "description_width": ""
      }
     },
     "5ae8c5492d904bb9b8a1a0c63a8184e1": {
      "model_module": "@jupyter-widgets/controls",
      "model_module_version": "1.5.0",
      "model_name": "HTMLModel",
      "state": {
       "_dom_classes": [],
       "_model_module": "@jupyter-widgets/controls",
       "_model_module_version": "1.5.0",
       "_model_name": "HTMLModel",
       "_view_count": null,
       "_view_module": "@jupyter-widgets/controls",
       "_view_module_version": "1.5.0",
       "_view_name": "HTMLView",
       "description": "",
       "description_tooltip": null,
       "layout": "IPY_MODEL_447e456d3b8a4d43a5505398a2dba4a0",
       "placeholder": "​",
       "style": "IPY_MODEL_3cca8b02a3a94bb999be5b9d82c89769",
       "value": "Downloading (…)olve/main/vocab.json: 100%"
      }
     },
     "5b23c2bb01f24e759f282d5454a091c2": {
      "model_module": "@jupyter-widgets/base",
      "model_module_version": "1.2.0",
      "model_name": "LayoutModel",
      "state": {
       "_model_module": "@jupyter-widgets/base",
       "_model_module_version": "1.2.0",
       "_model_name": "LayoutModel",
       "_view_count": null,
       "_view_module": "@jupyter-widgets/base",
       "_view_module_version": "1.2.0",
       "_view_name": "LayoutView",
       "align_content": null,
       "align_items": null,
       "align_self": null,
       "border": null,
       "bottom": null,
       "display": null,
       "flex": null,
       "flex_flow": null,
       "grid_area": null,
       "grid_auto_columns": null,
       "grid_auto_flow": null,
       "grid_auto_rows": null,
       "grid_column": null,
       "grid_gap": null,
       "grid_row": null,
       "grid_template_areas": null,
       "grid_template_columns": null,
       "grid_template_rows": null,
       "height": null,
       "justify_content": null,
       "justify_items": null,
       "left": null,
       "margin": null,
       "max_height": null,
       "max_width": null,
       "min_height": null,
       "min_width": null,
       "object_fit": null,
       "object_position": null,
       "order": null,
       "overflow": null,
       "overflow_x": null,
       "overflow_y": null,
       "padding": null,
       "right": null,
       "top": null,
       "visibility": null,
       "width": null
      }
     },
     "5d65775058614ceb9b6593b64dd61a74": {
      "model_module": "@jupyter-widgets/controls",
      "model_module_version": "1.5.0",
      "model_name": "DescriptionStyleModel",
      "state": {
       "_model_module": "@jupyter-widgets/controls",
       "_model_module_version": "1.5.0",
       "_model_name": "DescriptionStyleModel",
       "_view_count": null,
       "_view_module": "@jupyter-widgets/base",
       "_view_module_version": "1.2.0",
       "_view_name": "StyleView",
       "description_width": ""
      }
     },
     "5e14a37c7dc64571a860981b0d21ae45": {
      "model_module": "@jupyter-widgets/base",
      "model_module_version": "1.2.0",
      "model_name": "LayoutModel",
      "state": {
       "_model_module": "@jupyter-widgets/base",
       "_model_module_version": "1.2.0",
       "_model_name": "LayoutModel",
       "_view_count": null,
       "_view_module": "@jupyter-widgets/base",
       "_view_module_version": "1.2.0",
       "_view_name": "LayoutView",
       "align_content": null,
       "align_items": null,
       "align_self": null,
       "border": null,
       "bottom": null,
       "display": null,
       "flex": null,
       "flex_flow": null,
       "grid_area": null,
       "grid_auto_columns": null,
       "grid_auto_flow": null,
       "grid_auto_rows": null,
       "grid_column": null,
       "grid_gap": null,
       "grid_row": null,
       "grid_template_areas": null,
       "grid_template_columns": null,
       "grid_template_rows": null,
       "height": null,
       "justify_content": null,
       "justify_items": null,
       "left": null,
       "margin": null,
       "max_height": null,
       "max_width": null,
       "min_height": null,
       "min_width": null,
       "object_fit": null,
       "object_position": null,
       "order": null,
       "overflow": null,
       "overflow_x": null,
       "overflow_y": null,
       "padding": null,
       "right": null,
       "top": null,
       "visibility": null,
       "width": null
      }
     },
     "5ef6786881b445668e8b888d71962a77": {
      "model_module": "@jupyter-widgets/controls",
      "model_module_version": "1.5.0",
      "model_name": "HTMLModel",
      "state": {
       "_dom_classes": [],
       "_model_module": "@jupyter-widgets/controls",
       "_model_module_version": "1.5.0",
       "_model_name": "HTMLModel",
       "_view_count": null,
       "_view_module": "@jupyter-widgets/controls",
       "_view_module_version": "1.5.0",
       "_view_name": "HTMLView",
       "description": "",
       "description_tooltip": null,
       "layout": "IPY_MODEL_5e14a37c7dc64571a860981b0d21ae45",
       "placeholder": "​",
       "style": "IPY_MODEL_df0c3f5f25ab4b6dba4b94d35e20fcca",
       "value": " 1.42G/1.42G [00:15&lt;00:00, 88.0MB/s]"
      }
     },
     "5f3a93455aef4ed8bd3d845f4cfa871a": {
      "model_module": "@jupyter-widgets/base",
      "model_module_version": "1.2.0",
      "model_name": "LayoutModel",
      "state": {
       "_model_module": "@jupyter-widgets/base",
       "_model_module_version": "1.2.0",
       "_model_name": "LayoutModel",
       "_view_count": null,
       "_view_module": "@jupyter-widgets/base",
       "_view_module_version": "1.2.0",
       "_view_name": "LayoutView",
       "align_content": null,
       "align_items": null,
       "align_self": null,
       "border": null,
       "bottom": null,
       "display": null,
       "flex": null,
       "flex_flow": null,
       "grid_area": null,
       "grid_auto_columns": null,
       "grid_auto_flow": null,
       "grid_auto_rows": null,
       "grid_column": null,
       "grid_gap": null,
       "grid_row": null,
       "grid_template_areas": null,
       "grid_template_columns": null,
       "grid_template_rows": null,
       "height": null,
       "justify_content": null,
       "justify_items": null,
       "left": null,
       "margin": null,
       "max_height": null,
       "max_width": null,
       "min_height": null,
       "min_width": null,
       "object_fit": null,
       "object_position": null,
       "order": null,
       "overflow": null,
       "overflow_x": null,
       "overflow_y": null,
       "padding": null,
       "right": null,
       "top": null,
       "visibility": null,
       "width": null
      }
     },
     "609f2d2c29a04510b725fbc4554d4667": {
      "model_module": "@jupyter-widgets/base",
      "model_module_version": "1.2.0",
      "model_name": "LayoutModel",
      "state": {
       "_model_module": "@jupyter-widgets/base",
       "_model_module_version": "1.2.0",
       "_model_name": "LayoutModel",
       "_view_count": null,
       "_view_module": "@jupyter-widgets/base",
       "_view_module_version": "1.2.0",
       "_view_name": "LayoutView",
       "align_content": null,
       "align_items": null,
       "align_self": null,
       "border": null,
       "bottom": null,
       "display": null,
       "flex": null,
       "flex_flow": null,
       "grid_area": null,
       "grid_auto_columns": null,
       "grid_auto_flow": null,
       "grid_auto_rows": null,
       "grid_column": null,
       "grid_gap": null,
       "grid_row": null,
       "grid_template_areas": null,
       "grid_template_columns": null,
       "grid_template_rows": null,
       "height": null,
       "justify_content": null,
       "justify_items": null,
       "left": null,
       "margin": null,
       "max_height": null,
       "max_width": null,
       "min_height": null,
       "min_width": null,
       "object_fit": null,
       "object_position": null,
       "order": null,
       "overflow": null,
       "overflow_x": null,
       "overflow_y": null,
       "padding": null,
       "right": null,
       "top": null,
       "visibility": null,
       "width": null
      }
     },
     "612cae4c8eda49e3ab432f23fa76949b": {
      "model_module": "@jupyter-widgets/controls",
      "model_module_version": "1.5.0",
      "model_name": "HTMLModel",
      "state": {
       "_dom_classes": [],
       "_model_module": "@jupyter-widgets/controls",
       "_model_module_version": "1.5.0",
       "_model_name": "HTMLModel",
       "_view_count": null,
       "_view_module": "@jupyter-widgets/controls",
       "_view_module_version": "1.5.0",
       "_view_name": "HTMLView",
       "description": "",
       "description_tooltip": null,
       "layout": "IPY_MODEL_47bdbe088ef048c280cc1d42baff93fe",
       "placeholder": "​",
       "style": "IPY_MODEL_f3b9abc1eff245feb43ab1d0ff366141",
       "value": "Downloading (…)lve/main/config.json: 100%"
      }
     },
     "638efcebcca141f5820e1556e530de3d": {
      "model_module": "@jupyter-widgets/controls",
      "model_module_version": "1.5.0",
      "model_name": "DescriptionStyleModel",
      "state": {
       "_model_module": "@jupyter-widgets/controls",
       "_model_module_version": "1.5.0",
       "_model_name": "DescriptionStyleModel",
       "_view_count": null,
       "_view_module": "@jupyter-widgets/base",
       "_view_module_version": "1.2.0",
       "_view_name": "StyleView",
       "description_width": ""
      }
     },
     "6c714c37420649068e6d1abf36940d66": {
      "model_module": "@jupyter-widgets/controls",
      "model_module_version": "1.5.0",
      "model_name": "HTMLModel",
      "state": {
       "_dom_classes": [],
       "_model_module": "@jupyter-widgets/controls",
       "_model_module_version": "1.5.0",
       "_model_name": "HTMLModel",
       "_view_count": null,
       "_view_module": "@jupyter-widgets/controls",
       "_view_module_version": "1.5.0",
       "_view_name": "HTMLView",
       "description": "",
       "description_tooltip": null,
       "layout": "IPY_MODEL_b0db99a1ba364d8db23b3944eb1c1c52",
       "placeholder": "​",
       "style": "IPY_MODEL_85ba13d8fc98433a80f8677ce6507592",
       "value": "Downloading (…)/main/tokenizer.json: 100%"
      }
     },
     "6c9b04d8cecc4575b8bd29387941f75d": {
      "model_module": "@jupyter-widgets/controls",
      "model_module_version": "1.5.0",
      "model_name": "HTMLModel",
      "state": {
       "_dom_classes": [],
       "_model_module": "@jupyter-widgets/controls",
       "_model_module_version": "1.5.0",
       "_model_name": "HTMLModel",
       "_view_count": null,
       "_view_module": "@jupyter-widgets/controls",
       "_view_module_version": "1.5.0",
       "_view_name": "HTMLView",
       "description": "",
       "description_tooltip": null,
       "layout": "IPY_MODEL_745ec62107c04fcc95322952ee13d72d",
       "placeholder": "​",
       "style": "IPY_MODEL_c582119d41ea4cb09a5adf2bab4feeb7",
       "value": " 1.63G/1.63G [00:18&lt;00:00, 90.0MB/s]"
      }
     },
     "6f744869b6c34071b1cd3ba4cdd0de97": {
      "model_module": "@jupyter-widgets/controls",
      "model_module_version": "1.5.0",
      "model_name": "HTMLModel",
      "state": {
       "_dom_classes": [],
       "_model_module": "@jupyter-widgets/controls",
       "_model_module_version": "1.5.0",
       "_model_name": "HTMLModel",
       "_view_count": null,
       "_view_module": "@jupyter-widgets/controls",
       "_view_module_version": "1.5.0",
       "_view_name": "HTMLView",
       "description": "",
       "description_tooltip": null,
       "layout": "IPY_MODEL_34b30bdd4c3f444583575e373cb98c4e",
       "placeholder": "​",
       "style": "IPY_MODEL_5d65775058614ceb9b6593b64dd61a74",
       "value": " 1.36M/1.36M [00:00&lt;00:00, 7.51MB/s]"
      }
     },
     "72c01dabf2d84a0f8160c52bd938ff19": {
      "model_module": "@jupyter-widgets/base",
      "model_module_version": "1.2.0",
      "model_name": "LayoutModel",
      "state": {
       "_model_module": "@jupyter-widgets/base",
       "_model_module_version": "1.2.0",
       "_model_name": "LayoutModel",
       "_view_count": null,
       "_view_module": "@jupyter-widgets/base",
       "_view_module_version": "1.2.0",
       "_view_name": "LayoutView",
       "align_content": null,
       "align_items": null,
       "align_self": null,
       "border": null,
       "bottom": null,
       "display": null,
       "flex": null,
       "flex_flow": null,
       "grid_area": null,
       "grid_auto_columns": null,
       "grid_auto_flow": null,
       "grid_auto_rows": null,
       "grid_column": null,
       "grid_gap": null,
       "grid_row": null,
       "grid_template_areas": null,
       "grid_template_columns": null,
       "grid_template_rows": null,
       "height": null,
       "justify_content": null,
       "justify_items": null,
       "left": null,
       "margin": null,
       "max_height": null,
       "max_width": null,
       "min_height": null,
       "min_width": null,
       "object_fit": null,
       "object_position": null,
       "order": null,
       "overflow": null,
       "overflow_x": null,
       "overflow_y": null,
       "padding": null,
       "right": null,
       "top": null,
       "visibility": null,
       "width": null
      }
     },
     "745ec62107c04fcc95322952ee13d72d": {
      "model_module": "@jupyter-widgets/base",
      "model_module_version": "1.2.0",
      "model_name": "LayoutModel",
      "state": {
       "_model_module": "@jupyter-widgets/base",
       "_model_module_version": "1.2.0",
       "_model_name": "LayoutModel",
       "_view_count": null,
       "_view_module": "@jupyter-widgets/base",
       "_view_module_version": "1.2.0",
       "_view_name": "LayoutView",
       "align_content": null,
       "align_items": null,
       "align_self": null,
       "border": null,
       "bottom": null,
       "display": null,
       "flex": null,
       "flex_flow": null,
       "grid_area": null,
       "grid_auto_columns": null,
       "grid_auto_flow": null,
       "grid_auto_rows": null,
       "grid_column": null,
       "grid_gap": null,
       "grid_row": null,
       "grid_template_areas": null,
       "grid_template_columns": null,
       "grid_template_rows": null,
       "height": null,
       "justify_content": null,
       "justify_items": null,
       "left": null,
       "margin": null,
       "max_height": null,
       "max_width": null,
       "min_height": null,
       "min_width": null,
       "object_fit": null,
       "object_position": null,
       "order": null,
       "overflow": null,
       "overflow_x": null,
       "overflow_y": null,
       "padding": null,
       "right": null,
       "top": null,
       "visibility": null,
       "width": null
      }
     },
     "75fada3e798c4def823344a24c231d21": {
      "model_module": "@jupyter-widgets/controls",
      "model_module_version": "1.5.0",
      "model_name": "FloatProgressModel",
      "state": {
       "_dom_classes": [],
       "_model_module": "@jupyter-widgets/controls",
       "_model_module_version": "1.5.0",
       "_model_name": "FloatProgressModel",
       "_view_count": null,
       "_view_module": "@jupyter-widgets/controls",
       "_view_module_version": "1.5.0",
       "_view_name": "ProgressView",
       "bar_style": "success",
       "description": "",
       "description_tooltip": null,
       "layout": "IPY_MODEL_5f3a93455aef4ed8bd3d845f4cfa871a",
       "max": 482.0,
       "min": 0.0,
       "orientation": "horizontal",
       "style": "IPY_MODEL_f34e559ec87e48119822947f6567bd31",
       "value": 482.0
      }
     },
     "793bd68ea6e54446a9a9ef73a57275d2": {
      "model_module": "@jupyter-widgets/controls",
      "model_module_version": "1.5.0",
      "model_name": "DescriptionStyleModel",
      "state": {
       "_model_module": "@jupyter-widgets/controls",
       "_model_module_version": "1.5.0",
       "_model_name": "DescriptionStyleModel",
       "_view_count": null,
       "_view_module": "@jupyter-widgets/base",
       "_view_module_version": "1.2.0",
       "_view_name": "StyleView",
       "description_width": ""
      }
     },
     "7c621f4fa18f4c1c8780c63339dbb906": {
      "model_module": "@jupyter-widgets/base",
      "model_module_version": "1.2.0",
      "model_name": "LayoutModel",
      "state": {
       "_model_module": "@jupyter-widgets/base",
       "_model_module_version": "1.2.0",
       "_model_name": "LayoutModel",
       "_view_count": null,
       "_view_module": "@jupyter-widgets/base",
       "_view_module_version": "1.2.0",
       "_view_name": "LayoutView",
       "align_content": null,
       "align_items": null,
       "align_self": null,
       "border": null,
       "bottom": null,
       "display": null,
       "flex": null,
       "flex_flow": null,
       "grid_area": null,
       "grid_auto_columns": null,
       "grid_auto_flow": null,
       "grid_auto_rows": null,
       "grid_column": null,
       "grid_gap": null,
       "grid_row": null,
       "grid_template_areas": null,
       "grid_template_columns": null,
       "grid_template_rows": null,
       "height": null,
       "justify_content": null,
       "justify_items": null,
       "left": null,
       "margin": null,
       "max_height": null,
       "max_width": null,
       "min_height": null,
       "min_width": null,
       "object_fit": null,
       "object_position": null,
       "order": null,
       "overflow": null,
       "overflow_x": null,
       "overflow_y": null,
       "padding": null,
       "right": null,
       "top": null,
       "visibility": null,
       "width": null
      }
     },
     "7e0f6be4b9e2439fa070279da1e1d127": {
      "model_module": "@jupyter-widgets/base",
      "model_module_version": "1.2.0",
      "model_name": "LayoutModel",
      "state": {
       "_model_module": "@jupyter-widgets/base",
       "_model_module_version": "1.2.0",
       "_model_name": "LayoutModel",
       "_view_count": null,
       "_view_module": "@jupyter-widgets/base",
       "_view_module_version": "1.2.0",
       "_view_name": "LayoutView",
       "align_content": null,
       "align_items": null,
       "align_self": null,
       "border": null,
       "bottom": null,
       "display": null,
       "flex": null,
       "flex_flow": null,
       "grid_area": null,
       "grid_auto_columns": null,
       "grid_auto_flow": null,
       "grid_auto_rows": null,
       "grid_column": null,
       "grid_gap": null,
       "grid_row": null,
       "grid_template_areas": null,
       "grid_template_columns": null,
       "grid_template_rows": null,
       "height": null,
       "justify_content": null,
       "justify_items": null,
       "left": null,
       "margin": null,
       "max_height": null,
       "max_width": null,
       "min_height": null,
       "min_width": null,
       "object_fit": null,
       "object_position": null,
       "order": null,
       "overflow": null,
       "overflow_x": null,
       "overflow_y": null,
       "padding": null,
       "right": null,
       "top": null,
       "visibility": null,
       "width": null
      }
     },
     "8079edac17594020bcb1b9a41202aaab": {
      "model_module": "@jupyter-widgets/base",
      "model_module_version": "1.2.0",
      "model_name": "LayoutModel",
      "state": {
       "_model_module": "@jupyter-widgets/base",
       "_model_module_version": "1.2.0",
       "_model_name": "LayoutModel",
       "_view_count": null,
       "_view_module": "@jupyter-widgets/base",
       "_view_module_version": "1.2.0",
       "_view_name": "LayoutView",
       "align_content": null,
       "align_items": null,
       "align_self": null,
       "border": null,
       "bottom": null,
       "display": null,
       "flex": null,
       "flex_flow": null,
       "grid_area": null,
       "grid_auto_columns": null,
       "grid_auto_flow": null,
       "grid_auto_rows": null,
       "grid_column": null,
       "grid_gap": null,
       "grid_row": null,
       "grid_template_areas": null,
       "grid_template_columns": null,
       "grid_template_rows": null,
       "height": null,
       "justify_content": null,
       "justify_items": null,
       "left": null,
       "margin": null,
       "max_height": null,
       "max_width": null,
       "min_height": null,
       "min_width": null,
       "object_fit": null,
       "object_position": null,
       "order": null,
       "overflow": null,
       "overflow_x": null,
       "overflow_y": null,
       "padding": null,
       "right": null,
       "top": null,
       "visibility": null,
       "width": null
      }
     },
     "81e2e8d4338246c492d1208bd472a76b": {
      "model_module": "@jupyter-widgets/base",
      "model_module_version": "1.2.0",
      "model_name": "LayoutModel",
      "state": {
       "_model_module": "@jupyter-widgets/base",
       "_model_module_version": "1.2.0",
       "_model_name": "LayoutModel",
       "_view_count": null,
       "_view_module": "@jupyter-widgets/base",
       "_view_module_version": "1.2.0",
       "_view_name": "LayoutView",
       "align_content": null,
       "align_items": null,
       "align_self": null,
       "border": null,
       "bottom": null,
       "display": null,
       "flex": null,
       "flex_flow": null,
       "grid_area": null,
       "grid_auto_columns": null,
       "grid_auto_flow": null,
       "grid_auto_rows": null,
       "grid_column": null,
       "grid_gap": null,
       "grid_row": null,
       "grid_template_areas": null,
       "grid_template_columns": null,
       "grid_template_rows": null,
       "height": null,
       "justify_content": null,
       "justify_items": null,
       "left": null,
       "margin": null,
       "max_height": null,
       "max_width": null,
       "min_height": null,
       "min_width": null,
       "object_fit": null,
       "object_position": null,
       "order": null,
       "overflow": null,
       "overflow_x": null,
       "overflow_y": null,
       "padding": null,
       "right": null,
       "top": null,
       "visibility": null,
       "width": null
      }
     },
     "822f8a8c03e54538965277d89ff54d6e": {
      "model_module": "@jupyter-widgets/controls",
      "model_module_version": "1.5.0",
      "model_name": "FloatProgressModel",
      "state": {
       "_dom_classes": [],
       "_model_module": "@jupyter-widgets/controls",
       "_model_module_version": "1.5.0",
       "_model_name": "FloatProgressModel",
       "_view_count": null,
       "_view_module": "@jupyter-widgets/controls",
       "_view_module_version": "1.5.0",
       "_view_name": "ProgressView",
       "bar_style": "success",
       "description": "",
       "description_tooltip": null,
       "layout": "IPY_MODEL_0caa70b5ad844b73934435dfd85aecd2",
       "max": 456318.0,
       "min": 0.0,
       "orientation": "horizontal",
       "style": "IPY_MODEL_a8484b0ae7f449308aedf57a0cdf95cc",
       "value": 456318.0
      }
     },
     "826af48a1fdb4dd1bd849d8e37aa03a2": {
      "model_module": "@jupyter-widgets/controls",
      "model_module_version": "1.5.0",
      "model_name": "HTMLModel",
      "state": {
       "_dom_classes": [],
       "_model_module": "@jupyter-widgets/controls",
       "_model_module_version": "1.5.0",
       "_model_name": "HTMLModel",
       "_view_count": null,
       "_view_module": "@jupyter-widgets/controls",
       "_view_module_version": "1.5.0",
       "_view_name": "HTMLView",
       "description": "",
       "description_tooltip": null,
       "layout": "IPY_MODEL_375fef5d898d4f038c3868a0cf63c9a8",
       "placeholder": "​",
       "style": "IPY_MODEL_a1834ec55fc6469db93f63a91a972dff",
       "value": "Downloading (…)lve/main/config.json: 100%"
      }
     },
     "85ba13d8fc98433a80f8677ce6507592": {
      "model_module": "@jupyter-widgets/controls",
      "model_module_version": "1.5.0",
      "model_name": "DescriptionStyleModel",
      "state": {
       "_model_module": "@jupyter-widgets/controls",
       "_model_module_version": "1.5.0",
       "_model_name": "DescriptionStyleModel",
       "_view_count": null,
       "_view_module": "@jupyter-widgets/base",
       "_view_module_version": "1.2.0",
       "_view_name": "StyleView",
       "description_width": ""
      }
     },
     "86711e10df47406fa1325442fca0f8b7": {
      "model_module": "@jupyter-widgets/base",
      "model_module_version": "1.2.0",
      "model_name": "LayoutModel",
      "state": {
       "_model_module": "@jupyter-widgets/base",
       "_model_module_version": "1.2.0",
       "_model_name": "LayoutModel",
       "_view_count": null,
       "_view_module": "@jupyter-widgets/base",
       "_view_module_version": "1.2.0",
       "_view_name": "LayoutView",
       "align_content": null,
       "align_items": null,
       "align_self": null,
       "border": null,
       "bottom": null,
       "display": null,
       "flex": null,
       "flex_flow": null,
       "grid_area": null,
       "grid_auto_columns": null,
       "grid_auto_flow": null,
       "grid_auto_rows": null,
       "grid_column": null,
       "grid_gap": null,
       "grid_row": null,
       "grid_template_areas": null,
       "grid_template_columns": null,
       "grid_template_rows": null,
       "height": null,
       "justify_content": null,
       "justify_items": null,
       "left": null,
       "margin": null,
       "max_height": null,
       "max_width": null,
       "min_height": null,
       "min_width": null,
       "object_fit": null,
       "object_position": null,
       "order": null,
       "overflow": null,
       "overflow_x": null,
       "overflow_y": null,
       "padding": null,
       "right": null,
       "top": null,
       "visibility": null,
       "width": null
      }
     },
     "87d9b46ff0ad456e99d04f862921638d": {
      "model_module": "@jupyter-widgets/base",
      "model_module_version": "1.2.0",
      "model_name": "LayoutModel",
      "state": {
       "_model_module": "@jupyter-widgets/base",
       "_model_module_version": "1.2.0",
       "_model_name": "LayoutModel",
       "_view_count": null,
       "_view_module": "@jupyter-widgets/base",
       "_view_module_version": "1.2.0",
       "_view_name": "LayoutView",
       "align_content": null,
       "align_items": null,
       "align_self": null,
       "border": null,
       "bottom": null,
       "display": null,
       "flex": null,
       "flex_flow": null,
       "grid_area": null,
       "grid_auto_columns": null,
       "grid_auto_flow": null,
       "grid_auto_rows": null,
       "grid_column": null,
       "grid_gap": null,
       "grid_row": null,
       "grid_template_areas": null,
       "grid_template_columns": null,
       "grid_template_rows": null,
       "height": null,
       "justify_content": null,
       "justify_items": null,
       "left": null,
       "margin": null,
       "max_height": null,
       "max_width": null,
       "min_height": null,
       "min_width": null,
       "object_fit": null,
       "object_position": null,
       "order": null,
       "overflow": null,
       "overflow_x": null,
       "overflow_y": null,
       "padding": null,
       "right": null,
       "top": null,
       "visibility": null,
       "width": null
      }
     },
     "88c28a11bfe44bc78e3474988bbd5d55": {
      "model_module": "@jupyter-widgets/controls",
      "model_module_version": "1.5.0",
      "model_name": "ProgressStyleModel",
      "state": {
       "_model_module": "@jupyter-widgets/controls",
       "_model_module_version": "1.5.0",
       "_model_name": "ProgressStyleModel",
       "_view_count": null,
       "_view_module": "@jupyter-widgets/base",
       "_view_module_version": "1.2.0",
       "_view_name": "StyleView",
       "bar_color": null,
       "description_width": ""
      }
     },
     "9142c06773844c01951c4ceff0d49b01": {
      "model_module": "@jupyter-widgets/controls",
      "model_module_version": "1.5.0",
      "model_name": "DescriptionStyleModel",
      "state": {
       "_model_module": "@jupyter-widgets/controls",
       "_model_module_version": "1.5.0",
       "_model_name": "DescriptionStyleModel",
       "_view_count": null,
       "_view_module": "@jupyter-widgets/base",
       "_view_module_version": "1.2.0",
       "_view_name": "StyleView",
       "description_width": ""
      }
     },
     "95980eea6a1449029ea84f8b985c02d2": {
      "model_module": "@jupyter-widgets/base",
      "model_module_version": "1.2.0",
      "model_name": "LayoutModel",
      "state": {
       "_model_module": "@jupyter-widgets/base",
       "_model_module_version": "1.2.0",
       "_model_name": "LayoutModel",
       "_view_count": null,
       "_view_module": "@jupyter-widgets/base",
       "_view_module_version": "1.2.0",
       "_view_name": "LayoutView",
       "align_content": null,
       "align_items": null,
       "align_self": null,
       "border": null,
       "bottom": null,
       "display": null,
       "flex": null,
       "flex_flow": null,
       "grid_area": null,
       "grid_auto_columns": null,
       "grid_auto_flow": null,
       "grid_auto_rows": null,
       "grid_column": null,
       "grid_gap": null,
       "grid_row": null,
       "grid_template_areas": null,
       "grid_template_columns": null,
       "grid_template_rows": null,
       "height": null,
       "justify_content": null,
       "justify_items": null,
       "left": null,
       "margin": null,
       "max_height": null,
       "max_width": null,
       "min_height": null,
       "min_width": null,
       "object_fit": null,
       "object_position": null,
       "order": null,
       "overflow": null,
       "overflow_x": null,
       "overflow_y": null,
       "padding": null,
       "right": null,
       "top": null,
       "visibility": null,
       "width": null
      }
     },
     "98dd169f6c54415eb7dea40d6e18ee32": {
      "model_module": "@jupyter-widgets/controls",
      "model_module_version": "1.5.0",
      "model_name": "HTMLModel",
      "state": {
       "_dom_classes": [],
       "_model_module": "@jupyter-widgets/controls",
       "_model_module_version": "1.5.0",
       "_model_name": "HTMLModel",
       "_view_count": null,
       "_view_module": "@jupyter-widgets/controls",
       "_view_module_version": "1.5.0",
       "_view_name": "HTMLView",
       "description": "",
       "description_tooltip": null,
       "layout": "IPY_MODEL_5b23c2bb01f24e759f282d5454a091c2",
       "placeholder": "​",
       "style": "IPY_MODEL_e738f24e0c544413a8c6fa8dafb3cbf0",
       "value": " 481/481 [00:00&lt;00:00, 34.3kB/s]"
      }
     },
     "99ed6efe42544c4ab0861b02be6c69a9": {
      "model_module": "@jupyter-widgets/controls",
      "model_module_version": "1.5.0",
      "model_name": "HTMLModel",
      "state": {
       "_dom_classes": [],
       "_model_module": "@jupyter-widgets/controls",
       "_model_module_version": "1.5.0",
       "_model_name": "HTMLModel",
       "_view_count": null,
       "_view_module": "@jupyter-widgets/controls",
       "_view_module_version": "1.5.0",
       "_view_name": "HTMLView",
       "description": "",
       "description_tooltip": null,
       "layout": "IPY_MODEL_efcc470f6aa244f1aa413ee098fa2a87",
       "placeholder": "​",
       "style": "IPY_MODEL_9142c06773844c01951c4ceff0d49b01",
       "value": "Downloading (…)lve/main/config.json: 100%"
      }
     },
     "9b74fc65879d46199f24e9ab52975964": {
      "model_module": "@jupyter-widgets/controls",
      "model_module_version": "1.5.0",
      "model_name": "DescriptionStyleModel",
      "state": {
       "_model_module": "@jupyter-widgets/controls",
       "_model_module_version": "1.5.0",
       "_model_name": "DescriptionStyleModel",
       "_view_count": null,
       "_view_module": "@jupyter-widgets/base",
       "_view_module_version": "1.2.0",
       "_view_name": "StyleView",
       "description_width": ""
      }
     },
     "a1834ec55fc6469db93f63a91a972dff": {
      "model_module": "@jupyter-widgets/controls",
      "model_module_version": "1.5.0",
      "model_name": "DescriptionStyleModel",
      "state": {
       "_model_module": "@jupyter-widgets/controls",
       "_model_module_version": "1.5.0",
       "_model_name": "DescriptionStyleModel",
       "_view_count": null,
       "_view_module": "@jupyter-widgets/base",
       "_view_module_version": "1.2.0",
       "_view_name": "StyleView",
       "description_width": ""
      }
     },
     "a238b30e75e946a891e50e7a6a484be7": {
      "model_module": "@jupyter-widgets/base",
      "model_module_version": "1.2.0",
      "model_name": "LayoutModel",
      "state": {
       "_model_module": "@jupyter-widgets/base",
       "_model_module_version": "1.2.0",
       "_model_name": "LayoutModel",
       "_view_count": null,
       "_view_module": "@jupyter-widgets/base",
       "_view_module_version": "1.2.0",
       "_view_name": "LayoutView",
       "align_content": null,
       "align_items": null,
       "align_self": null,
       "border": null,
       "bottom": null,
       "display": null,
       "flex": null,
       "flex_flow": null,
       "grid_area": null,
       "grid_auto_columns": null,
       "grid_auto_flow": null,
       "grid_auto_rows": null,
       "grid_column": null,
       "grid_gap": null,
       "grid_row": null,
       "grid_template_areas": null,
       "grid_template_columns": null,
       "grid_template_rows": null,
       "height": null,
       "justify_content": null,
       "justify_items": null,
       "left": null,
       "margin": null,
       "max_height": null,
       "max_width": null,
       "min_height": null,
       "min_width": null,
       "object_fit": null,
       "object_position": null,
       "order": null,
       "overflow": null,
       "overflow_x": null,
       "overflow_y": null,
       "padding": null,
       "right": null,
       "top": null,
       "visibility": null,
       "width": null
      }
     },
     "a2d46993874d4f1a810d07b9181d809d": {
      "model_module": "@jupyter-widgets/controls",
      "model_module_version": "1.5.0",
      "model_name": "FloatProgressModel",
      "state": {
       "_dom_classes": [],
       "_model_module": "@jupyter-widgets/controls",
       "_model_module_version": "1.5.0",
       "_model_name": "FloatProgressModel",
       "_view_count": null,
       "_view_module": "@jupyter-widgets/controls",
       "_view_module_version": "1.5.0",
       "_view_name": "ProgressView",
       "bar_style": "success",
       "description": "",
       "description_tooltip": null,
       "layout": "IPY_MODEL_f9a5e6595e6c49ac8627b66bdef276ec",
       "max": 47372894.0,
       "min": 0.0,
       "orientation": "horizontal",
       "style": "IPY_MODEL_3ba819db18544e608442261131a0a1f8",
       "value": 47372894.0
      }
     },
     "a2f45a6a064b4c97a0c33c8f0a8b4f0e": {
      "model_module": "@jupyter-widgets/controls",
      "model_module_version": "1.5.0",
      "model_name": "DescriptionStyleModel",
      "state": {
       "_model_module": "@jupyter-widgets/controls",
       "_model_module_version": "1.5.0",
       "_model_name": "DescriptionStyleModel",
       "_view_count": null,
       "_view_module": "@jupyter-widgets/base",
       "_view_module_version": "1.2.0",
       "_view_name": "StyleView",
       "description_width": ""
      }
     },
     "a7e58818aced40a5b08d4004c921f1da": {
      "model_module": "@jupyter-widgets/controls",
      "model_module_version": "1.5.0",
      "model_name": "FloatProgressModel",
      "state": {
       "_dom_classes": [],
       "_model_module": "@jupyter-widgets/controls",
       "_model_module_version": "1.5.0",
       "_model_name": "FloatProgressModel",
       "_view_count": null,
       "_view_module": "@jupyter-widgets/controls",
       "_view_module_version": "1.5.0",
       "_view_name": "ProgressView",
       "bar_style": "success",
       "description": "",
       "description_tooltip": null,
       "layout": "IPY_MODEL_fab2ed3c34434ae1afb2490a3ad34fe9",
       "max": 684.0,
       "min": 0.0,
       "orientation": "horizontal",
       "style": "IPY_MODEL_24f147670b7b48399a31a4b78d7d4a93",
       "value": 684.0
      }
     },
     "a8484b0ae7f449308aedf57a0cdf95cc": {
      "model_module": "@jupyter-widgets/controls",
      "model_module_version": "1.5.0",
      "model_name": "ProgressStyleModel",
      "state": {
       "_model_module": "@jupyter-widgets/controls",
       "_model_module_version": "1.5.0",
       "_model_name": "ProgressStyleModel",
       "_view_count": null,
       "_view_module": "@jupyter-widgets/base",
       "_view_module_version": "1.2.0",
       "_view_name": "StyleView",
       "bar_color": null,
       "description_width": ""
      }
     },
     "a9eac6358142446eb222e7b811c820ee": {
      "model_module": "@jupyter-widgets/controls",
      "model_module_version": "1.5.0",
      "model_name": "FloatProgressModel",
      "state": {
       "_dom_classes": [],
       "_model_module": "@jupyter-widgets/controls",
       "_model_module_version": "1.5.0",
       "_model_name": "FloatProgressModel",
       "_view_count": null,
       "_view_module": "@jupyter-widgets/controls",
       "_view_module_version": "1.5.0",
       "_view_name": "ProgressView",
       "bar_style": "success",
       "description": "",
       "description_tooltip": null,
       "layout": "IPY_MODEL_95980eea6a1449029ea84f8b985c02d2",
       "max": 481.0,
       "min": 0.0,
       "orientation": "horizontal",
       "style": "IPY_MODEL_4dbdc96a2312401ba23997a164596895",
       "value": 481.0
      }
     },
     "aa121f2127b44b6caa8db26e0d512746": {
      "model_module": "@jupyter-widgets/controls",
      "model_module_version": "1.5.0",
      "model_name": "HTMLModel",
      "state": {
       "_dom_classes": [],
       "_model_module": "@jupyter-widgets/controls",
       "_model_module_version": "1.5.0",
       "_model_name": "HTMLModel",
       "_view_count": null,
       "_view_module": "@jupyter-widgets/controls",
       "_view_module_version": "1.5.0",
       "_view_name": "HTMLView",
       "description": "",
       "description_tooltip": null,
       "layout": "IPY_MODEL_362bd2a6a05540a78efd29392c141792",
       "placeholder": "​",
       "style": "IPY_MODEL_3d782064136c475f83786ddf0ecfe73d",
       "value": " 482/482 [00:00&lt;00:00, 34.6kB/s]"
      }
     },
     "ab3b2f514f2243728204bdbf9028eebc": {
      "model_module": "@jupyter-widgets/controls",
      "model_module_version": "1.5.0",
      "model_name": "DescriptionStyleModel",
      "state": {
       "_model_module": "@jupyter-widgets/controls",
       "_model_module_version": "1.5.0",
       "_model_name": "DescriptionStyleModel",
       "_view_count": null,
       "_view_module": "@jupyter-widgets/base",
       "_view_module_version": "1.2.0",
       "_view_name": "StyleView",
       "description_width": ""
      }
     },
     "ab4de6d43930479fbe7f33917d5b57d5": {
      "model_module": "@jupyter-widgets/base",
      "model_module_version": "1.2.0",
      "model_name": "LayoutModel",
      "state": {
       "_model_module": "@jupyter-widgets/base",
       "_model_module_version": "1.2.0",
       "_model_name": "LayoutModel",
       "_view_count": null,
       "_view_module": "@jupyter-widgets/base",
       "_view_module_version": "1.2.0",
       "_view_name": "LayoutView",
       "align_content": null,
       "align_items": null,
       "align_self": null,
       "border": null,
       "bottom": null,
       "display": null,
       "flex": null,
       "flex_flow": null,
       "grid_area": null,
       "grid_auto_columns": null,
       "grid_auto_flow": null,
       "grid_auto_rows": null,
       "grid_column": null,
       "grid_gap": null,
       "grid_row": null,
       "grid_template_areas": null,
       "grid_template_columns": null,
       "grid_template_rows": null,
       "height": null,
       "justify_content": null,
       "justify_items": null,
       "left": null,
       "margin": null,
       "max_height": null,
       "max_width": null,
       "min_height": null,
       "min_width": null,
       "object_fit": null,
       "object_position": null,
       "order": null,
       "overflow": null,
       "overflow_x": null,
       "overflow_y": null,
       "padding": null,
       "right": null,
       "top": null,
       "visibility": null,
       "width": null
      }
     },
     "ad761d71c0524f27a7d3e853bc6d864d": {
      "model_module": "@jupyter-widgets/controls",
      "model_module_version": "1.5.0",
      "model_name": "FloatProgressModel",
      "state": {
       "_dom_classes": [],
       "_model_module": "@jupyter-widgets/controls",
       "_model_module_version": "1.5.0",
       "_model_name": "FloatProgressModel",
       "_view_count": null,
       "_view_module": "@jupyter-widgets/controls",
       "_view_module_version": "1.5.0",
       "_view_name": "ProgressView",
       "bar_style": "success",
       "description": "",
       "description_tooltip": null,
       "layout": "IPY_MODEL_86711e10df47406fa1325442fca0f8b7",
       "max": 475.0,
       "min": 0.0,
       "orientation": "horizontal",
       "style": "IPY_MODEL_c44f4f8249bd41e7b0d1c32e4cbbbf4e",
       "value": 475.0
      }
     },
     "af67f98e86734c46a421184d89e7f2c7": {
      "model_module": "@jupyter-widgets/controls",
      "model_module_version": "1.5.0",
      "model_name": "HTMLModel",
      "state": {
       "_dom_classes": [],
       "_model_module": "@jupyter-widgets/controls",
       "_model_module_version": "1.5.0",
       "_model_name": "HTMLModel",
       "_view_count": null,
       "_view_module": "@jupyter-widgets/controls",
       "_view_module_version": "1.5.0",
       "_view_name": "HTMLView",
       "description": "",
       "description_tooltip": null,
       "layout": "IPY_MODEL_e31dad1b21b040d9addb55209b98ce08",
       "placeholder": "​",
       "style": "IPY_MODEL_2d72a2f6b5da4858902b0c9fae4c2470",
       "value": "Downloading pytorch_model.bin: 100%"
      }
     },
     "b0ab5419d34a4ecfbbf4a4924f27cb13": {
      "model_module": "@jupyter-widgets/controls",
      "model_module_version": "1.5.0",
      "model_name": "HBoxModel",
      "state": {
       "_dom_classes": [],
       "_model_module": "@jupyter-widgets/controls",
       "_model_module_version": "1.5.0",
       "_model_name": "HBoxModel",
       "_view_count": null,
       "_view_module": "@jupyter-widgets/controls",
       "_view_module_version": "1.5.0",
       "_view_name": "HBoxView",
       "box_style": "",
       "children": [
        "IPY_MODEL_b900e2ca5e6c470e87a8ea5158bb7cee",
        "IPY_MODEL_822f8a8c03e54538965277d89ff54d6e",
        "IPY_MODEL_ffcfe7c12cd84914b02c29aa45e1237e"
       ],
       "layout": "IPY_MODEL_107a99b14ad04c769b85d47c95a69f97"
      }
     },
     "b0db99a1ba364d8db23b3944eb1c1c52": {
      "model_module": "@jupyter-widgets/base",
      "model_module_version": "1.2.0",
      "model_name": "LayoutModel",
      "state": {
       "_model_module": "@jupyter-widgets/base",
       "_model_module_version": "1.2.0",
       "_model_name": "LayoutModel",
       "_view_count": null,
       "_view_module": "@jupyter-widgets/base",
       "_view_module_version": "1.2.0",
       "_view_name": "LayoutView",
       "align_content": null,
       "align_items": null,
       "align_self": null,
       "border": null,
       "bottom": null,
       "display": null,
       "flex": null,
       "flex_flow": null,
       "grid_area": null,
       "grid_auto_columns": null,
       "grid_auto_flow": null,
       "grid_auto_rows": null,
       "grid_column": null,
       "grid_gap": null,
       "grid_row": null,
       "grid_template_areas": null,
       "grid_template_columns": null,
       "grid_template_rows": null,
       "height": null,
       "justify_content": null,
       "justify_items": null,
       "left": null,
       "margin": null,
       "max_height": null,
       "max_width": null,
       "min_height": null,
       "min_width": null,
       "object_fit": null,
       "object_position": null,
       "order": null,
       "overflow": null,
       "overflow_x": null,
       "overflow_y": null,
       "padding": null,
       "right": null,
       "top": null,
       "visibility": null,
       "width": null
      }
     },
     "b900e2ca5e6c470e87a8ea5158bb7cee": {
      "model_module": "@jupyter-widgets/controls",
      "model_module_version": "1.5.0",
      "model_name": "HTMLModel",
      "state": {
       "_dom_classes": [],
       "_model_module": "@jupyter-widgets/controls",
       "_model_module_version": "1.5.0",
       "_model_name": "HTMLModel",
       "_view_count": null,
       "_view_module": "@jupyter-widgets/controls",
       "_view_module_version": "1.5.0",
       "_view_name": "HTMLView",
       "description": "",
       "description_tooltip": null,
       "layout": "IPY_MODEL_72c01dabf2d84a0f8160c52bd938ff19",
       "placeholder": "​",
       "style": "IPY_MODEL_ab3b2f514f2243728204bdbf9028eebc",
       "value": "Downloading (…)olve/main/merges.txt: 100%"
      }
     },
     "b9f38945c0a54e5c97834c4c5bec34c7": {
      "model_module": "@jupyter-widgets/base",
      "model_module_version": "1.2.0",
      "model_name": "LayoutModel",
      "state": {
       "_model_module": "@jupyter-widgets/base",
       "_model_module_version": "1.2.0",
       "_model_name": "LayoutModel",
       "_view_count": null,
       "_view_module": "@jupyter-widgets/base",
       "_view_module_version": "1.2.0",
       "_view_name": "LayoutView",
       "align_content": null,
       "align_items": null,
       "align_self": null,
       "border": null,
       "bottom": null,
       "display": null,
       "flex": null,
       "flex_flow": null,
       "grid_area": null,
       "grid_auto_columns": null,
       "grid_auto_flow": null,
       "grid_auto_rows": null,
       "grid_column": null,
       "grid_gap": null,
       "grid_row": null,
       "grid_template_areas": null,
       "grid_template_columns": null,
       "grid_template_rows": null,
       "height": null,
       "justify_content": null,
       "justify_items": null,
       "left": null,
       "margin": null,
       "max_height": null,
       "max_width": null,
       "min_height": null,
       "min_width": null,
       "object_fit": null,
       "object_position": null,
       "order": null,
       "overflow": null,
       "overflow_x": null,
       "overflow_y": null,
       "padding": null,
       "right": null,
       "top": null,
       "visibility": null,
       "width": null
      }
     },
     "bc542ccff63b4deb97bcaf80d4fc94af": {
      "model_module": "@jupyter-widgets/controls",
      "model_module_version": "1.5.0",
      "model_name": "ProgressStyleModel",
      "state": {
       "_model_module": "@jupyter-widgets/controls",
       "_model_module_version": "1.5.0",
       "_model_name": "ProgressStyleModel",
       "_view_count": null,
       "_view_module": "@jupyter-widgets/base",
       "_view_module_version": "1.2.0",
       "_view_name": "StyleView",
       "bar_color": null,
       "description_width": ""
      }
     },
     "bcda1a0d986e4150b780f48514a3ac34": {
      "model_module": "@jupyter-widgets/controls",
      "model_module_version": "1.5.0",
      "model_name": "HTMLModel",
      "state": {
       "_dom_classes": [],
       "_model_module": "@jupyter-widgets/controls",
       "_model_module_version": "1.5.0",
       "_model_name": "HTMLModel",
       "_view_count": null,
       "_view_module": "@jupyter-widgets/controls",
       "_view_module_version": "1.5.0",
       "_view_name": "HTMLView",
       "description": "",
       "description_tooltip": null,
       "layout": "IPY_MODEL_db07ad98ed1946ccbe92e8c91580020d",
       "placeholder": "​",
       "style": "IPY_MODEL_faefb8c8e5934e0aa6e032bfe0d9f66f",
       "value": " 899k/899k [00:00&lt;00:00, 1.29MB/s]"
      }
     },
     "beb6ce5a72754e2b9bbbd831c551b9b9": {
      "model_module": "@jupyter-widgets/controls",
      "model_module_version": "1.5.0",
      "model_name": "DescriptionStyleModel",
      "state": {
       "_model_module": "@jupyter-widgets/controls",
       "_model_module_version": "1.5.0",
       "_model_name": "DescriptionStyleModel",
       "_view_count": null,
       "_view_module": "@jupyter-widgets/base",
       "_view_module_version": "1.2.0",
       "_view_name": "StyleView",
       "description_width": ""
      }
     },
     "c1dc2623aaf14a9e9c7f7658dd20abb5": {
      "model_module": "@jupyter-widgets/base",
      "model_module_version": "1.2.0",
      "model_name": "LayoutModel",
      "state": {
       "_model_module": "@jupyter-widgets/base",
       "_model_module_version": "1.2.0",
       "_model_name": "LayoutModel",
       "_view_count": null,
       "_view_module": "@jupyter-widgets/base",
       "_view_module_version": "1.2.0",
       "_view_name": "LayoutView",
       "align_content": null,
       "align_items": null,
       "align_self": null,
       "border": null,
       "bottom": null,
       "display": null,
       "flex": null,
       "flex_flow": null,
       "grid_area": null,
       "grid_auto_columns": null,
       "grid_auto_flow": null,
       "grid_auto_rows": null,
       "grid_column": null,
       "grid_gap": null,
       "grid_row": null,
       "grid_template_areas": null,
       "grid_template_columns": null,
       "grid_template_rows": null,
       "height": null,
       "justify_content": null,
       "justify_items": null,
       "left": null,
       "margin": null,
       "max_height": null,
       "max_width": null,
       "min_height": null,
       "min_width": null,
       "object_fit": null,
       "object_position": null,
       "order": null,
       "overflow": null,
       "overflow_x": null,
       "overflow_y": null,
       "padding": null,
       "right": null,
       "top": null,
       "visibility": null,
       "width": null
      }
     },
     "c211c2b35c78406daab0c0376d31a7d3": {
      "model_module": "@jupyter-widgets/base",
      "model_module_version": "1.2.0",
      "model_name": "LayoutModel",
      "state": {
       "_model_module": "@jupyter-widgets/base",
       "_model_module_version": "1.2.0",
       "_model_name": "LayoutModel",
       "_view_count": null,
       "_view_module": "@jupyter-widgets/base",
       "_view_module_version": "1.2.0",
       "_view_name": "LayoutView",
       "align_content": null,
       "align_items": null,
       "align_self": null,
       "border": null,
       "bottom": null,
       "display": null,
       "flex": null,
       "flex_flow": null,
       "grid_area": null,
       "grid_auto_columns": null,
       "grid_auto_flow": null,
       "grid_auto_rows": null,
       "grid_column": null,
       "grid_gap": null,
       "grid_row": null,
       "grid_template_areas": null,
       "grid_template_columns": null,
       "grid_template_rows": null,
       "height": null,
       "justify_content": null,
       "justify_items": null,
       "left": null,
       "margin": null,
       "max_height": null,
       "max_width": null,
       "min_height": null,
       "min_width": null,
       "object_fit": null,
       "object_position": null,
       "order": null,
       "overflow": null,
       "overflow_x": null,
       "overflow_y": null,
       "padding": null,
       "right": null,
       "top": null,
       "visibility": null,
       "width": null
      }
     },
     "c44f4f8249bd41e7b0d1c32e4cbbbf4e": {
      "model_module": "@jupyter-widgets/controls",
      "model_module_version": "1.5.0",
      "model_name": "ProgressStyleModel",
      "state": {
       "_model_module": "@jupyter-widgets/controls",
       "_model_module_version": "1.5.0",
       "_model_name": "ProgressStyleModel",
       "_view_count": null,
       "_view_module": "@jupyter-widgets/base",
       "_view_module_version": "1.2.0",
       "_view_name": "StyleView",
       "bar_color": null,
       "description_width": ""
      }
     },
     "c582119d41ea4cb09a5adf2bab4feeb7": {
      "model_module": "@jupyter-widgets/controls",
      "model_module_version": "1.5.0",
      "model_name": "DescriptionStyleModel",
      "state": {
       "_model_module": "@jupyter-widgets/controls",
       "_model_module_version": "1.5.0",
       "_model_name": "DescriptionStyleModel",
       "_view_count": null,
       "_view_module": "@jupyter-widgets/base",
       "_view_module_version": "1.2.0",
       "_view_name": "StyleView",
       "description_width": ""
      }
     },
     "c82eef54ceba40dba885e751722c96fc": {
      "model_module": "@jupyter-widgets/controls",
      "model_module_version": "1.5.0",
      "model_name": "HBoxModel",
      "state": {
       "_dom_classes": [],
       "_model_module": "@jupyter-widgets/controls",
       "_model_module_version": "1.5.0",
       "_model_name": "HBoxModel",
       "_view_count": null,
       "_view_module": "@jupyter-widgets/controls",
       "_view_module_version": "1.5.0",
       "_view_name": "HBoxView",
       "box_style": "",
       "children": [
        "IPY_MODEL_99ed6efe42544c4ab0861b02be6c69a9",
        "IPY_MODEL_75fada3e798c4def823344a24c231d21",
        "IPY_MODEL_aa121f2127b44b6caa8db26e0d512746"
       ],
       "layout": "IPY_MODEL_f35b9f9ad84a44a09bd01d02b9a92f65"
      }
     },
     "c8dcbd9640f44c9ab4216bfe56d91cf1": {
      "model_module": "@jupyter-widgets/controls",
      "model_module_version": "1.5.0",
      "model_name": "DescriptionStyleModel",
      "state": {
       "_model_module": "@jupyter-widgets/controls",
       "_model_module_version": "1.5.0",
       "_model_name": "DescriptionStyleModel",
       "_view_count": null,
       "_view_module": "@jupyter-widgets/base",
       "_view_module_version": "1.2.0",
       "_view_name": "StyleView",
       "description_width": ""
      }
     },
     "da91c99dfc414b03a42c8df1318cf4ed": {
      "model_module": "@jupyter-widgets/base",
      "model_module_version": "1.2.0",
      "model_name": "LayoutModel",
      "state": {
       "_model_module": "@jupyter-widgets/base",
       "_model_module_version": "1.2.0",
       "_model_name": "LayoutModel",
       "_view_count": null,
       "_view_module": "@jupyter-widgets/base",
       "_view_module_version": "1.2.0",
       "_view_name": "LayoutView",
       "align_content": null,
       "align_items": null,
       "align_self": null,
       "border": null,
       "bottom": null,
       "display": null,
       "flex": null,
       "flex_flow": null,
       "grid_area": null,
       "grid_auto_columns": null,
       "grid_auto_flow": null,
       "grid_auto_rows": null,
       "grid_column": null,
       "grid_gap": null,
       "grid_row": null,
       "grid_template_areas": null,
       "grid_template_columns": null,
       "grid_template_rows": null,
       "height": null,
       "justify_content": null,
       "justify_items": null,
       "left": null,
       "margin": null,
       "max_height": null,
       "max_width": null,
       "min_height": null,
       "min_width": null,
       "object_fit": null,
       "object_position": null,
       "order": null,
       "overflow": null,
       "overflow_x": null,
       "overflow_y": null,
       "padding": null,
       "right": null,
       "top": null,
       "visibility": null,
       "width": null
      }
     },
     "db07ad98ed1946ccbe92e8c91580020d": {
      "model_module": "@jupyter-widgets/base",
      "model_module_version": "1.2.0",
      "model_name": "LayoutModel",
      "state": {
       "_model_module": "@jupyter-widgets/base",
       "_model_module_version": "1.2.0",
       "_model_name": "LayoutModel",
       "_view_count": null,
       "_view_module": "@jupyter-widgets/base",
       "_view_module_version": "1.2.0",
       "_view_name": "LayoutView",
       "align_content": null,
       "align_items": null,
       "align_self": null,
       "border": null,
       "bottom": null,
       "display": null,
       "flex": null,
       "flex_flow": null,
       "grid_area": null,
       "grid_auto_columns": null,
       "grid_auto_flow": null,
       "grid_auto_rows": null,
       "grid_column": null,
       "grid_gap": null,
       "grid_row": null,
       "grid_template_areas": null,
       "grid_template_columns": null,
       "grid_template_rows": null,
       "height": null,
       "justify_content": null,
       "justify_items": null,
       "left": null,
       "margin": null,
       "max_height": null,
       "max_width": null,
       "min_height": null,
       "min_width": null,
       "object_fit": null,
       "object_position": null,
       "order": null,
       "overflow": null,
       "overflow_x": null,
       "overflow_y": null,
       "padding": null,
       "right": null,
       "top": null,
       "visibility": null,
       "width": null
      }
     },
     "df0c3f5f25ab4b6dba4b94d35e20fcca": {
      "model_module": "@jupyter-widgets/controls",
      "model_module_version": "1.5.0",
      "model_name": "DescriptionStyleModel",
      "state": {
       "_model_module": "@jupyter-widgets/controls",
       "_model_module_version": "1.5.0",
       "_model_name": "DescriptionStyleModel",
       "_view_count": null,
       "_view_module": "@jupyter-widgets/base",
       "_view_module_version": "1.2.0",
       "_view_name": "StyleView",
       "description_width": ""
      }
     },
     "e31dad1b21b040d9addb55209b98ce08": {
      "model_module": "@jupyter-widgets/base",
      "model_module_version": "1.2.0",
      "model_name": "LayoutModel",
      "state": {
       "_model_module": "@jupyter-widgets/base",
       "_model_module_version": "1.2.0",
       "_model_name": "LayoutModel",
       "_view_count": null,
       "_view_module": "@jupyter-widgets/base",
       "_view_module_version": "1.2.0",
       "_view_name": "LayoutView",
       "align_content": null,
       "align_items": null,
       "align_self": null,
       "border": null,
       "bottom": null,
       "display": null,
       "flex": null,
       "flex_flow": null,
       "grid_area": null,
       "grid_auto_columns": null,
       "grid_auto_flow": null,
       "grid_auto_rows": null,
       "grid_column": null,
       "grid_gap": null,
       "grid_row": null,
       "grid_template_areas": null,
       "grid_template_columns": null,
       "grid_template_rows": null,
       "height": null,
       "justify_content": null,
       "justify_items": null,
       "left": null,
       "margin": null,
       "max_height": null,
       "max_width": null,
       "min_height": null,
       "min_width": null,
       "object_fit": null,
       "object_position": null,
       "order": null,
       "overflow": null,
       "overflow_x": null,
       "overflow_y": null,
       "padding": null,
       "right": null,
       "top": null,
       "visibility": null,
       "width": null
      }
     },
     "e738f24e0c544413a8c6fa8dafb3cbf0": {
      "model_module": "@jupyter-widgets/controls",
      "model_module_version": "1.5.0",
      "model_name": "DescriptionStyleModel",
      "state": {
       "_model_module": "@jupyter-widgets/controls",
       "_model_module_version": "1.5.0",
       "_model_name": "DescriptionStyleModel",
       "_view_count": null,
       "_view_module": "@jupyter-widgets/base",
       "_view_module_version": "1.2.0",
       "_view_name": "StyleView",
       "description_width": ""
      }
     },
     "efcc470f6aa244f1aa413ee098fa2a87": {
      "model_module": "@jupyter-widgets/base",
      "model_module_version": "1.2.0",
      "model_name": "LayoutModel",
      "state": {
       "_model_module": "@jupyter-widgets/base",
       "_model_module_version": "1.2.0",
       "_model_name": "LayoutModel",
       "_view_count": null,
       "_view_module": "@jupyter-widgets/base",
       "_view_module_version": "1.2.0",
       "_view_name": "LayoutView",
       "align_content": null,
       "align_items": null,
       "align_self": null,
       "border": null,
       "bottom": null,
       "display": null,
       "flex": null,
       "flex_flow": null,
       "grid_area": null,
       "grid_auto_columns": null,
       "grid_auto_flow": null,
       "grid_auto_rows": null,
       "grid_column": null,
       "grid_gap": null,
       "grid_row": null,
       "grid_template_areas": null,
       "grid_template_columns": null,
       "grid_template_rows": null,
       "height": null,
       "justify_content": null,
       "justify_items": null,
       "left": null,
       "margin": null,
       "max_height": null,
       "max_width": null,
       "min_height": null,
       "min_width": null,
       "object_fit": null,
       "object_position": null,
       "order": null,
       "overflow": null,
       "overflow_x": null,
       "overflow_y": null,
       "padding": null,
       "right": null,
       "top": null,
       "visibility": null,
       "width": null
      }
     },
     "f34e559ec87e48119822947f6567bd31": {
      "model_module": "@jupyter-widgets/controls",
      "model_module_version": "1.5.0",
      "model_name": "ProgressStyleModel",
      "state": {
       "_model_module": "@jupyter-widgets/controls",
       "_model_module_version": "1.5.0",
       "_model_name": "ProgressStyleModel",
       "_view_count": null,
       "_view_module": "@jupyter-widgets/base",
       "_view_module_version": "1.2.0",
       "_view_name": "StyleView",
       "bar_color": null,
       "description_width": ""
      }
     },
     "f35b9f9ad84a44a09bd01d02b9a92f65": {
      "model_module": "@jupyter-widgets/base",
      "model_module_version": "1.2.0",
      "model_name": "LayoutModel",
      "state": {
       "_model_module": "@jupyter-widgets/base",
       "_model_module_version": "1.2.0",
       "_model_name": "LayoutModel",
       "_view_count": null,
       "_view_module": "@jupyter-widgets/base",
       "_view_module_version": "1.2.0",
       "_view_name": "LayoutView",
       "align_content": null,
       "align_items": null,
       "align_self": null,
       "border": null,
       "bottom": null,
       "display": null,
       "flex": null,
       "flex_flow": null,
       "grid_area": null,
       "grid_auto_columns": null,
       "grid_auto_flow": null,
       "grid_auto_rows": null,
       "grid_column": null,
       "grid_gap": null,
       "grid_row": null,
       "grid_template_areas": null,
       "grid_template_columns": null,
       "grid_template_rows": null,
       "height": null,
       "justify_content": null,
       "justify_items": null,
       "left": null,
       "margin": null,
       "max_height": null,
       "max_width": null,
       "min_height": null,
       "min_width": null,
       "object_fit": null,
       "object_position": null,
       "order": null,
       "overflow": null,
       "overflow_x": null,
       "overflow_y": null,
       "padding": null,
       "right": null,
       "top": null,
       "visibility": null,
       "width": null
      }
     },
     "f3b9abc1eff245feb43ab1d0ff366141": {
      "model_module": "@jupyter-widgets/controls",
      "model_module_version": "1.5.0",
      "model_name": "DescriptionStyleModel",
      "state": {
       "_model_module": "@jupyter-widgets/controls",
       "_model_module_version": "1.5.0",
       "_model_name": "DescriptionStyleModel",
       "_view_count": null,
       "_view_module": "@jupyter-widgets/base",
       "_view_module_version": "1.2.0",
       "_view_name": "StyleView",
       "description_width": ""
      }
     },
     "f9a5e6595e6c49ac8627b66bdef276ec": {
      "model_module": "@jupyter-widgets/base",
      "model_module_version": "1.2.0",
      "model_name": "LayoutModel",
      "state": {
       "_model_module": "@jupyter-widgets/base",
       "_model_module_version": "1.2.0",
       "_model_name": "LayoutModel",
       "_view_count": null,
       "_view_module": "@jupyter-widgets/base",
       "_view_module_version": "1.2.0",
       "_view_name": "LayoutView",
       "align_content": null,
       "align_items": null,
       "align_self": null,
       "border": null,
       "bottom": null,
       "display": null,
       "flex": null,
       "flex_flow": null,
       "grid_area": null,
       "grid_auto_columns": null,
       "grid_auto_flow": null,
       "grid_auto_rows": null,
       "grid_column": null,
       "grid_gap": null,
       "grid_row": null,
       "grid_template_areas": null,
       "grid_template_columns": null,
       "grid_template_rows": null,
       "height": null,
       "justify_content": null,
       "justify_items": null,
       "left": null,
       "margin": null,
       "max_height": null,
       "max_width": null,
       "min_height": null,
       "min_width": null,
       "object_fit": null,
       "object_position": null,
       "order": null,
       "overflow": null,
       "overflow_x": null,
       "overflow_y": null,
       "padding": null,
       "right": null,
       "top": null,
       "visibility": null,
       "width": null
      }
     },
     "fa5e63ee1c534b57aec2499cb23c764a": {
      "model_module": "@jupyter-widgets/controls",
      "model_module_version": "1.5.0",
      "model_name": "HBoxModel",
      "state": {
       "_dom_classes": [],
       "_model_module": "@jupyter-widgets/controls",
       "_model_module_version": "1.5.0",
       "_model_name": "HBoxModel",
       "_view_count": null,
       "_view_module": "@jupyter-widgets/controls",
       "_view_module_version": "1.5.0",
       "_view_name": "HBoxView",
       "box_style": "",
       "children": [
        "IPY_MODEL_5ae8c5492d904bb9b8a1a0c63a8184e1",
        "IPY_MODEL_4e2a10b2f8054ba8a41a4a4927b72313",
        "IPY_MODEL_bcda1a0d986e4150b780f48514a3ac34"
       ],
       "layout": "IPY_MODEL_2ca84e9dd0e54227bb4e26e8a93cf654"
      }
     },
     "fab2ed3c34434ae1afb2490a3ad34fe9": {
      "model_module": "@jupyter-widgets/base",
      "model_module_version": "1.2.0",
      "model_name": "LayoutModel",
      "state": {
       "_model_module": "@jupyter-widgets/base",
       "_model_module_version": "1.2.0",
       "_model_name": "LayoutModel",
       "_view_count": null,
       "_view_module": "@jupyter-widgets/base",
       "_view_module_version": "1.2.0",
       "_view_name": "LayoutView",
       "align_content": null,
       "align_items": null,
       "align_self": null,
       "border": null,
       "bottom": null,
       "display": null,
       "flex": null,
       "flex_flow": null,
       "grid_area": null,
       "grid_auto_columns": null,
       "grid_auto_flow": null,
       "grid_auto_rows": null,
       "grid_column": null,
       "grid_gap": null,
       "grid_row": null,
       "grid_template_areas": null,
       "grid_template_columns": null,
       "grid_template_rows": null,
       "height": null,
       "justify_content": null,
       "justify_items": null,
       "left": null,
       "margin": null,
       "max_height": null,
       "max_width": null,
       "min_height": null,
       "min_width": null,
       "object_fit": null,
       "object_position": null,
       "order": null,
       "overflow": null,
       "overflow_x": null,
       "overflow_y": null,
       "padding": null,
       "right": null,
       "top": null,
       "visibility": null,
       "width": null
      }
     },
     "faefb8c8e5934e0aa6e032bfe0d9f66f": {
      "model_module": "@jupyter-widgets/controls",
      "model_module_version": "1.5.0",
      "model_name": "DescriptionStyleModel",
      "state": {
       "_model_module": "@jupyter-widgets/controls",
       "_model_module_version": "1.5.0",
       "_model_name": "DescriptionStyleModel",
       "_view_count": null,
       "_view_module": "@jupyter-widgets/base",
       "_view_module_version": "1.2.0",
       "_view_name": "StyleView",
       "description_width": ""
      }
     },
     "ffcfe7c12cd84914b02c29aa45e1237e": {
      "model_module": "@jupyter-widgets/controls",
      "model_module_version": "1.5.0",
      "model_name": "HTMLModel",
      "state": {
       "_dom_classes": [],
       "_model_module": "@jupyter-widgets/controls",
       "_model_module_version": "1.5.0",
       "_model_name": "HTMLModel",
       "_view_count": null,
       "_view_module": "@jupyter-widgets/controls",
       "_view_module_version": "1.5.0",
       "_view_name": "HTMLView",
       "description": "",
       "description_tooltip": null,
       "layout": "IPY_MODEL_81e2e8d4338246c492d1208bd472a76b",
       "placeholder": "​",
       "style": "IPY_MODEL_beb6ce5a72754e2b9bbbd831c551b9b9",
       "value": " 456k/456k [00:00&lt;00:00, 891kB/s]"
      }
     }
    },
    "version_major": 2,
    "version_minor": 0
   }
  }
 },
 "nbformat": 4,
 "nbformat_minor": 5
}
